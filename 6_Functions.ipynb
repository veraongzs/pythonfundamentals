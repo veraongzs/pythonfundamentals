{
 "cells": [
  {
   "cell_type": "markdown",
   "metadata": {
    "colab_type": "text",
    "id": "mKbPTYjqHVv1"
   },
   "source": [
    "# Functions - Synopsis\n",
    "\n",
    "In this unit we will learn that:\n",
    "\n",
    "1. **Modular** code is more readable, easier to maintain, and less prone to the creeping in of bugs.\n",
    "\n",
    "2. **Re-factoring** of code, that is, the re-writing and re-organizing of code, is a critical part of developing modular code.\n",
    "\n",
    "3. Functions are the underpins of modular code. They enable a programmer to avoid repeating lines of code across a project.\n",
    "\n",
    "    1. Descriptive function names increase code readability.\n",
    "    \n",
    "    2. Appropriate documentation of a function makes it easier to avoid logical errors.\n",
    "    "
   ]
  },
  {
   "cell_type": "code",
   "execution_count": null,
   "metadata": {
    "colab": {},
    "colab_type": "code",
    "id": "hYi-QdfZsjQk"
   },
   "outputs": [],
   "source": [
    "# first time you create your wheel\n",
    "# use a `hard rock` to make your wheel! This makes sense because it is the first time you have created the wheel!\n",
    "\n",
    "# The time you want to make the wheel again! You may then use another material to replicate the wheel creation process!\n",
    "# e.g you can then use rubber!, but that is before you have create template!"
   ]
  },
  {
   "cell_type": "markdown",
   "metadata": {
    "colab_type": "text",
    "id": "Jv3fbhX7HVv3"
   },
   "source": [
    "# Functions\n",
    "\n",
    "**Writing modular code is good!**\n",
    "\n",
    "**Functions** are the workhorses of modular programming in Python! So, what's a function?\n",
    "\n",
    "You were actually exposed to functions when you filled in your answers to the homework questions **inside** of a function structure. So whenever you see this syntax:\n",
    "\n",
    ">    def function_name():\n",
    ">\n",
    ">        statements\n",
    ">\n",
    ">        return something\n",
    "        \n",
    "that block of code is a function. \n",
    "\n",
    "Functions help us avoid repeating the same set of statements everytime we want to repeat a task. Functions increase code readibility. Functions make code revision and updating easier (you do not have to re-do revisions in all the places of your code where the task is needed. Functions make testing of your code easier and more reliable.\n",
    "\n",
    "In order to execute the code in a function, you use the syntax `function_name()`. If you do not \"call\" your function in your code, then it is never executed.  However, the Python interpreter will still check its code for synthax errors.\n"
   ]
  },
  {
   "cell_type": "code",
   "execution_count": 5,
   "metadata": {
    "colab": {},
    "colab_type": "code",
    "id": "WLn81IvXHVv4"
   },
   "outputs": [],
   "source": [
    "# Our own custom function\n",
    "\n",
    "def doubler(x):\n",
    "    \"\"\"\n",
    "    Returns double the input \n",
    "    \"\"\"\n",
    "    # docstring\n",
    "    return 2 * x"
   ]
  },
  {
   "cell_type": "code",
   "execution_count": 6,
   "metadata": {},
   "outputs": [
    {
     "data": {
      "text/plain": [
       "'\\ntriple quotes\\nare another\\nway to write\\nmulti-line\\ncomments\\n'"
      ]
     },
     "execution_count": 6,
     "metadata": {},
     "output_type": "execute_result"
    }
   ],
   "source": [
    "\"\"\"\n",
    "triple quotes\n",
    "are another\n",
    "way to write\n",
    "multi-line\n",
    "comments\n",
    "\"\"\" "
   ]
  },
  {
   "cell_type": "markdown",
   "metadata": {
    "colab_type": "text",
    "id": "-uRWRSqtHVv7"
   },
   "source": [
    "You just wrote a simple function! Notice that after writing it nothing was printed. That is because you didn't *call* the function, You only defined it so Python will know what on earth you're talking about should you so choose to write `mean_calculator` anywhere.\n",
    "\n",
    "You *call* a function just by writing its name along with the parentheses:"
   ]
  },
  {
   "cell_type": "code",
   "execution_count": 3,
   "metadata": {
    "colab": {
     "base_uri": "https://localhost:8080/",
     "height": 52
    },
    "colab_type": "code",
    "executionInfo": {
     "elapsed": 835,
     "status": "ok",
     "timestamp": 1590827601761,
     "user": {
      "displayName": "Desmond Sek",
      "photoUrl": "https://lh3.googleusercontent.com/a-/AOh14GjQj9ANFvLsRLkJAoNiRe9I6br32aYvAs1rqTwiF6M=s64",
      "userId": "15004601375355093954"
     },
     "user_tz": -480
    },
    "id": "pwOMMvpEHVv8",
    "outputId": "aa68ee24-1e29-499f-f91d-ce94229cd5ae"
   },
   "outputs": [
    {
     "name": "stdout",
     "output_type": "stream",
     "text": [
      "10\n"
     ]
    }
   ],
   "source": [
    "foo = doubler(5)\n",
    "print(foo)"
   ]
  },
  {
   "cell_type": "markdown",
   "metadata": {
    "colab_type": "text",
    "id": "8RWXFYOwHVwE"
   },
   "source": [
    "`print` is a **built-in** function. Given whatever input you pass it, the `print()` function prints that input to the screen. What happens if you do not provide an input?\n",
    "\n",
    "Now lets see how we can pass something to the string and return a value back."
   ]
  },
  {
   "cell_type": "markdown",
   "metadata": {},
   "source": [
    "### Passing Arguments to a function & Returning a Value"
   ]
  },
  {
   "cell_type": "code",
   "execution_count": 7,
   "metadata": {
    "colab": {},
    "colab_type": "code",
    "id": "tRPJYFlUHVwJ"
   },
   "outputs": [],
   "source": [
    "def hypo(a,b):\n",
    "    \"\"\"\n",
    "    Calculator for Pythagoras theorem\n",
    "    \"\"\"\n",
    "    c = (a**2 + b**2)**0.5\n",
    "    return c"
   ]
  },
  {
   "cell_type": "code",
   "execution_count": 8,
   "metadata": {
    "colab": {
     "base_uri": "https://localhost:8080/",
     "height": 35
    },
    "colab_type": "code",
    "executionInfo": {
     "elapsed": 1184,
     "status": "ok",
     "timestamp": 1590827854168,
     "user": {
      "displayName": "Desmond Sek",
      "photoUrl": "https://lh3.googleusercontent.com/a-/AOh14GjQj9ANFvLsRLkJAoNiRe9I6br32aYvAs1rqTwiF6M=s64",
      "userId": "15004601375355093954"
     },
     "user_tz": -480
    },
    "id": "oppwbHDoHVwO",
    "outputId": "58699856-71ca-401b-9c19-bcc110df7267"
   },
   "outputs": [
    {
     "data": {
      "text/plain": [
       "5.0"
      ]
     },
     "execution_count": 8,
     "metadata": {},
     "output_type": "execute_result"
    }
   ],
   "source": [
    "# Function testing\n",
    "hypo(3,4)"
   ]
  },
  {
   "cell_type": "markdown",
   "metadata": {
    "colab_type": "text",
    "id": "uUCwO5tPHVwS"
   },
   "source": [
    "**What's actually going on here?** \n",
    "\n",
    "The function took the values 10,5 as an input and assigned it **internally** to the variables `a` and `b`. It then performed an operation. Finally, it **returned** `a value`:\n",
    "    \n",
    "This statement returns the result of the functions operations to the place in the your code where the functions was called.\n",
    "\n",
    "The beauty of funtions, though not of this particular function which pretty much executes a single statement, is that we can call it on any input without having to re-write a lot of code."
   ]
  },
  {
   "cell_type": "markdown",
   "metadata": {
    "colab_type": "text",
    "id": "g-BXFTrqA-6t"
   },
   "source": [
    "## Exercise\n",
    "\n",
    "### Question: Assume a function takes in the salary for three months and add it up. Write a function to enable the same.\n",
    "\n",
    "`All the numbers should be passed as arguments to the function. Return the result.`"
   ]
  },
  {
   "cell_type": "code",
   "execution_count": 11,
   "metadata": {
    "colab": {
     "base_uri": "https://localhost:8080/",
     "height": 89
    },
    "colab_type": "code",
    "executionInfo": {
     "elapsed": 12080,
     "status": "ok",
     "timestamp": 1596268112753,
     "user": {
      "displayName": "A M Aditya",
      "photoUrl": "https://lh3.googleusercontent.com/a-/AOh14GgFVWgbF3Mg6wXstyZ41k2zGOCwgYmwsme0Ysan0cI=s64",
      "userId": "15341571102300750919"
     },
     "user_tz": -480
    },
    "id": "VSKtaY_QZVIc",
    "outputId": "04274e48-6b88-4a63-b241-f7bbce9a4ceb"
   },
   "outputs": [
    {
     "name": "stdout",
     "output_type": "stream",
     "text": [
      "Enter the first month salary:500\n",
      "Enter the second month salary:600\n",
      "Enter the third month salary:700\n",
      "The total salary over 3 months is $1800\n"
     ]
    }
   ],
   "source": [
    "# Define your function here:\n",
    "def sal(a,b,c):\n",
    "    \"\"\"\n",
    "    Adds up the salary for three months.\n",
    "    \"\"\"\n",
    "    d = a + b + c\n",
    "    return d\n",
    "\n",
    "# Take input\n",
    "var1 = int(input(\"Enter the first month salary:\"))\n",
    "var2 = int(input(\"Enter the second month salary:\"))\n",
    "var3 = int(input(\"Enter the third month salary:\"))\n",
    "\n",
    "# Invoke your function (test the function)\n",
    "total = sal(var1,var2,var3)\n",
    "\n",
    "# Print your output\n",
    "print(\"The total salary over 3 months is ${0}\".format(total))"
   ]
  }
 ],
 "metadata": {
  "colab": {
   "collapsed_sections": [],
   "name": "6_Functions.ipynb",
   "provenance": []
  },
  "kernelspec": {
   "display_name": "Python 3 (ipykernel)",
   "language": "python",
   "name": "python3"
  },
  "language_info": {
   "codemirror_mode": {
    "name": "ipython",
    "version": 3
   },
   "file_extension": ".py",
   "mimetype": "text/x-python",
   "name": "python",
   "nbconvert_exporter": "python",
   "pygments_lexer": "ipython3",
   "version": "3.9.12"
  }
 },
 "nbformat": 4,
 "nbformat_minor": 1
}
