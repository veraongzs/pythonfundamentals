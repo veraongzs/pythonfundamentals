{
 "cells": [
  {
   "cell_type": "markdown",
   "metadata": {
    "colab_type": "text",
    "id": "BdX2B8o0gs94"
   },
   "source": [
    "# Interacting with the Web (Part I) - Synopsis\n",
    "\n",
    "The Internet is a gigantic data dump. There is all the social networking data from Facebook, Twitter, and so on. There is the news from all the traditional media sources plus Quartz, Vox, and so on. Then there is the data from organizations such as the World Bank, the Bureau of Labor Statistics, the US Census, or Chicago's Data Portal.  Finally, you have all your scientific data sources: the National Cancer Institute, the ProteinBank, or the Kyoto Gene and Genomes Encyclopedia.\n",
    "\n",
    "How can you use Python to access those sites and retrieve data for your research, your business, or your hobby?\n",
    "\n",
    "There are two main approaches to retrieve data from websources. The preferred approach is using **Application Program Interfaces** or APIs.  If an organization has decided to share its data, and they have the forethought and resources to do it, they will develop an API that will let you interact with their data.\n",
    "\n",
    "If the organization does not have the forethought or resources to create an API (or if they do not want to share their data), then you have to **crawl** their website and **scrape** their data.\n"
   ]
  },
  {
   "cell_type": "markdown",
   "metadata": {
    "colab_type": "text",
    "id": "9_4wedVegs-C"
   },
   "source": [
    "# Application Program Interfaces\n",
    "\n",
    "\n",
    "APIs simplify the process of obtaining specific information from a data source.  You do not have to worry about figuring out the **format** in which the information is stored, or **where** the information is stored.  All of those matter are handled seamlessly by the API. \n",
    "\n",
    "But convenience is not the only advantage of an API. APIs are also particular useful when:\n",
    "\n",
    "* You want a small piece of a much larger set of data. **Reddit comments** are one example. What if you want to just pull your own comments on Reddit? It doesn’t make much sense to download the entire Reddit database, then filter just your own comments.\n",
    "    \n",
    "* There is repeated computation involved. **Spotify has an API that can tell you the genre of a piece of music**. You could theoretically create your own classifier, and use it to categorize music, but you’ll never have as much data as Spotify does.\n",
    "    \n",
    "* The data is changing quickly. An example of this is **stock price data**. It doesn’t really make sense to regenerate a dataset and download it every minute – this will take a lot of bandwidth, and be pretty slow.\n",
    "    \n",
    "    \n",
    "    \n",
    "### Making a request\n",
    "\n",
    "In order to learn how APIs work, we will first use the APIs developed to retrieve data on the **International Space Station (ISS)**.  The relevant APIs can be found at http://open-notify.org/.  We will first consider the API for retrieving the location (latitude and longitude) of the ISS (http://open-notify.org/Open-Notify-API/ISS-Location-Now/). The API is hosted at http://api.open-notify.org/iss-now.json. \n",
    "\n",
    "So, how do we make requests for information with this API?\n",
    "\n",
    "Like standard webpages, APIs are also hosted on web servers. When you type http://www.google.com in your browser’s address bar, your computer is actually asking the http://www.google.com server for a webpage, which it then returns it to your browser for display. That action is called a `request`. APIs work much the same way, except instead of your web browser asking for a webpage, your program asks for **data**. This data is usually returned in JSON format.\n",
    "\n",
    "There are many possible types of requests. The most common, and the one we will be using throughout this unit, is the `GET` request. A `GET` request simply accesses and downloads the webpage found at the URL you specified as an input. \n",
    "\n",
    "We will use the package [`requests`](http://docs.python-requests.org/en/latest/user/quickstart/) package to crawl (load) webpages and scrape (download) their contents."
   ]
  },
  {
   "cell_type": "code",
   "execution_count": null,
   "metadata": {
    "colab": {
     "base_uri": "https://localhost:8080/",
     "height": 52
    },
    "colab_type": "code",
    "executionInfo": {
     "elapsed": 721,
     "status": "ok",
     "timestamp": 1590830285609,
     "user": {
      "displayName": "Desmond Sek",
      "photoUrl": "https://lh3.googleusercontent.com/a-/AOh14GjQj9ANFvLsRLkJAoNiRe9I6br32aYvAs1rqTwiF6M=s64",
      "userId": "15004601375355093954"
     },
     "user_tz": -480
    },
    "id": "l6K2WIRAgs-I",
    "outputId": "9c7d4a5d-4c01-4c32-8ec1-3adf0ff723d5"
   },
   "outputs": [],
   "source": []
  },
  {
   "cell_type": "markdown",
   "metadata": {
    "colab_type": "text",
    "id": "ohto_9aXgs-Q"
   },
   "source": [
    "Methods from the `requests` package return `Response` objects. One of the most important properties of the response is its `status code`, which is printed by default but which we can also get explicitly.\n",
    "\n",
    "Here are some of the most common status codes you might encounter:\n",
    "* 200, **OK**. Standard response for successful HTTP requests. The actual response will depend on the request method used.\n",
    "* 301, **Moved Permanently**. The server is redirecting you to a different endpoint. This and all future requests should be directed to the given URL. This can happen when a company switches domain names, or an endpoint name is changed.\n",
    "* 303, **See Other**. The response to the request can be found under another URI using a GET method. When received in response to a POST (or PUT/DELETE), the client should presume that the server has received the data and should issue a redirect with a separate GET message. Your web browser automatically fetches the new URL but web crawlers do not usually do this unless you specify it.\n",
    "* 400, **Bad Request**. The server cannot or will not process the request due to an apparent client error (e.g., malformed request syntax, invalid request message framing, or deceptive request routing).\n",
    "* 401, **Unauthorized**. Similar to `403 Forbidden`, but specifically for use when authentication is required and has failed or has not yet been provided. The response must include a WWW-Authenticate header field containing a challenge applicable to the requested resource.\n",
    "* 403, **Forbidden**. The request was a valid request, but the server is refusing to respond to it. `403` error semantically means \"unauthorized\", i.e. the user does not have the necessary permissions for the resource.\n",
    "* 404, **Not Found**. The requested resource could not be found but may be available in the future. Subsequent requests by the client are permissible.\n",
    "* 500, **Internal Server Error**. A generic error message, given when an `unexpected` condition was encountered and no more specific message is suitable.\n",
    "* 503, **Service Unavailable**. The server is currently unavailable (because it is overloaded or down for maintenance). Generally, this is a temporary state.\n",
    "* 504, **Gateway Timeout**. The server was acting as a gateway or proxy and did not receive a timely response from the upstream server.[\n",
    "\n",
    "\n",
    "\n",
    "More codes: http://en.wikipedia.org/wiki/List_of_HTTP_status_codes"
   ]
  },
  {
   "cell_type": "markdown",
   "metadata": {
    "colab_type": "text",
    "id": "8oHLtnW0gs-T"
   },
   "source": [
    "The status code of our request was **200**. It means that all went well -- we successfully connected to the web address we wanted and downloaded its contents.\n",
    "\n",
    "But `status codes` are not the only methods available:"
   ]
  },
  {
   "cell_type": "code",
   "execution_count": null,
   "metadata": {
    "colab": {
     "base_uri": "https://localhost:8080/",
     "height": 35
    },
    "colab_type": "code",
    "executionInfo": {
     "elapsed": 827,
     "status": "ok",
     "timestamp": 1590830444773,
     "user": {
      "displayName": "Desmond Sek",
      "photoUrl": "https://lh3.googleusercontent.com/a-/AOh14GjQj9ANFvLsRLkJAoNiRe9I6br32aYvAs1rqTwiF6M=s64",
      "userId": "15004601375355093954"
     },
     "user_tz": -480
    },
    "id": "cdjOtmOBgs-W",
    "outputId": "2a312c9f-0f7e-41e8-8635-8ae6d8b390ea"
   },
   "outputs": [],
   "source": []
  },
  {
   "cell_type": "code",
   "execution_count": null,
   "metadata": {
    "colab": {
     "base_uri": "https://localhost:8080/",
     "height": 35
    },
    "colab_type": "code",
    "executionInfo": {
     "elapsed": 3051,
     "status": "ok",
     "timestamp": 1590830454043,
     "user": {
      "displayName": "Desmond Sek",
      "photoUrl": "https://lh3.googleusercontent.com/a-/AOh14GjQj9ANFvLsRLkJAoNiRe9I6br32aYvAs1rqTwiF6M=s64",
      "userId": "15004601375355093954"
     },
     "user_tz": -480
    },
    "id": "E22djxREgs-f",
    "outputId": "6b4d9360-991f-4d88-ac8e-bec5b1762a8a"
   },
   "outputs": [],
   "source": []
  },
  {
   "cell_type": "code",
   "execution_count": null,
   "metadata": {
    "colab": {
     "base_uri": "https://localhost:8080/",
     "height": 355
    },
    "colab_type": "code",
    "executionInfo": {
     "elapsed": 39747,
     "status": "error",
     "timestamp": 1590830671672,
     "user": {
      "displayName": "Desmond Sek",
      "photoUrl": "https://lh3.googleusercontent.com/a-/AOh14GjQj9ANFvLsRLkJAoNiRe9I6br32aYvAs1rqTwiF6M=s64",
      "userId": "15004601375355093954"
     },
     "user_tz": -480
    },
    "id": "Lf4dbNXPgdDw",
    "outputId": "9f5810fa-9ee3-4d8c-eb6e-ca4ef9b31758"
   },
   "outputs": [],
   "source": []
  },
  {
   "cell_type": "code",
   "execution_count": null,
   "metadata": {
    "colab": {
     "base_uri": "https://localhost:8080/",
     "height": 52
    },
    "colab_type": "code",
    "executionInfo": {
     "elapsed": 790,
     "status": "ok",
     "timestamp": 1590831077964,
     "user": {
      "displayName": "Desmond Sek",
      "photoUrl": "https://lh3.googleusercontent.com/a-/AOh14GjQj9ANFvLsRLkJAoNiRe9I6br32aYvAs1rqTwiF6M=s64",
      "userId": "15004601375355093954"
     },
     "user_tz": -480
    },
    "id": "tqmuwmjYgs-6",
    "outputId": "4b68f3fc-567c-4ea2-f38a-6a4c193100bd"
   },
   "outputs": [],
   "source": []
  },
  {
   "cell_type": "markdown",
   "metadata": {
    "colab_type": "text",
    "id": "lleIZ0sRgs_P"
   },
   "source": [
    "## **Exercise:** \n",
    "\n",
    "It is now time for you to try to use an API on your own. \n",
    "\n",
    "The last API available at [`Open Notify`](http://open-notify.org/) returns the number of astronauts in the ISS. (http://api.open-notify.org/astros.json) \n",
    "\n",
    "Write the code to access that information and print the number of astronauts aboard the ISS.\n",
    "\n",
    "\"The number of Astronauts on the ISS is X\"\n",
    "\n"
   ]
  },
  {
   "cell_type": "code",
   "execution_count": null,
   "metadata": {
    "colab": {
     "base_uri": "https://localhost:8080/",
     "height": 35
    },
    "colab_type": "code",
    "executionInfo": {
     "elapsed": 1536,
     "status": "ok",
     "timestamp": 1590831150105,
     "user": {
      "displayName": "Desmond Sek",
      "photoUrl": "https://lh3.googleusercontent.com/a-/AOh14GjQj9ANFvLsRLkJAoNiRe9I6br32aYvAs1rqTwiF6M=s64",
      "userId": "15004601375355093954"
     },
     "user_tz": -480
    },
    "id": "9xvkzSjpCNMg",
    "outputId": "f177f4aa-5ea9-41a8-c422-f273624e15be"
   },
   "outputs": [],
   "source": []
  },
  {
   "cell_type": "code",
   "execution_count": null,
   "metadata": {
    "colab": {
     "base_uri": "https://localhost:8080/",
     "height": 55
    },
    "colab_type": "code",
    "executionInfo": {
     "elapsed": 1517,
     "status": "ok",
     "timestamp": 1590831150891,
     "user": {
      "displayName": "Desmond Sek",
      "photoUrl": "https://lh3.googleusercontent.com/a-/AOh14GjQj9ANFvLsRLkJAoNiRe9I6br32aYvAs1rqTwiF6M=s64",
      "userId": "15004601375355093954"
     },
     "user_tz": -480
    },
    "id": "n1LONL_8De6F",
    "outputId": "416cbebe-ff99-4cc5-f490-319ba8c5ad3c"
   },
   "outputs": [],
   "source": []
  },
  {
   "cell_type": "code",
   "execution_count": null,
   "metadata": {
    "colab": {
     "base_uri": "https://localhost:8080/",
     "height": 52
    },
    "colab_type": "code",
    "executionInfo": {
     "elapsed": 746,
     "status": "ok",
     "timestamp": 1590831309096,
     "user": {
      "displayName": "Desmond Sek",
      "photoUrl": "https://lh3.googleusercontent.com/a-/AOh14GjQj9ANFvLsRLkJAoNiRe9I6br32aYvAs1rqTwiF6M=s64",
      "userId": "15004601375355093954"
     },
     "user_tz": -480
    },
    "id": "o0TIOqHsDjF9",
    "outputId": "9b880758-9368-4d65-93dc-a69647a92248"
   },
   "outputs": [],
   "source": []
  },
  {
   "cell_type": "markdown",
   "metadata": {},
   "source": [
    "`End of the workshop`"
   ]
  }
 ],
 "metadata": {
  "colab": {
   "collapsed_sections": [],
   "name": "4_Using_APIs.ipynb",
   "provenance": []
  },
  "kernelspec": {
   "display_name": "Python 3",
   "language": "python",
   "name": "python3"
  },
  "language_info": {
   "codemirror_mode": {
    "name": "ipython",
    "version": 3
   },
   "file_extension": ".py",
   "mimetype": "text/x-python",
   "name": "python",
   "nbconvert_exporter": "python",
   "pygments_lexer": "ipython3",
   "version": "3.7.3"
  }
 },
 "nbformat": 4,
 "nbformat_minor": 1
}
