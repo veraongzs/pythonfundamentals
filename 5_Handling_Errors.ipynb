{
 "cells": [
  {
   "cell_type": "markdown",
   "metadata": {
    "colab_type": "text",
    "id": "HhNyM6YQEPTZ"
   },
   "source": [
    "# Handling Errors - Synopsis\n",
    "\n",
    "In this unit we will learn that:\n",
    "\n",
    "1. **Programming errors** are inevitable as you develop code.\n",
    "\n",
    "    1. Syntax errors are easy to find (the code does not run or crashes) \n",
    "    \n",
    "    2. Type, Name, Index, Value, and Attribute errors are easy to find (the code crashes)\n",
    "    \n",
    "    3. Logical errors can be extremely hard to identify (the code may run and the results may appear plausible)\n",
    "    \n",
    "2. **Errors messages** can be extremely helpful in finding and correcting syntax errors and calculation or variable type errors.\n",
    "\n",
    "3. **Error handling** commands enable code to exit graciously when an exceptions occur.\n",
    "\n",
    "4. **Unit testing** is essential in order to avoid logical errors. \n",
    "\n",
    "\n",
    "\n",
    "\n"
   ]
  },
  {
   "cell_type": "markdown",
   "metadata": {
    "colab_type": "text",
    "id": "i9WFrgP5EPTc"
   },
   "source": [
    "# Programming and Errors\n",
    "\n",
    "As as programs grow in complexity and the number of lines of code and instructions for the computer to carry out grow, the more likely it is that our code will have errors. Already you've seen some errors as we've learned what can and can't be done, but now it's time look at errors in a more systematic manner. \n",
    "\n",
    "Just like there are different data types, there are also different error types. Having different error types helps us to more easily identify what has gone wrong in our code. \n",
    "\n",
    "## Syntax errors\n",
    "\n",
    "Like all programming languages, Python needs you to write code in a **syntaxically correct manner** so that it can understand your commands and translate them to the machine. If you don't follow the correct syntax in your code, such as not having matched parentheses, brackets, or quotations marks, your code will generate a `SyntaxError`."
   ]
  },
  {
   "cell_type": "code",
   "execution_count": 1,
   "metadata": {
    "colab": {
     "base_uri": "https://localhost:8080/",
     "height": 131
    },
    "colab_type": "code",
    "executionInfo": {
     "elapsed": 940,
     "status": "error",
     "timestamp": 1590826012958,
     "user": {
      "displayName": "Desmond Sek",
      "photoUrl": "https://lh3.googleusercontent.com/a-/AOh14GjQj9ANFvLsRLkJAoNiRe9I6br32aYvAs1rqTwiF6M=s64",
      "userId": "15004601375355093954"
     },
     "user_tz": -480
    },
    "id": "cIN69ZbEEPTd",
    "outputId": "356b0feb-c84c-4976-960e-3de8f5e43597"
   },
   "outputs": [
    {
     "ename": "SyntaxError",
     "evalue": "EOL while scanning string literal (2973963433.py, line 2)",
     "output_type": "error",
     "traceback": [
      "\u001b[0;36m  Input \u001b[0;32mIn [1]\u001b[0;36m\u001b[0m\n\u001b[0;31m    sentence = 'I am a sentence\u001b[0m\n\u001b[0m                               ^\u001b[0m\n\u001b[0;31mSyntaxError\u001b[0m\u001b[0;31m:\u001b[0m EOL while scanning string literal\n"
     ]
    }
   ],
   "source": [
    "value = 3\n",
    "sentence = 'I am a sentence\n",
    "print(value)"
   ]
  },
  {
   "cell_type": "code",
   "execution_count": 2,
   "metadata": {},
   "outputs": [],
   "source": [
    "# sentence is missing closing colon ''"
   ]
  },
  {
   "cell_type": "markdown",
   "metadata": {
    "colab_type": "text",
    "id": "RNyXZZoyEPTi"
   },
   "source": [
    "What you're seeing above is the **exception** and the **traceback**. The first part is the **traceback**.\n",
    "\n",
    "`File \"<ipython-input-2-a6097ed4dc2e>\"`\n",
    "\n",
    "It tells us the \"file\" that the compiler was processing when the error occurred. Since we are using an Jupyter notebook and are not calling any functions defined in external files, this line is not providing any additional information to us.\n",
    "\n",
    "We then learn that the error occurred at \n",
    "\n",
    "`line 2`\n",
    "\n",
    "and that the parsing problem occurred at \n",
    "\n",
    "`sentence = 'I am a sentence`\n",
    "\n",
    "**Be aware that this information isn't always accurate**. Depending upon the type of error and the complexity of the line of code, the actual error could be above or below where it points out that the error is occurring.\n",
    "\n",
    "The second part is the **exception**. \n",
    "\n",
    "`SyntaxError: EOL while scanning string literal`\n",
    "\n",
    "It tells us what issue generated the error. In this case, we have a `SyntaxError` because Python reached the end of the line (`EOL`) while it was scanning the string we started with `'` and it couldn't find the closing `'`.\n",
    "\n",
    "Another type of syntax error that can occur in Python is an `Indentation Error`.   Consider the following code snippet:"
   ]
  },
  {
   "cell_type": "code",
   "execution_count": 3,
   "metadata": {
    "colab": {
     "base_uri": "https://localhost:8080/",
     "height": 131
    },
    "colab_type": "code",
    "executionInfo": {
     "elapsed": 1814,
     "status": "error",
     "timestamp": 1590826123306,
     "user": {
      "displayName": "Desmond Sek",
      "photoUrl": "https://lh3.googleusercontent.com/a-/AOh14GjQj9ANFvLsRLkJAoNiRe9I6br32aYvAs1rqTwiF6M=s64",
      "userId": "15004601375355093954"
     },
     "user_tz": -480
    },
    "id": "c9GCH8C1EPTj",
    "outputId": "ff474428-6eeb-4363-e75a-56a5d93e5955"
   },
   "outputs": [
    {
     "ename": "IndentationError",
     "evalue": "unexpected indent (3991267067.py, line 3)",
     "output_type": "error",
     "traceback": [
      "\u001b[0;36m  Input \u001b[0;32mIn [3]\u001b[0;36m\u001b[0m\n\u001b[0;31m    print(i, j)\u001b[0m\n\u001b[0m    ^\u001b[0m\n\u001b[0;31mIndentationError\u001b[0m\u001b[0;31m:\u001b[0m unexpected indent\n"
     ]
    }
   ],
   "source": [
    "for i in range(3):\n",
    "  j = i * 2\n",
    "    print(i, j)\n"
   ]
  },
  {
   "cell_type": "code",
   "execution_count": 4,
   "metadata": {},
   "outputs": [
    {
     "name": "stdout",
     "output_type": "stream",
     "text": [
      "0 0\n",
      "1 2\n",
      "2 4\n"
     ]
    }
   ],
   "source": [
    "# Excessive indentation\n",
    "# 1 : should have 1 indent only\n",
    "\n",
    "for i in range(3):\n",
    "    j = i * 2\n",
    "    print(i, j)\n"
   ]
  },
  {
   "cell_type": "markdown",
   "metadata": {
    "colab_type": "text",
    "id": "kdzad5qrEPTn"
   },
   "source": [
    "The third line in the code snippet - `print(i, j)` - should be aligned vertically with the beginning of the second line - `j = i * 2` - but it is not. "
   ]
  },
  {
   "cell_type": "markdown",
   "metadata": {
    "colab_type": "text",
    "id": "0AVkxXbjEPTp"
   },
   "source": [
    "## Type errors\n",
    "\n",
    "A very common Python error is the `TypeError`. This happens when we try to use a method that is for one data type on another data type that does not support it. Remember how strings cannot be subtracted or divided? "
   ]
  },
  {
   "cell_type": "code",
   "execution_count": 5,
   "metadata": {
    "colab": {
     "base_uri": "https://localhost:8080/",
     "height": 235
    },
    "colab_type": "code",
    "executionInfo": {
     "elapsed": 1028,
     "status": "error",
     "timestamp": 1590826228818,
     "user": {
      "displayName": "Desmond Sek",
      "photoUrl": "https://lh3.googleusercontent.com/a-/AOh14GjQj9ANFvLsRLkJAoNiRe9I6br32aYvAs1rqTwiF6M=s64",
      "userId": "15004601375355093954"
     },
     "user_tz": -480
    },
    "id": "jfMZcnRVEPTq",
    "outputId": "9fdaa789-1baa-489e-a4a9-4dcc396a4a7a"
   },
   "outputs": [
    {
     "name": "stdout",
     "output_type": "stream",
     "text": [
      "catdog\n"
     ]
    },
    {
     "ename": "TypeError",
     "evalue": "unsupported operand type(s) for -: 'str' and 'str'",
     "output_type": "error",
     "traceback": [
      "\u001b[0;31m---------------------------------------------------------------------------\u001b[0m",
      "\u001b[0;31mTypeError\u001b[0m                                 Traceback (most recent call last)",
      "Input \u001b[0;32mIn [5]\u001b[0m, in \u001b[0;36m<cell line: 3>\u001b[0;34m()\u001b[0m\n\u001b[1;32m      1\u001b[0m new_string \u001b[38;5;241m=\u001b[39m \u001b[38;5;124m'\u001b[39m\u001b[38;5;124mcat\u001b[39m\u001b[38;5;124m'\u001b[39m \u001b[38;5;241m+\u001b[39m \u001b[38;5;124m'\u001b[39m\u001b[38;5;124mdog\u001b[39m\u001b[38;5;124m'\u001b[39m\n\u001b[1;32m      2\u001b[0m \u001b[38;5;28mprint\u001b[39m(new_string)\n\u001b[0;32m----> 3\u001b[0m new_string \u001b[38;5;241m=\u001b[39m \u001b[38;5;124;43m'\u001b[39;49m\u001b[38;5;124;43mcat\u001b[39;49m\u001b[38;5;124;43m'\u001b[39;49m\u001b[43m \u001b[49m\u001b[38;5;241;43m-\u001b[39;49m\u001b[43m \u001b[49m\u001b[38;5;124;43m'\u001b[39;49m\u001b[38;5;124;43mdog\u001b[39;49m\u001b[38;5;124;43m'\u001b[39;49m\n\u001b[1;32m      4\u001b[0m \u001b[38;5;28mprint\u001b[39m(new_string)\n",
      "\u001b[0;31mTypeError\u001b[0m: unsupported operand type(s) for -: 'str' and 'str'"
     ]
    }
   ],
   "source": [
    "new_string = 'cat' + 'dog'\n",
    "print(new_string)\n",
    "\n",
    "new_string = 'cat' - 'dog'\n",
    "print(new_string)\n",
    "# unfixable error: cannot substract strings"
   ]
  },
  {
   "cell_type": "markdown",
   "metadata": {
    "colab_type": "text",
    "id": "zqrWvxFoEPTt"
   },
   "source": [
    "As you can see, the Python interpreter correctly executed the first two lines of our code and printed\n",
    "\n",
    "`catdog`\n",
    "\n",
    "Also, as expected, Python tells the line the error occurred on. Python does not have a rule for how to subtract strings, so it lets us know that the operation `-` is not supported and informs us that this is a `TypeError`."
   ]
  },
  {
   "cell_type": "code",
   "execution_count": 7,
   "metadata": {
    "colab": {
     "base_uri": "https://localhost:8080/",
     "height": 252
    },
    "colab_type": "code",
    "executionInfo": {
     "elapsed": 931,
     "status": "error",
     "timestamp": 1590826283986,
     "user": {
      "displayName": "Desmond Sek",
      "photoUrl": "https://lh3.googleusercontent.com/a-/AOh14GjQj9ANFvLsRLkJAoNiRe9I6br32aYvAs1rqTwiF6M=s64",
      "userId": "15004601375355093954"
     },
     "user_tz": -480
    },
    "id": "nYEh_gXNEPTu",
    "outputId": "218b23ca-b9c5-4d88-ba74-c6b0ec86a119"
   },
   "outputs": [
    {
     "name": "stdout",
     "output_type": "stream",
     "text": [
      "catcatcat\n",
      "catdog\n"
     ]
    },
    {
     "ename": "TypeError",
     "evalue": "unsupported operand type(s) for /: 'str' and 'int'",
     "output_type": "error",
     "traceback": [
      "\u001b[0;31m---------------------------------------------------------------------------\u001b[0m",
      "\u001b[0;31mTypeError\u001b[0m                                 Traceback (most recent call last)",
      "Input \u001b[0;32mIn [7]\u001b[0m, in \u001b[0;36m<cell line: 7>\u001b[0;34m()\u001b[0m\n\u001b[1;32m      4\u001b[0m new_string \u001b[38;5;241m=\u001b[39m \u001b[38;5;124m'\u001b[39m\u001b[38;5;124mcat\u001b[39m\u001b[38;5;124m'\u001b[39m \u001b[38;5;241m+\u001b[39m \u001b[38;5;124m'\u001b[39m\u001b[38;5;124mdog\u001b[39m\u001b[38;5;124m'\u001b[39m\n\u001b[1;32m      5\u001b[0m \u001b[38;5;28mprint\u001b[39m(new_string)\n\u001b[0;32m----> 7\u001b[0m new_string \u001b[38;5;241m=\u001b[39m \u001b[38;5;124;43m'\u001b[39;49m\u001b[38;5;124;43mcat\u001b[39;49m\u001b[38;5;124;43m'\u001b[39;49m\u001b[43m \u001b[49m\u001b[38;5;241;43m/\u001b[39;49m\u001b[43m \u001b[49m\u001b[38;5;241;43m3\u001b[39;49m\n\u001b[1;32m      8\u001b[0m \u001b[38;5;28mprint\u001b[39m(new_string)\n",
      "\u001b[0;31mTypeError\u001b[0m: unsupported operand type(s) for /: 'str' and 'int'"
     ]
    }
   ],
   "source": [
    "new_string = 'cat' * 3\n",
    "print(new_string)\n",
    "\n",
    "new_string = 'cat' + 'dog'\n",
    "print(new_string)\n",
    "\n",
    "new_string = 'cat' / 3\n",
    "print(new_string)\n",
    "# unfixable error: cannot float divide strings"
   ]
  },
  {
   "cell_type": "markdown",
   "metadata": {
    "colab_type": "text",
    "id": "s5biRIZLEPTx"
   },
   "source": [
    "We see that here is a `TypeError` in line 4.  Why don't you correct it and see what happens next?\n",
    "\n",
    "**Remember:** The type of data you're working with really matters, and that's what `TypeError`'s are all about. A valid operation for a `list` might not work for a `tuple` and Python will try to remind you of that fact.\n",
    "\n",
    "## Name errors\n",
    "\n",
    "Variables in Python must be initialized before they can be used.  If we try to use a variable prior to initialization, we will get a `NameError`. For example, imagine we try to use the new variable `party`"
   ]
  },
  {
   "cell_type": "code",
   "execution_count": 6,
   "metadata": {
    "colab": {
     "base_uri": "https://localhost:8080/",
     "height": 183
    },
    "colab_type": "code",
    "executionInfo": {
     "elapsed": 1416,
     "status": "error",
     "timestamp": 1590826307472,
     "user": {
      "displayName": "Desmond Sek",
      "photoUrl": "https://lh3.googleusercontent.com/a-/AOh14GjQj9ANFvLsRLkJAoNiRe9I6br32aYvAs1rqTwiF6M=s64",
      "userId": "15004601375355093954"
     },
     "user_tz": -480
    },
    "id": "TPQ7Y2XdEPTy",
    "outputId": "5d54c000-0afa-437b-921e-01d8064ecf0a"
   },
   "outputs": [
    {
     "ename": "NameError",
     "evalue": "name 'party2' is not defined",
     "output_type": "error",
     "traceback": [
      "\u001b[0;31m---------------------------------------------------------------------------\u001b[0m",
      "\u001b[0;31mNameError\u001b[0m                                 Traceback (most recent call last)",
      "Input \u001b[0;32mIn [6]\u001b[0m, in \u001b[0;36m<cell line: 2>\u001b[0;34m()\u001b[0m\n\u001b[1;32m      1\u001b[0m party \u001b[38;5;241m=\u001b[39m \u001b[38;5;241m5\u001b[39m\n\u001b[0;32m----> 2\u001b[0m \u001b[38;5;28mprint\u001b[39m( \u001b[43mparty2\u001b[49m )\n",
      "\u001b[0;31mNameError\u001b[0m: name 'party2' is not defined"
     ]
    }
   ],
   "source": [
    "party = 5\n",
    "print( party2 )"
   ]
  },
  {
   "cell_type": "markdown",
   "metadata": {
    "colab_type": "text",
    "id": "qmh-xpsxEPT1"
   },
   "source": [
    "## Index errors\n",
    "\n",
    "\n",
    "As you will remember, specific characters in a string can be accessed using an `index`. The index ranges from 0 to the length of the string minus one.  If we try to access a character in a string by index, and that index doesn't exist in the variable, the Python interpreter returns an `IndexError`."
   ]
  },
  {
   "cell_type": "code",
   "execution_count": 10,
   "metadata": {
    "colab": {
     "base_uri": "https://localhost:8080/",
     "height": 217
    },
    "colab_type": "code",
    "executionInfo": {
     "elapsed": 922,
     "status": "error",
     "timestamp": 1590826333049,
     "user": {
      "displayName": "Desmond Sek",
      "photoUrl": "https://lh3.googleusercontent.com/a-/AOh14GjQj9ANFvLsRLkJAoNiRe9I6br32aYvAs1rqTwiF6M=s64",
      "userId": "15004601375355093954"
     },
     "user_tz": -480
    },
    "id": "Xqli--jpEPT2",
    "outputId": "82968a6f-31f7-4b15-ad98-f962d9898eeb"
   },
   "outputs": [
    {
     "name": "stdout",
     "output_type": "stream",
     "text": [
      "c\n",
      "g\n"
     ]
    }
   ],
   "source": [
    "example_string = 'abcdefg'\n",
    "print( example_string[2] ) \n",
    "# print( example_string[12] ) \n",
    "\n",
    "# last index is always -1\n",
    "print(example_string[-1])"
   ]
  },
  {
   "cell_type": "markdown",
   "metadata": {
    "colab_type": "text",
    "id": "9HItuXOjEPT5"
   },
   "source": [
    "A similar type of error is a `KeyError` which can occur when dealing with a very powerful data type we will describe later;   dictionaries. \n",
    "\n",
    "## Value errors\n",
    "\n",
    "Functions (or methods) in Python are written to only work with arguments of specific types. If we call a function with a non-compliant argument, we get a `ValueError`. "
   ]
  },
  {
   "cell_type": "code",
   "execution_count": 11,
   "metadata": {
    "colab": {
     "base_uri": "https://localhost:8080/",
     "height": 252
    },
    "colab_type": "code",
    "executionInfo": {
     "elapsed": 994,
     "status": "error",
     "timestamp": 1590826358994,
     "user": {
      "displayName": "Desmond Sek",
      "photoUrl": "https://lh3.googleusercontent.com/a-/AOh14GjQj9ANFvLsRLkJAoNiRe9I6br32aYvAs1rqTwiF6M=s64",
      "userId": "15004601375355093954"
     },
     "user_tz": -480
    },
    "id": "OG69rxhvEPT7",
    "outputId": "57cb147b-2287-40d6-cdb3-68219f283f73"
   },
   "outputs": [
    {
     "name": "stdout",
     "output_type": "stream",
     "text": [
      "abcd\n",
      "<class 'str'>\n",
      "4\n"
     ]
    },
    {
     "ename": "ValueError",
     "evalue": "could not convert string to float: 'abcd'",
     "output_type": "error",
     "traceback": [
      "\u001b[0;31m---------------------------------------------------------------------------\u001b[0m",
      "\u001b[0;31mValueError\u001b[0m                                Traceback (most recent call last)",
      "Input \u001b[0;32mIn [11]\u001b[0m, in \u001b[0;36m<cell line: 6>\u001b[0;34m()\u001b[0m\n\u001b[1;32m      4\u001b[0m \u001b[38;5;28mprint\u001b[39m( \u001b[38;5;28mtype\u001b[39m(example_string) ) \u001b[38;5;66;03m# fata type\u001b[39;00m\n\u001b[1;32m      5\u001b[0m \u001b[38;5;28mprint\u001b[39m( \u001b[38;5;28mlen\u001b[39m(example_string) ) \u001b[38;5;66;03m# for the length\u001b[39;00m\n\u001b[0;32m----> 6\u001b[0m \u001b[38;5;28;43mfloat\u001b[39;49m\u001b[43m(\u001b[49m\u001b[43mexample_string\u001b[49m\u001b[43m)\u001b[49m\n",
      "\u001b[0;31mValueError\u001b[0m: could not convert string to float: 'abcd'"
     ]
    }
   ],
   "source": [
    "example_string = 'abcd'\n",
    "\n",
    "print( example_string )\n",
    "print( type(example_string) ) # data type\n",
    "print( len(example_string) ) # for the length\n",
    "\n",
    "float(example_string)\n",
    "# cannot call float() on an alphabetical string\n"
   ]
  },
  {
   "cell_type": "markdown",
   "metadata": {
    "colab_type": "text",
    "id": "awnyvrIU2-T6"
   },
   "source": []
  },
  {
   "cell_type": "markdown",
   "metadata": {
    "colab_type": "text",
    "id": "XVph-oWhEPT-"
   },
   "source": [
    "## Attribute errors\n",
    "\n",
    "Many Python objects have attributes that can be easily retrieved using the name of the attribute. For example, an attribute of a string is its capitalized form or its upper case form. However, while one can obtain the length of a string using the default function `len()`, strings do not have a `len()` attribute."
   ]
  },
  {
   "cell_type": "code",
   "execution_count": 12,
   "metadata": {
    "colab": {
     "base_uri": "https://localhost:8080/",
     "height": 269
    },
    "colab_type": "code",
    "executionInfo": {
     "elapsed": 1163,
     "status": "error",
     "timestamp": 1590826411638,
     "user": {
      "displayName": "Desmond Sek",
      "photoUrl": "https://lh3.googleusercontent.com/a-/AOh14GjQj9ANFvLsRLkJAoNiRe9I6br32aYvAs1rqTwiF6M=s64",
      "userId": "15004601375355093954"
     },
     "user_tz": -480
    },
    "id": "-CaAKNfsEPT_",
    "outputId": "f3b7287d-f018-4ec0-a0f4-c8f5381f9ab3"
   },
   "outputs": [
    {
     "name": "stdout",
     "output_type": "stream",
     "text": [
      "Abcd\n",
      "ABCD\n",
      "abcd\n",
      "4\n"
     ]
    },
    {
     "ename": "AttributeError",
     "evalue": "'str' object has no attribute 'len'",
     "output_type": "error",
     "traceback": [
      "\u001b[0;31m---------------------------------------------------------------------------\u001b[0m",
      "\u001b[0;31mAttributeError\u001b[0m                            Traceback (most recent call last)",
      "Input \u001b[0;32mIn [12]\u001b[0m, in \u001b[0;36m<cell line: 5>\u001b[0;34m()\u001b[0m\n\u001b[1;32m      3\u001b[0m \u001b[38;5;28mprint\u001b[39m( example_string\u001b[38;5;241m.\u001b[39mlower() )\n\u001b[1;32m      4\u001b[0m \u001b[38;5;28mprint\u001b[39m( \u001b[38;5;28mlen\u001b[39m(example_string) )\n\u001b[0;32m----> 5\u001b[0m \u001b[38;5;28mprint\u001b[39m( \u001b[43mexample_string\u001b[49m\u001b[38;5;241;43m.\u001b[39;49m\u001b[43mlen\u001b[49m() )\n",
      "\u001b[0;31mAttributeError\u001b[0m: 'str' object has no attribute 'len'"
     ]
    }
   ],
   "source": [
    "print( example_string.capitalize() )\n",
    "print( example_string.upper() )\n",
    "print( example_string.lower() )\n",
    "print( len(example_string) )\n",
    "\n",
    "print( example_string.len() )\n",
    "# .len string method does not exist. "
   ]
  },
  {
   "cell_type": "markdown",
   "metadata": {
    "colab_type": "text",
    "id": "TFeEn_cIEPUB"
   },
   "source": [
    "The examples above illustrate some of the errors that you are most likely to encounter when programming. For the full list of exceptions and errors you can refer to the official Python documentation.\n",
    "\n",
    "Python Built-in Exceptions docs:\n",
    "https://docs.python.org/3.4/library/exceptions.html\n",
    "\n",
    "Python Error Handling docs:\n",
    "https://docs.python.org/3.4/tutorial/errors.html\n",
    "\n",
    "The important thing to remember is to look at the error message. It takes a little bit of practice but pretty soon you'll be able to see that the Python interpreter is trying its hardest to tell you exactly where and why you made a mistake."
   ]
  },
  {
   "cell_type": "markdown",
   "metadata": {
    "colab_type": "text",
    "id": "nlhpLAvuEPUC"
   },
   "source": [
    "+++"
   ]
  },
  {
   "cell_type": "markdown",
   "metadata": {
    "colab_type": "text",
    "id": "GgVKi_8iEPUD"
   },
   "source": [
    "## Handling exceptions\n",
    "\n",
    "Code with syntax errors will not run. However, code with other types of errors will still run until it comes upon an exception, at which point it will crash.  This is not nice. As much as possible, you will want to prevent your code from crashing so that you can save whatever information has been generated up to that point and also that you can tell the user of the program WHY the code crashed.\n",
    "\n",
    "Consider the following situation: We want to use the `input()` function to ask for a number and then return the square of that number."
   ]
  },
  {
   "cell_type": "code",
   "execution_count": 14,
   "metadata": {
    "colab": {
     "base_uri": "https://localhost:8080/",
     "height": 289
    },
    "colab_type": "code",
    "executionInfo": {
     "elapsed": 5171,
     "status": "error",
     "timestamp": 1590826569226,
     "user": {
      "displayName": "Desmond Sek",
      "photoUrl": "https://lh3.googleusercontent.com/a-/AOh14GjQj9ANFvLsRLkJAoNiRe9I6br32aYvAs1rqTwiF6M=s64",
      "userId": "15004601375355093954"
     },
     "user_tz": -480
    },
    "id": "WLhAqGZxEPUE",
    "outputId": "0f6fd0fc-c00e-4475-8eb2-e5a55cdea64e"
   },
   "outputs": [
    {
     "name": "stdout",
     "output_type": "stream",
     "text": [
      "What number do you want to know the square of? a\n",
      "<class 'str'>\n"
     ]
    },
    {
     "ename": "ValueError",
     "evalue": "invalid literal for int() with base 10: 'a'",
     "output_type": "error",
     "traceback": [
      "\u001b[0;31m---------------------------------------------------------------------------\u001b[0m",
      "\u001b[0;31mValueError\u001b[0m                                Traceback (most recent call last)",
      "Input \u001b[0;32mIn [14]\u001b[0m, in \u001b[0;36m<cell line: 5>\u001b[0;34m()\u001b[0m\n\u001b[1;32m      2\u001b[0m \u001b[38;5;28mprint\u001b[39m( \u001b[38;5;28mtype\u001b[39m(number_to_square) )\n\u001b[1;32m      4\u001b[0m \u001b[38;5;66;03m# Note that number_to_square is a string, in order to perform calculations with it, we have to transform it to an integer\u001b[39;00m\n\u001b[0;32m----> 5\u001b[0m number \u001b[38;5;241m=\u001b[39m \u001b[38;5;28;43mint\u001b[39;49m\u001b[43m(\u001b[49m\u001b[43mnumber_to_square\u001b[49m\u001b[43m)\u001b[49m\n\u001b[1;32m      7\u001b[0m \u001b[38;5;28mprint\u001b[39m(\u001b[38;5;124m\"\u001b[39m\u001b[38;5;124mYour number squared is \u001b[39m\u001b[38;5;124m\"\u001b[39m, number\u001b[38;5;241m*\u001b[39m\u001b[38;5;241m*\u001b[39m\u001b[38;5;241m2\u001b[39m)\n",
      "\u001b[0;31mValueError\u001b[0m: invalid literal for int() with base 10: 'a'"
     ]
    }
   ],
   "source": [
    "number_to_square = input(\"What number do you want to know the square of? \")\n",
    "print( type(number_to_square) )\n",
    "\n",
    "# Note that number_to_square is a string, in order to perform calculations with it, we have to transform it to an integer\n",
    "number = int(number_to_square)\n",
    "\n",
    "print(\"Your number squared is \", number**2)"
   ]
  },
  {
   "cell_type": "markdown",
   "metadata": {
    "colab_type": "text",
    "id": "w4F2HbHlEPUG"
   },
   "source": [
    "But what would happen if you entered 'a' instead of 3? Try it!\n",
    "\n",
    ".\n",
    "\n",
    ".\n",
    "\n",
    ".\n",
    "\n",
    ".\n",
    "\n",
    ".\n",
    "\n",
    ".\n",
    "\n",
    ".\n",
    "\n",
    ".\n",
    "\n",
    ".\n",
    "\n",
    ".\n",
    "\n",
    ".\n",
    "\n",
    ".\n",
    "\n",
    ".\n",
    "\n",
    ".\n",
    "\n",
    ".\n",
    "\n",
    ".\n",
    "\n",
    ".\n",
    "\n",
    ".\n",
    "\n",
    ".\n",
    "\n",
    "\n",
    "You got a `ValueError` because you can't convert 'a' to an integer. \n",
    "\n",
    "In order to avoid having the program crash, we can use the `try ... except ...` construction so that we test for possible errors and avoid the crash."
   ]
  },
  {
   "cell_type": "code",
   "execution_count": 15,
   "metadata": {
    "colab": {
     "base_uri": "https://localhost:8080/",
     "height": 69
    },
    "colab_type": "code",
    "executionInfo": {
     "elapsed": 6644,
     "status": "ok",
     "timestamp": 1590826824043,
     "user": {
      "displayName": "Desmond Sek",
      "photoUrl": "https://lh3.googleusercontent.com/a-/AOh14GjQj9ANFvLsRLkJAoNiRe9I6br32aYvAs1rqTwiF6M=s64",
      "userId": "15004601375355093954"
     },
     "user_tz": -480
    },
    "id": "-79BfFgoEPUH",
    "outputId": "5ba11c6f-d239-4cd7-f479-51ed733751b5"
   },
   "outputs": [],
   "source": [
    "# Buffer Overflow is a cybersecurity attack by passing a malicious instruction via SQL "
   ]
  },
  {
   "cell_type": "code",
   "execution_count": 17,
   "metadata": {},
   "outputs": [
    {
     "name": "stdout",
     "output_type": "stream",
     "text": [
      "What number do you want to know the square of? a\n",
      "<class 'str'>\n",
      "You didn't enter an integer!\n"
     ]
    }
   ],
   "source": [
    "umber_to_square = input(\"What number do you want to know the square of? \")\n",
    "print( type(number_to_square) )\n",
    "\n",
    "# Note that number_to_square is a string, in order to perform calculations with it, we have to transform it to an integer\n",
    "try: \n",
    "    number = int(number_to_square)\n",
    "    print(\"Your number squared is \", number**2)\n",
    "except ValueError:\n",
    "    print(\"You didn't enter an integer!\")"
   ]
  },
  {
   "cell_type": "code",
   "execution_count": 16,
   "metadata": {
    "colab": {
     "base_uri": "https://localhost:8080/",
     "height": 35
    },
    "colab_type": "code",
    "executionInfo": {
     "elapsed": 890,
     "status": "ok",
     "timestamp": 1590826933399,
     "user": {
      "displayName": "Desmond Sek",
      "photoUrl": "https://lh3.googleusercontent.com/a-/AOh14GjQj9ANFvLsRLkJAoNiRe9I6br32aYvAs1rqTwiF6M=s64",
      "userId": "15004601375355093954"
     },
     "user_tz": -480
    },
    "id": "tw5xrtdTmW4-",
    "outputId": "58a6ce9f-364f-4edc-cbf5-6cde9ff712b9"
   },
   "outputs": [
    {
     "name": "stdout",
     "output_type": "stream",
     "text": [
      "Wrong variable name\n"
     ]
    }
   ],
   "source": [
    "party = 5\n",
    "try:\n",
    "    print(party7)\n",
    "except NameError:\n",
    "    print(\"Wrong variable name\")"
   ]
  },
  {
   "cell_type": "code",
   "execution_count": null,
   "metadata": {
    "colab": {
     "base_uri": "https://localhost:8080/",
     "height": 35
    },
    "colab_type": "code",
    "executionInfo": {
     "elapsed": 950,
     "status": "ok",
     "timestamp": 1590826936906,
     "user": {
      "displayName": "Desmond Sek",
      "photoUrl": "https://lh3.googleusercontent.com/a-/AOh14GjQj9ANFvLsRLkJAoNiRe9I6br32aYvAs1rqTwiF6M=s64",
      "userId": "15004601375355093954"
     },
     "user_tz": -480
    },
    "id": "j1mfZ7NvmiVg",
    "outputId": "6c317e6c-c520-48b8-de22-0aedee21e1b1"
   },
   "outputs": [],
   "source": []
  },
  {
   "cell_type": "markdown",
   "metadata": {
    "colab_type": "text",
    "id": "rIaphlGtEPUJ"
   },
   "source": [
    "When you are writing code that takes as inputs information provided by a user or from a source over which you have no control, **it is crucial that you test your code for all possible types of inputs**. That way you will prevent the user from having the pleasure of making your code crash.\n",
    "\n",
    "However, if the functions in your code are taking as input only information that is generated internally by your code, you will not need to make those checks.  **This does not mean that your code will not generate exceptions**. Your code might very well generate exceptions because of logical errors in your code: **That is your code might not be doing what you expect it to be doing!**\n",
    "\n"
   ]
  }
 ],
 "metadata": {
  "anaconda-cloud": {},
  "colab": {
   "collapsed_sections": [],
   "name": "5_Handling_Errors.ipynb",
   "provenance": []
  },
  "kernelspec": {
   "display_name": "Python 3 (ipykernel)",
   "language": "python",
   "name": "python3"
  },
  "language_info": {
   "codemirror_mode": {
    "name": "ipython",
    "version": 3
   },
   "file_extension": ".py",
   "mimetype": "text/x-python",
   "name": "python",
   "nbconvert_exporter": "python",
   "pygments_lexer": "ipython3",
   "version": "3.9.12"
  }
 },
 "nbformat": 4,
 "nbformat_minor": 1
}
