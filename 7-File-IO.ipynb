{
 "cells": [
  {
   "cell_type": "markdown",
   "metadata": {
    "colab_type": "text",
    "id": "GjILisbB7xlw"
   },
   "source": [
    "## File I/O - Synopsis\n",
    "\n",
    "In this notebook we will earn an important skill, how to read and write text files. In order to do that, we will cover:\n",
    "\n",
    "1. How files are organized on a computer and how to view/find file locations with terminal commands from the notebook\n",
    "2. How to open a file and read it\n",
    "3. How to open a file and write text to it. "
   ]
  },
  {
   "cell_type": "markdown",
   "metadata": {
    "colab_type": "text",
    "id": "gcGy9_wSIwb_"
   },
   "source": [
    "### Creating a text file\n",
    "\n",
    "As a first step, let us see how we can create a text file"
   ]
  },
  {
   "cell_type": "code",
   "execution_count": 1,
   "metadata": {
    "colab": {
     "base_uri": "https://localhost:8080/",
     "height": 53
    },
    "colab_type": "code",
    "executionInfo": {
     "elapsed": 1184,
     "status": "ok",
     "timestamp": 1596271471414,
     "user": {
      "displayName": "A M Aditya",
      "photoUrl": "https://lh3.googleusercontent.com/a-/AOh14GgFVWgbF3Mg6wXstyZ41k2zGOCwgYmwsme0Ysan0cI=s64",
      "userId": "15341571102300750919"
     },
     "user_tz": -480
    },
    "id": "GCuloXU5Izgy",
    "outputId": "1ca0483f-b9da-40fb-9f9f-7fab0243fed2"
   },
   "outputs": [
    {
     "name": "stdout",
     "output_type": "stream",
     "text": [
      "<class '_io.TextIOWrapper'>\n",
      "Fileops complete\n"
     ]
    }
   ],
   "source": [
    "file = open(\"testfile.txt\", \"w\")\n",
    "print(type(file))\n",
    "\n",
    "file.write(\"Hello, my name is Vera! \\n\")\n",
    "file.write(\"I would like a new account please\\n\")\n",
    "file.write(\"With a chequebook, preferably\\n\")\n",
    "file.write(\"When can someone speak with me?\\n\")\n",
    "\n",
    "file.close()\n",
    "print(\"Fileops complete\")"
   ]
  },
  {
   "cell_type": "code",
   "execution_count": null,
   "metadata": {},
   "outputs": [],
   "source": [
    "open()"
   ]
  },
  {
   "cell_type": "markdown",
   "metadata": {
    "colab_type": "text",
    "id": "ek9RB4rAKQyi"
   },
   "source": [
    "### Reading the created text file"
   ]
  },
  {
   "cell_type": "code",
   "execution_count": 2,
   "metadata": {
    "colab": {
     "base_uri": "https://localhost:8080/",
     "height": 86
    },
    "colab_type": "code",
    "executionInfo": {
     "elapsed": 790,
     "status": "ok",
     "timestamp": 1590828901004,
     "user": {
      "displayName": "Desmond Sek",
      "photoUrl": "https://lh3.googleusercontent.com/a-/AOh14GjQj9ANFvLsRLkJAoNiRe9I6br32aYvAs1rqTwiF6M=s64",
      "userId": "15004601375355093954"
     },
     "user_tz": -480
    },
    "id": "9pZDsI17I8gf",
    "outputId": "f6d32654-5e65-4ca7-d4a9-03bd6dece592"
   },
   "outputs": [
    {
     "name": "stdout",
     "output_type": "stream",
     "text": [
      "Hello, my name is Vera! \n",
      "I would like a new account please\n",
      "With a chequebook, preferably\n",
      "When can someone speak with me?\n",
      "\n"
     ]
    }
   ],
   "source": [
    "file = open(\"testfile.txt\",\"r\")\n",
    "print(file.read())\n",
    "file.close()"
   ]
  },
  {
   "cell_type": "code",
   "execution_count": 3,
   "metadata": {
    "colab": {
     "base_uri": "https://localhost:8080/",
     "height": 35
    },
    "colab_type": "code",
    "executionInfo": {
     "elapsed": 874,
     "status": "ok",
     "timestamp": 1590828936488,
     "user": {
      "displayName": "Desmond Sek",
      "photoUrl": "https://lh3.googleusercontent.com/a-/AOh14GjQj9ANFvLsRLkJAoNiRe9I6br32aYvAs1rqTwiF6M=s64",
      "userId": "15004601375355093954"
     },
     "user_tz": -480
    },
    "id": "blrNRk62JN-N",
    "outputId": "df6cf59b-a839-4f42-820a-9e3753be09f2"
   },
   "outputs": [
    {
     "name": "stdout",
     "output_type": "stream",
     "text": [
      "Hello\n"
     ]
    }
   ],
   "source": [
    "file = open(\"testfile.txt\",\"r\")\n",
    "print(file.read(5))\n",
    "file.close()\n",
    "\n",
    "# reading characters of the file (including spaces)"
   ]
  },
  {
   "cell_type": "markdown",
   "metadata": {
    "colab_type": "text",
    "id": "T--IqKSwKT74"
   },
   "source": [
    "### Reading the text file line by line"
   ]
  },
  {
   "cell_type": "code",
   "execution_count": 5,
   "metadata": {
    "colab": {
     "base_uri": "https://localhost:8080/",
     "height": 53
    },
    "colab_type": "code",
    "executionInfo": {
     "elapsed": 903,
     "status": "ok",
     "timestamp": 1596271778595,
     "user": {
      "displayName": "A M Aditya",
      "photoUrl": "https://lh3.googleusercontent.com/a-/AOh14GgFVWgbF3Mg6wXstyZ41k2zGOCwgYmwsme0Ysan0cI=s64",
      "userId": "15341571102300750919"
     },
     "user_tz": -480
    },
    "id": "7a4LhTQgJmq2",
    "outputId": "640978ca-d68d-4f3d-a6b8-957756ea1fc3"
   },
   "outputs": [],
   "source": [
    "file = open(\"testfile.txt\", \"r\") "
   ]
  },
  {
   "cell_type": "code",
   "execution_count": 6,
   "metadata": {
    "colab": {
     "base_uri": "https://localhost:8080/",
     "height": 53
    },
    "colab_type": "code",
    "executionInfo": {
     "elapsed": 905,
     "status": "ok",
     "timestamp": 1596271786520,
     "user": {
      "displayName": "A M Aditya",
      "photoUrl": "https://lh3.googleusercontent.com/a-/AOh14GgFVWgbF3Mg6wXstyZ41k2zGOCwgYmwsme0Ysan0cI=s64",
      "userId": "15341571102300750919"
     },
     "user_tz": -480
    },
    "id": "3rLptWycNnCW",
    "outputId": "9f19d74d-6b99-4ecd-8035-8e47b33fc7a6",
    "scrolled": true
   },
   "outputs": [
    {
     "name": "stdout",
     "output_type": "stream",
     "text": [
      "Hello, my name is Vera! \n",
      "\n"
     ]
    }
   ],
   "source": [
    "print(file.readline())"
   ]
  },
  {
   "cell_type": "code",
   "execution_count": 7,
   "metadata": {
    "scrolled": true
   },
   "outputs": [
    {
     "name": "stdout",
     "output_type": "stream",
     "text": [
      "I would like a new account please\n",
      "\n"
     ]
    }
   ],
   "source": [
    "print(file.readline())"
   ]
  },
  {
   "cell_type": "code",
   "execution_count": 8,
   "metadata": {},
   "outputs": [
    {
     "name": "stdout",
     "output_type": "stream",
     "text": [
      "With a chequebook, preferably\n",
      "\n"
     ]
    }
   ],
   "source": [
    "print(file.readline())"
   ]
  },
  {
   "cell_type": "code",
   "execution_count": 9,
   "metadata": {},
   "outputs": [
    {
     "name": "stdout",
     "output_type": "stream",
     "text": [
      "When can someone speak with me?\n",
      "\n"
     ]
    }
   ],
   "source": [
    "print(file.readline())\n",
    "file.close()"
   ]
  },
  {
   "cell_type": "markdown",
   "metadata": {
    "colab_type": "text",
    "id": "00L4A-_YKvk3"
   },
   "source": [
    "### Reading all the lines in the text file together"
   ]
  },
  {
   "cell_type": "code",
   "execution_count": 10,
   "metadata": {
    "colab": {
     "base_uri": "https://localhost:8080/",
     "height": 296
    },
    "colab_type": "code",
    "executionInfo": {
     "elapsed": 947,
     "status": "ok",
     "timestamp": 1590829038274,
     "user": {
      "displayName": "Desmond Sek",
      "photoUrl": "https://lh3.googleusercontent.com/a-/AOh14GjQj9ANFvLsRLkJAoNiRe9I6br32aYvAs1rqTwiF6M=s64",
      "userId": "15004601375355093954"
     },
     "user_tz": -480
    },
    "id": "PDW74bc_J46O",
    "outputId": "08378438-50b4-4de5-8624-f7ecadcd30ce"
   },
   "outputs": [
    {
     "name": "stdout",
     "output_type": "stream",
     "text": [
      "<class 'list'>\n",
      "Hello, my name is Vera! \n",
      "\n",
      "I would like a new account please\n",
      "\n",
      "With a chequebook, preferably\n",
      "\n",
      "When can someone speak with me?\n",
      "\n",
      "\n"
     ]
    }
   ],
   "source": [
    "file = open(\"testfile.txt\", \"r\") \n",
    "all_lines_from_file = file.readlines() #give all the lines as elements of a list\n",
    "print(type(all_lines_from_file))\n",
    "\n",
    "for i in all_lines_from_file:\n",
    "  print(i)\n",
    "\n",
    "file.close()\n",
    "\n",
    "print()"
   ]
  },
  {
   "cell_type": "markdown",
   "metadata": {
    "colab_type": "text",
    "id": "l23GuBnlK0br"
   },
   "source": [
    "### Overwriting existing files"
   ]
  },
  {
   "cell_type": "code",
   "execution_count": 12,
   "metadata": {
    "colab": {},
    "colab_type": "code",
    "executionInfo": {
     "elapsed": 1073,
     "status": "ok",
     "timestamp": 1596272149947,
     "user": {
      "displayName": "A M Aditya",
      "photoUrl": "https://lh3.googleusercontent.com/a-/AOh14GgFVWgbF3Mg6wXstyZ41k2zGOCwgYmwsme0Ysan0cI=s64",
      "userId": "15341571102300750919"
     },
     "user_tz": -480
    },
    "id": "K-3rwkqXKF7R"
   },
   "outputs": [],
   "source": [
    "file = open(\"testfile.txt\",\"w\") \n",
    "# 'w' mode will overwrite existing content - SO BE CAREFUL!!!\n",
    "\n",
    "file.write(\"More Lines \\n\") \n",
    "file.write(\"This is the old text file \\n\") \n",
    "\n",
    "file.close()"
   ]
  },
  {
   "cell_type": "markdown",
   "metadata": {
    "colab_type": "text",
    "id": "L110hqInLYcT"
   },
   "source": [
    "### Appending to a file"
   ]
  },
  {
   "cell_type": "code",
   "execution_count": 13,
   "metadata": {
    "colab": {},
    "colab_type": "code",
    "executionInfo": {
     "elapsed": 1044,
     "status": "ok",
     "timestamp": 1596272365322,
     "user": {
      "displayName": "A M Aditya",
      "photoUrl": "https://lh3.googleusercontent.com/a-/AOh14GgFVWgbF3Mg6wXstyZ41k2zGOCwgYmwsme0Ysan0cI=s64",
      "userId": "15341571102300750919"
     },
     "user_tz": -480
    },
    "id": "0Aa0KBP4LFB2"
   },
   "outputs": [],
   "source": [
    "file = open(\"testfile.txt\",\"a\") \n",
    " \n",
    "file.write(\"More Lines \\n\") \n",
    "file.write(\"No more overwriting, only appending \\n\") \n",
    "\n",
    "file.close()"
   ]
  },
  {
   "cell_type": "code",
   "execution_count": 14,
   "metadata": {
    "colab": {
     "base_uri": "https://localhost:8080/",
     "height": 107
    },
    "colab_type": "code",
    "executionInfo": {
     "elapsed": 1743,
     "status": "ok",
     "timestamp": 1596272367250,
     "user": {
      "displayName": "A M Aditya",
      "photoUrl": "https://lh3.googleusercontent.com/a-/AOh14GgFVWgbF3Mg6wXstyZ41k2zGOCwgYmwsme0Ysan0cI=s64",
      "userId": "15341571102300750919"
     },
     "user_tz": -480
    },
    "id": "j15_3hSELSKb",
    "outputId": "d93f54ca-9ac6-4943-c29c-825d70745b4f"
   },
   "outputs": [
    {
     "name": "stdout",
     "output_type": "stream",
     "text": [
      "More Lines \n",
      "This is the old text file \n",
      "More Lines \n",
      "No more overwriting, only appending \n",
      "\n"
     ]
    }
   ],
   "source": [
    "file = open(\"testfile.txt\", \"r\") \n",
    "print(file.read()) \n",
    "file.close()"
   ]
  },
  {
   "cell_type": "markdown",
   "metadata": {
    "colab_type": "text",
    "id": "k5N_iHO-MFh4"
   },
   "source": [
    "## EXERCISE\n",
    "\n",
    "**Problem 1**: <br>\n",
    "Create a file titled \"Q1.txt\" and write 10 lines in the file as follows:\n",
    "\n",
    "I am number 1 <br>\n",
    "I am number 2 <br>\n",
    ". <br>\n",
    ". <br>\n",
    ". <br>\n",
    ".\n",
    "\n",
    "I am number 10\n",
    "\n",
    "and open and read all the lines of the file\n",
    "\n",
    "HINT: write( ) ONLY accepts str inputs."
   ]
  },
  {
   "cell_type": "code",
   "execution_count": 24,
   "metadata": {
    "colab": {},
    "colab_type": "code",
    "executionInfo": {
     "elapsed": 1064,
     "status": "ok",
     "timestamp": 1596273070016,
     "user": {
      "displayName": "A M Aditya",
      "photoUrl": "https://lh3.googleusercontent.com/a-/AOh14GgFVWgbF3Mg6wXstyZ41k2zGOCwgYmwsme0Ysan0cI=s64",
      "userId": "15341571102300750919"
     },
     "user_tz": -480
    },
    "id": "u5d0dazWB4QB"
   },
   "outputs": [
    {
     "name": "stdout",
     "output_type": "stream",
     "text": [
      "<class '_io.TextIOWrapper'>\n"
     ]
    },
    {
     "ename": "NameError",
     "evalue": "name 'line' is not defined",
     "output_type": "error",
     "traceback": [
      "\u001b[0;31m---------------------------------------------------------------------------\u001b[0m",
      "\u001b[0;31mNameError\u001b[0m                                 Traceback (most recent call last)",
      "Input \u001b[0;32mIn [24]\u001b[0m, in \u001b[0;36m<cell line: 3>\u001b[0;34m()\u001b[0m\n\u001b[1;32m      3\u001b[0m \u001b[38;5;28;01mfor\u001b[39;00m i \u001b[38;5;129;01min\u001b[39;00m \u001b[38;5;28mrange\u001b[39m(\u001b[38;5;241m1\u001b[39m,\u001b[38;5;241m11\u001b[39m):\n\u001b[1;32m      4\u001b[0m     file\u001b[38;5;241m.\u001b[39mwrite(\u001b[38;5;124m\"\u001b[39m\u001b[38;5;124mI am number \u001b[39m\u001b[38;5;132;01m{0}\u001b[39;00m\u001b[38;5;130;01m\\n\u001b[39;00m\u001b[38;5;124m\"\u001b[39m\u001b[38;5;241m.\u001b[39mformat(i))\n\u001b[0;32m----> 5\u001b[0m     file\u001b[38;5;241m.\u001b[39mwrite(\u001b[43mline\u001b[49m)\n\u001b[1;32m      6\u001b[0m file\u001b[38;5;241m.\u001b[39mclose()\n",
      "\u001b[0;31mNameError\u001b[0m: name 'line' is not defined"
     ]
    }
   ],
   "source": [
    "file = open(\"Q1.txt\", \"w\")\n",
    "print(type(file))\n",
    "for i in range(1,11):\n",
    "    file.write(\"I am number {0}\\n\".format(i))\n",
    "file.close()"
   ]
  },
  {
   "cell_type": "code",
   "execution_count": null,
   "metadata": {},
   "outputs": [],
   "source": [
    "file = open(\"Q1.txt\", \"w\")\n",
    "\n",
    "for i in range(1,11):\n",
    "    #line = \"I am number {number}\\n\".format(number=i)\n",
    "    line = \"I am number \" + str(i) +\"\\n\"\n",
    "    file.write(line)\n",
    "file.close()"
   ]
  },
  {
   "cell_type": "markdown",
   "metadata": {
    "colab_type": "text",
    "id": "lf90HE8lFcFr"
   },
   "source": [
    "## Problem 2:\n",
    "As above, but now I want to write only numbers which are greater than 5 into a file titled \"Q2.txt\" and not write the rest."
   ]
  },
  {
   "cell_type": "code",
   "execution_count": 20,
   "metadata": {
    "colab": {},
    "colab_type": "code",
    "id": "1rfIf6sjB4MA"
   },
   "outputs": [
    {
     "name": "stdout",
     "output_type": "stream",
     "text": [
      "<class '_io.TextIOWrapper'>\n",
      "Fileops complete\n"
     ]
    }
   ],
   "source": [
    "file = open(\"Q2.txt\", \"w\")\n",
    "print(type(file))\n",
    "for i in range(6,11):\n",
    "    file.write(\"I am number {0}\\n\".format(i))\n",
    "\n",
    "file.close()"
   ]
  },
  {
   "cell_type": "code",
   "execution_count": null,
   "metadata": {},
   "outputs": [],
   "source": [
    "file = open(\"Q2.txt\", \"w\")\n",
    "\n",
    "for i in range(1,11):\n",
    "    #line = \"I am number {number}\\n\".format(number=i)\n",
    "    line = \"I am number \" + str(i) +\"\\n\"\n",
    "    if i > 5:\n",
    "        file.write(line)\n",
    "file.close()"
   ]
  }
 ],
 "metadata": {
  "colab": {
   "collapsed_sections": [],
   "name": "1_File-IO.ipynb",
   "provenance": []
  },
  "kernelspec": {
   "display_name": "Python 3 (ipykernel)",
   "language": "python",
   "name": "python3"
  },
  "language_info": {
   "codemirror_mode": {
    "name": "ipython",
    "version": 3
   },
   "file_extension": ".py",
   "mimetype": "text/x-python",
   "name": "python",
   "nbconvert_exporter": "python",
   "pygments_lexer": "ipython3",
   "version": "3.9.12"
  }
 },
 "nbformat": 4,
 "nbformat_minor": 1
}
