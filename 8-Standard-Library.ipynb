{
 "cells": [
  {
   "cell_type": "markdown",
   "metadata": {
    "colab_type": "text",
    "id": "GAqTnfcu8dhQ"
   },
   "source": [
    "# Synopsis\n",
    "\n",
    "One of the strengths of Python is the sheer amount of code that has been included by default in its distribution. In this unit, we will learn:\n",
    "\n",
    "1. What libraries are\n",
    "2. How to handle importing a library\n",
    "3. Usage of several important, basic Python libraries (`math`, `glob`, `random`, `Collections`, `os`, `time`, `datetime`, `operator`)"
   ]
  },
  {
   "cell_type": "markdown",
   "metadata": {
    "colab_type": "text",
    "id": "wvoAhR4C8dhS"
   },
   "source": [
    "# The Python Standard Library: \"Batteries Included\"\n",
    "\n",
    "Of all the reasons to use Python, number one  (by a landslide) is that the community of Python programmers provide a ton of support. Most problems that you will encounter have been solved by someone, it's just a matter of knowing how to find and interpret the solutions.\n",
    "\n",
    "Prepare to become intricately familiar with [stackoverflow](https://stackoverflow.com) which is a messageboard where people post a dizzying array of problems and solutions that are ranked by the community in terms of their helpfulness. And if you're not already proficient at articulating the precise nature of your problem with google, prepare to learn. Google can either be your [best friend](https://www.google.com/#q=python+divide+string+into+list+of+characters), or a [mortal foe](https://www.google.com/#q=how+do+i+get+numbers+and+letters+as+a+list+in+python).\n",
    "\n",
    "Some problems, however, are so general that they just keep ocurring again and again and again. The community of Python programmers have taken some of these problems, figured out fast and efficient solutions to them, and provided the code directly to you in the form of a \"library\". Not all libraries come with the \"default\" Python because there are just too many of them. You can and likely will write your own libraries for specific problems you encounter. But some libraries are _really_ useful. The reason you all downloaded the punily named \"Anaconda\" is because it's Python, only _bigger_. Instead of just giving you Python, Anaconda has collected a range of other common \"libraries\" that nearly every Python programmer uses and has installed these for you.\n",
    "\n",
    "\"Default\" Python, however still has a lot of useful libraries known as the \"Standard Library\". A key principle here is _trust_, the things you find in the Python Standard Library will work. And they will work well. __When you find an answer to a question on stackoverflow, your confidence in that answer should be tempered and the results tested.__ If it's in the Python Standard Library, thousands of people have already tested it and it works. The same goes for some other very common packages, such as those included in Anaconda.\n",
    "\n",
    "Before we move on, we should note that this notebook has drawn heavily from the following references which are each great in their own right at helping to explain details of the Standard Library and Python programming in general. If you're looking for more after this lecture or after this course this is a good starting point: \n",
    "\n",
    "* [Brief Tour of the Standard Library](https://docs.python.org/3/tutorial/stdlib.html)\n",
    "* [The Python Standard Library - Index](https://docs.python.org/3/library/index.html)\n",
    "* [Think Python](http://www.greenteapress.com/thinkpython/)"
   ]
  },
  {
   "cell_type": "markdown",
   "metadata": {
    "colab_type": "text",
    "id": "dnJ2BWj18dhV"
   },
   "source": [
    "# Libraries \n",
    "### (...or how I learned to stop writing so much code and use the Python Standard Library)\n",
    "\n",
    "I've said the words \"library\" and \"libraries\" quite a few times now, but what are they? Think of a library as a collection of useful functions all relating to a generally similar topic. You might have seen code like this:\n",
    "\n",
    "```\n",
    "import math\n",
    "from math import log\n",
    "import math as awesome_mathematical_functions\n",
    "from math import *\n",
    "```\n",
    "We'll look at each of these in turn to see what is going on here. \n",
    "\n",
    "Suppose that I was interested in knowing the logarithm of the number 348. I might type:"
   ]
  },
  {
   "cell_type": "code",
   "execution_count": null,
   "metadata": {
    "colab": {
     "base_uri": "https://localhost:8080/",
     "height": 168
    },
    "colab_type": "code",
    "executionInfo": {
     "elapsed": 1352,
     "status": "error",
     "timestamp": 1583516521954,
     "user": {
      "displayName": "A M Aditya",
      "photoUrl": "https://lh3.googleusercontent.com/a-/AOh14Gi0QW8fL6S6cJ9NnUDYnuL7qjODdLex2Wro__xuGYA=s64",
      "userId": "15341571102300750919"
     },
     "user_tz": -480
    },
    "id": "baWPAikX8dhW",
    "outputId": "b155108b-6c60-4bdb-9770-d9f84aa5bb2a",
    "scrolled": false
   },
   "outputs": [],
   "source": []
  },
  {
   "cell_type": "markdown",
   "metadata": {
    "colab_type": "text",
    "id": "Mh5brXOG8dhb"
   },
   "source": [
    "And you should see a `NameError`, because 'normal' python doesn't know what 'log' means. We never defined it or told it that when I type `log(number)` what I really mean is that I want the exponent to which another fixed value, the base, must be raised to produce that number (phew). We could labor and think about _how_ to write that code but logarithms are pretty common right? Surely someone else has figured this out already. Enter `math`:"
   ]
  },
  {
   "cell_type": "code",
   "execution_count": null,
   "metadata": {
    "colab": {},
    "colab_type": "code",
    "id": "VqnbhrZf8dhd",
    "scrolled": false
   },
   "outputs": [],
   "source": []
  },
  {
   "cell_type": "code",
   "execution_count": null,
   "metadata": {
    "colab": {
     "base_uri": "https://localhost:8080/",
     "height": 168
    },
    "colab_type": "code",
    "executionInfo": {
     "elapsed": 1728,
     "status": "error",
     "timestamp": 1583516522344,
     "user": {
      "displayName": "A M Aditya",
      "photoUrl": "https://lh3.googleusercontent.com/a-/AOh14Gi0QW8fL6S6cJ9NnUDYnuL7qjODdLex2Wro__xuGYA=s64",
      "userId": "15341571102300750919"
     },
     "user_tz": -480
    },
    "id": "dNmI2tYC8dhn",
    "outputId": "840c8137-bb8c-4bca-b355-7593ac2a4763",
    "scrolled": true
   },
   "outputs": [],
   "source": []
  },
  {
   "cell_type": "markdown",
   "metadata": {
    "colab_type": "text",
    "id": "s65Twx4s8dhy"
   },
   "source": [
    "But still we have a `NameError`, What's going on here? Well to access all the cool functions in `math` we need to first tell python what we really mean when we say `log` is a specific function written in the math library:"
   ]
  },
  {
   "cell_type": "code",
   "execution_count": null,
   "metadata": {
    "colab": {
     "base_uri": "https://localhost:8080/",
     "height": 35
    },
    "colab_type": "code",
    "executionInfo": {
     "elapsed": 1152,
     "status": "ok",
     "timestamp": 1583516545484,
     "user": {
      "displayName": "A M Aditya",
      "photoUrl": "https://lh3.googleusercontent.com/a-/AOh14Gi0QW8fL6S6cJ9NnUDYnuL7qjODdLex2Wro__xuGYA=s64",
      "userId": "15341571102300750919"
     },
     "user_tz": -480
    },
    "id": "i67gNFpg8dh0",
    "outputId": "620d31a0-a936-41cb-de1c-144177109510",
    "scrolled": true
   },
   "outputs": [],
   "source": []
  },
  {
   "cell_type": "markdown",
   "metadata": {
    "colab_type": "text",
    "id": "V-uOFb7W8dh8"
   },
   "source": [
    "Voila! 5.8522024... you get the point. Suppose we thought that was a little tedious to type over and over again. And all we really need the `math` library for is `log`, we don't care about all the other cool stuff that it has. Well, we could just type:"
   ]
  },
  {
   "cell_type": "code",
   "execution_count": null,
   "metadata": {
    "colab": {},
    "colab_type": "code",
    "id": "AVXMPY7o8dh-",
    "scrolled": false
   },
   "outputs": [],
   "source": []
  },
  {
   "cell_type": "markdown",
   "metadata": {
    "colab_type": "text",
    "id": "wI-26ute8diI"
   },
   "source": [
    "And now `log()` should work out just fine:"
   ]
  },
  {
   "cell_type": "code",
   "execution_count": null,
   "metadata": {
    "colab": {
     "base_uri": "https://localhost:8080/",
     "height": 35
    },
    "colab_type": "code",
    "executionInfo": {
     "elapsed": 2000,
     "status": "ok",
     "timestamp": 1583516546358,
     "user": {
      "displayName": "A M Aditya",
      "photoUrl": "https://lh3.googleusercontent.com/a-/AOh14Gi0QW8fL6S6cJ9NnUDYnuL7qjODdLex2Wro__xuGYA=s64",
      "userId": "15341571102300750919"
     },
     "user_tz": -480
    },
    "id": "SUGFoRSf8diO",
    "outputId": "ffa66983-2a43-4ec7-a8dc-fe0fbd5c0f38",
    "scrolled": true
   },
   "outputs": [],
   "source": []
  },
  {
   "cell_type": "markdown",
   "metadata": {
    "colab_type": "text",
    "id": "6X_F7qCL8diT"
   },
   "source": [
    "To assure ourselves that these two things are entirely equivalent:"
   ]
  },
  {
   "cell_type": "code",
   "execution_count": null,
   "metadata": {
    "colab": {
     "base_uri": "https://localhost:8080/",
     "height": 35
    },
    "colab_type": "code",
    "executionInfo": {
     "elapsed": 1990,
     "status": "ok",
     "timestamp": 1583516546359,
     "user": {
      "displayName": "A M Aditya",
      "photoUrl": "https://lh3.googleusercontent.com/a-/AOh14Gi0QW8fL6S6cJ9NnUDYnuL7qjODdLex2Wro__xuGYA=s64",
      "userId": "15341571102300750919"
     },
     "user_tz": -480
    },
    "id": "bl3iGseP8diU",
    "outputId": "6c5c37ed-efee-4151-865e-b504616830a3",
    "scrolled": true
   },
   "outputs": [],
   "source": []
  },
  {
   "cell_type": "markdown",
   "metadata": {
    "colab_type": "text",
    "id": "0g1Dw6QB8diY"
   },
   "source": [
    "How you choose to import functions from a library might depend a lot on your project. You'll also frequently see something like this:"
   ]
  },
  {
   "cell_type": "code",
   "execution_count": null,
   "metadata": {
    "colab": {},
    "colab_type": "code",
    "id": "mfz2XJZp8dib",
    "scrolled": false
   },
   "outputs": [],
   "source": []
  },
  {
   "cell_type": "markdown",
   "metadata": {
    "colab_type": "text",
    "id": "wjJ7bzCF8dih"
   },
   "source": [
    "All we did was kind of rename `math`. This is silly, because we're actually typing more in this example than math. But as you'll see later there are some packages that are so commonly used that even though their name is only 5 letters long people _always_ import them as an alias with two letters. Our function should work exactly the same as before though: "
   ]
  },
  {
   "cell_type": "code",
   "execution_count": null,
   "metadata": {
    "colab": {
     "base_uri": "https://localhost:8080/",
     "height": 35
    },
    "colab_type": "code",
    "executionInfo": {
     "elapsed": 1970,
     "status": "ok",
     "timestamp": 1583516546360,
     "user": {
      "displayName": "A M Aditya",
      "photoUrl": "https://lh3.googleusercontent.com/a-/AOh14Gi0QW8fL6S6cJ9NnUDYnuL7qjODdLex2Wro__xuGYA=s64",
      "userId": "15341571102300750919"
     },
     "user_tz": -480
    },
    "id": "juL_es0c8dij",
    "outputId": "6785c631-8855-4955-82d2-7a8354337b27",
    "scrolled": true
   },
   "outputs": [],
   "source": []
  },
  {
   "cell_type": "code",
   "execution_count": null,
   "metadata": {
    "colab": {
     "base_uri": "https://localhost:8080/",
     "height": 35
    },
    "colab_type": "code",
    "executionInfo": {
     "elapsed": 1958,
     "status": "ok",
     "timestamp": 1583516546360,
     "user": {
      "displayName": "A M Aditya",
      "photoUrl": "https://lh3.googleusercontent.com/a-/AOh14Gi0QW8fL6S6cJ9NnUDYnuL7qjODdLex2Wro__xuGYA=s64",
      "userId": "15341571102300750919"
     },
     "user_tz": -480
    },
    "id": "74T9HvzL8dio",
    "outputId": "d1024d41-093b-4c34-fced-7e4de856c9bb",
    "scrolled": true
   },
   "outputs": [],
   "source": []
  },
  {
   "cell_type": "markdown",
   "metadata": {
    "colab_type": "text",
    "id": "ElITmKzq8dit"
   },
   "source": [
    "There is a final way of importing libraries that you might see, but we're not going to actually run the code because it's the worst.\n",
    "```\n",
    "from math import *\n",
    "```\n",
    "You might be able to guess what this is doing and some of you might see why it's a terrible idea. Instead of having to type `math.log()`, importing in this manner will let us access every function in math directly by name `log()`, `exp()`, etc. This might seem nice and easy, but do you know everything that is in the `math` library? It might be huge. And what if my code is analyzing the revenues of a timber company and I happen to have a variable called `log` that refers to the price of a fallen tree. Depending on the order of when I run my code and my imports, `log` might either refer to a function or my variable. If I always use \n",
    "```\n",
    "from math import log\n",
    "```\n",
    "I have the same problem in that I've defined `log` but I'm explicitly reminded of the name of the function that I'm importing. And if I was a timber company I might see the err in my ways. But by using the first syntax:\n",
    "```\n",
    "from math import *\n",
    "```\n",
    "I'm importing perhaps hundreds or thousands of functions whose name I don't even know.\n",
    "\n",
    "> you'll see `from math import *` in your googling. Don't do it. "
   ]
  },
  {
   "cell_type": "markdown",
   "metadata": {
    "colab_type": "text",
    "id": "6OHV_R1r8diu"
   },
   "source": [
    "### Documentation\n",
    "So we found the logarithm of 348 a number of ways. But the astute among you may ask, logarithm of base what? Well, Jupyter (Ipython Notebook) can be really helpful here. Try typing:"
   ]
  },
  {
   "cell_type": "code",
   "execution_count": null,
   "metadata": {
    "colab": {},
    "colab_type": "code",
    "id": "GDTfXnJq8diz",
    "scrolled": false
   },
   "outputs": [],
   "source": []
  },
  {
   "cell_type": "markdown",
   "metadata": {
    "colab_type": "text",
    "id": "0eS2WSSX8di5"
   },
   "source": [
    "A helpful little box should have popped up explaining a bit about math.log (which you can close by clicking the x in the upper right corner).\n",
    "We could also type `math.log` then Shift+Tab. Try that below:"
   ]
  },
  {
   "cell_type": "code",
   "execution_count": null,
   "metadata": {
    "colab": {
     "base_uri": "https://localhost:8080/",
     "height": 35
    },
    "colab_type": "code",
    "executionInfo": {
     "elapsed": 2003,
     "status": "ok",
     "timestamp": 1583516546430,
     "user": {
      "displayName": "A M Aditya",
      "photoUrl": "https://lh3.googleusercontent.com/a-/AOh14Gi0QW8fL6S6cJ9NnUDYnuL7qjODdLex2Wro__xuGYA=s64",
      "userId": "15341571102300750919"
     },
     "user_tz": -480
    },
    "id": "uy30wkN88di6",
    "outputId": "6162e0da-ceed-4c12-f1c6-bc9d023f2910",
    "scrolled": true
   },
   "outputs": [],
   "source": []
  },
  {
   "cell_type": "markdown",
   "metadata": {
    "colab_type": "text",
    "id": "QBO6oQmn8djA"
   },
   "source": [
    "or"
   ]
  },
  {
   "cell_type": "code",
   "execution_count": null,
   "metadata": {
    "colab": {
     "base_uri": "https://localhost:8080/",
     "height": 159
    },
    "colab_type": "code",
    "executionInfo": {
     "elapsed": 999,
     "status": "ok",
     "timestamp": 1583558374459,
     "user": {
      "displayName": "A M Aditya",
      "photoUrl": "https://lh3.googleusercontent.com/a-/AOh14Gi0QW8fL6S6cJ9NnUDYnuL7qjODdLex2Wro__xuGYA=s64",
      "userId": "15341571102300750919"
     },
     "user_tz": -480
    },
    "id": "X5useip_8djA",
    "outputId": "f447ecca-bad2-434d-ddf1-5212d59620a9",
    "scrolled": true
   },
   "outputs": [],
   "source": []
  },
  {
   "cell_type": "markdown",
   "metadata": {
    "colab_type": "text",
    "id": "mDGHkmQ08djE"
   },
   "source": [
    "From either of these options we learned that `math.log` needs a number `x`. We could also give it a second number separated by a comma to specify the base. If we don't give that second argument, then it will default to `e`, the natural logarithm."
   ]
  },
  {
   "cell_type": "code",
   "execution_count": null,
   "metadata": {
    "colab": {
     "base_uri": "https://localhost:8080/",
     "height": 70
    },
    "colab_type": "code",
    "executionInfo": {
     "elapsed": 1979,
     "status": "ok",
     "timestamp": 1583516546431,
     "user": {
      "displayName": "A M Aditya",
      "photoUrl": "https://lh3.googleusercontent.com/a-/AOh14Gi0QW8fL6S6cJ9NnUDYnuL7qjODdLex2Wro__xuGYA=s64",
      "userId": "15341571102300750919"
     },
     "user_tz": -480
    },
    "id": "KTRQBTN88djG",
    "outputId": "62d63da0-c797-43cc-fca4-db01c72c16d3",
    "scrolled": true
   },
   "outputs": [],
   "source": []
  },
  {
   "cell_type": "markdown",
   "metadata": {
    "colab_type": "text",
    "id": "4CV2fDHU8djI"
   },
   "source": [
    "But is it really the natural logarithm? Let's double check:"
   ]
  },
  {
   "cell_type": "code",
   "execution_count": null,
   "metadata": {
    "colab": {
     "base_uri": "https://localhost:8080/",
     "height": 168
    },
    "colab_type": "code",
    "executionInfo": {
     "elapsed": 1977,
     "status": "error",
     "timestamp": 1583516546443,
     "user": {
      "displayName": "A M Aditya",
      "photoUrl": "https://lh3.googleusercontent.com/a-/AOh14Gi0QW8fL6S6cJ9NnUDYnuL7qjODdLex2Wro__xuGYA=s64",
      "userId": "15341571102300750919"
     },
     "user_tz": -480
    },
    "id": "zlIEz0eR8djJ",
    "outputId": "9283f6ce-000d-4dce-ed7c-685307a95e3c",
    "scrolled": true
   },
   "outputs": [],
   "source": []
  },
  {
   "cell_type": "markdown",
   "metadata": {
    "colab_type": "text",
    "id": "-EqDRGhg8djM"
   },
   "source": [
    "Ack! Python doesn't know what e is! How do I know whether `math.log` is really using the base `e`?\n",
    "\n",
    "Well `e` is pretty mathy, maybe the math library can help us but how do I know?"
   ]
  },
  {
   "cell_type": "code",
   "execution_count": null,
   "metadata": {
    "colab": {
     "base_uri": "https://localhost:8080/",
     "height": 1000
    },
    "colab_type": "code",
    "executionInfo": {
     "elapsed": 776,
     "status": "ok",
     "timestamp": 1583558598720,
     "user": {
      "displayName": "A M Aditya",
      "photoUrl": "https://lh3.googleusercontent.com/a-/AOh14Gi0QW8fL6S6cJ9NnUDYnuL7qjODdLex2Wro__xuGYA=s64",
      "userId": "15341571102300750919"
     },
     "user_tz": -480
    },
    "id": "bafDv4pj8djN",
    "outputId": "981bfa43-2d67-4c79-e481-a97f39e33b2b",
    "scrolled": true
   },
   "outputs": [],
   "source": []
  },
  {
   "cell_type": "markdown",
   "metadata": {
    "colab_type": "text",
    "id": "zU1ppA4R8djS"
   },
   "source": [
    "Remember we could also just have typed `math` and then held down Shift+Tab to get a drop down of some available options. But it looks like `exp` is in there somewhere which is just what we want."
   ]
  },
  {
   "cell_type": "code",
   "execution_count": null,
   "metadata": {
    "colab": {
     "base_uri": "https://localhost:8080/",
     "height": 141
    },
    "colab_type": "code",
    "executionInfo": {
     "elapsed": 1221,
     "status": "ok",
     "timestamp": 1583516560007,
     "user": {
      "displayName": "A M Aditya",
      "photoUrl": "https://lh3.googleusercontent.com/a-/AOh14Gi0QW8fL6S6cJ9NnUDYnuL7qjODdLex2Wro__xuGYA=s64",
      "userId": "15341571102300750919"
     },
     "user_tz": -480
    },
    "id": "reXKWI_z8djU",
    "outputId": "cf356fb6-f620-49cb-e1c0-209e52139c3f",
    "scrolled": true
   },
   "outputs": [],
   "source": []
  },
  {
   "cell_type": "markdown",
   "metadata": {
    "colab_type": "text",
    "id": "VicRiyVk8djY"
   },
   "source": [
    "So e raised to the first should just be e! Right?"
   ]
  },
  {
   "cell_type": "code",
   "execution_count": null,
   "metadata": {
    "colab": {
     "base_uri": "https://localhost:8080/",
     "height": 35
    },
    "colab_type": "code",
    "executionInfo": {
     "elapsed": 1214,
     "status": "ok",
     "timestamp": 1583516560007,
     "user": {
      "displayName": "A M Aditya",
      "photoUrl": "https://lh3.googleusercontent.com/a-/AOh14Gi0QW8fL6S6cJ9NnUDYnuL7qjODdLex2Wro__xuGYA=s64",
      "userId": "15341571102300750919"
     },
     "user_tz": -480
    },
    "id": "OEBZa16y8djZ",
    "outputId": "778f3aca-9de1-4def-82e1-eb2661c687c1",
    "scrolled": true
   },
   "outputs": [],
   "source": []
  },
  {
   "cell_type": "markdown",
   "metadata": {
    "colab_type": "text",
    "id": "K7XlcX2L8dje"
   },
   "source": [
    "Success! Now is math.log really defaulting to base e?"
   ]
  },
  {
   "cell_type": "code",
   "execution_count": null,
   "metadata": {
    "colab": {
     "base_uri": "https://localhost:8080/",
     "height": 35
    },
    "colab_type": "code",
    "executionInfo": {
     "elapsed": 1206,
     "status": "ok",
     "timestamp": 1583516560007,
     "user": {
      "displayName": "A M Aditya",
      "photoUrl": "https://lh3.googleusercontent.com/a-/AOh14Gi0QW8fL6S6cJ9NnUDYnuL7qjODdLex2Wro__xuGYA=s64",
      "userId": "15341571102300750919"
     },
     "user_tz": -480
    },
    "id": "oTfwdOqS8djf",
    "outputId": "b7b21c3b-7691-4fcb-89e6-987cbc9ab07f",
    "scrolled": true
   },
   "outputs": [],
   "source": []
  },
  {
   "cell_type": "markdown",
   "metadata": {
    "colab_type": "text",
    "id": "dPlouwZk8dji"
   },
   "source": [
    "You win `math` library, you win. \n",
    "\n",
    "This is a fun little exercise. But really, I trusted that `math` library all along because I know it's part of the Python Standard Library. Trust is key when using built-in libraries and functions otherwise you might never get anything done. Just don't spread that trust too broadly. You really _really_ need to get in the habit of looking at documentation when you use a library or a function that you've never used before. Thankfully Jupyter gives you a lot of options on how to do so, so you have no excuse. \n",
    "\n",
    "# Time for the tour:"
   ]
  },
  {
   "cell_type": "markdown",
   "metadata": {
    "colab_type": "text",
    "id": "FtYs3N8G8dji"
   },
   "source": [
    "# `numpy` - Numerical Python functions"
   ]
  },
  {
   "cell_type": "markdown",
   "metadata": {
    "colab_type": "text",
    "id": "r-TxJail8djp"
   },
   "source": [
    "When you're learning how to code. these exercises are great practice. Once you're comfortable you'll know that it's far easier to use."
   ]
  },
  {
   "cell_type": "code",
   "execution_count": null,
   "metadata": {
    "colab": {
     "base_uri": "https://localhost:8080/",
     "height": 35
    },
    "colab_type": "code",
    "executionInfo": {
     "elapsed": 1083,
     "status": "ok",
     "timestamp": 1583558784387,
     "user": {
      "displayName": "A M Aditya",
      "photoUrl": "https://lh3.googleusercontent.com/a-/AOh14Gi0QW8fL6S6cJ9NnUDYnuL7qjODdLex2Wro__xuGYA=s64",
      "userId": "15341571102300750919"
     },
     "user_tz": -480
    },
    "id": "Rvxe9M_k8djr",
    "outputId": "b99f0fd3-38ee-455c-f27d-99ba9311d9ad",
    "scrolled": true
   },
   "outputs": [],
   "source": []
  },
  {
   "cell_type": "code",
   "execution_count": null,
   "metadata": {
    "colab": {
     "base_uri": "https://localhost:8080/",
     "height": 35
    },
    "colab_type": "code",
    "executionInfo": {
     "elapsed": 784,
     "status": "ok",
     "timestamp": 1583558839467,
     "user": {
      "displayName": "A M Aditya",
      "photoUrl": "https://lh3.googleusercontent.com/a-/AOh14Gi0QW8fL6S6cJ9NnUDYnuL7qjODdLex2Wro__xuGYA=s64",
      "userId": "15341571102300750919"
     },
     "user_tz": -480
    },
    "id": "Tuug9Kr-dddY",
    "outputId": "227248a4-9c75-4af8-bfe6-7454855fee5d"
   },
   "outputs": [],
   "source": []
  },
  {
   "cell_type": "code",
   "execution_count": null,
   "metadata": {
    "colab": {
     "base_uri": "https://localhost:8080/",
     "height": 35
    },
    "colab_type": "code",
    "executionInfo": {
     "elapsed": 875,
     "status": "ok",
     "timestamp": 1583558856330,
     "user": {
      "displayName": "A M Aditya",
      "photoUrl": "https://lh3.googleusercontent.com/a-/AOh14Gi0QW8fL6S6cJ9NnUDYnuL7qjODdLex2Wro__xuGYA=s64",
      "userId": "15341571102300750919"
     },
     "user_tz": -480
    },
    "id": "6WC0DjxednEn",
    "outputId": "d909e47a-7177-443e-a23b-74adf1959e6f"
   },
   "outputs": [],
   "source": []
  },
  {
   "cell_type": "code",
   "execution_count": null,
   "metadata": {
    "colab": {
     "base_uri": "https://localhost:8080/",
     "height": 1000
    },
    "colab_type": "code",
    "executionInfo": {
     "elapsed": 858,
     "status": "ok",
     "timestamp": 1583558906856,
     "user": {
      "displayName": "A M Aditya",
      "photoUrl": "https://lh3.googleusercontent.com/a-/AOh14Gi0QW8fL6S6cJ9NnUDYnuL7qjODdLex2Wro__xuGYA=s64",
      "userId": "15341571102300750919"
     },
     "user_tz": -480
    },
    "id": "TgPWiUY7d0X2",
    "outputId": "ec156522-b9d2-408f-903c-f1130b30513e"
   },
   "outputs": [],
   "source": []
  },
  {
   "cell_type": "code",
   "execution_count": null,
   "metadata": {
    "colab": {
     "base_uri": "https://localhost:8080/",
     "height": 35
    },
    "colab_type": "code",
    "executionInfo": {
     "elapsed": 799,
     "status": "ok",
     "timestamp": 1583558960613,
     "user": {
      "displayName": "A M Aditya",
      "photoUrl": "https://lh3.googleusercontent.com/a-/AOh14Gi0QW8fL6S6cJ9NnUDYnuL7qjODdLex2Wro__xuGYA=s64",
      "userId": "15341571102300750919"
     },
     "user_tz": -480
    },
    "id": "jxzbRMLCd7nQ",
    "outputId": "df6fdc78-5882-40b4-838f-f4a0572e831e"
   },
   "outputs": [],
   "source": []
  },
  {
   "cell_type": "markdown",
   "metadata": {
    "colab_type": "text",
    "id": "B7C54I-K8dj2"
   },
   "source": [
    "# `pandas`"
   ]
  },
  {
   "cell_type": "code",
   "execution_count": null,
   "metadata": {},
   "outputs": [],
   "source": []
  },
  {
   "cell_type": "code",
   "execution_count": null,
   "metadata": {},
   "outputs": [],
   "source": []
  },
  {
   "cell_type": "code",
   "execution_count": null,
   "metadata": {},
   "outputs": [],
   "source": []
  },
  {
   "cell_type": "code",
   "execution_count": null,
   "metadata": {},
   "outputs": [],
   "source": []
  },
  {
   "cell_type": "code",
   "execution_count": null,
   "metadata": {},
   "outputs": [],
   "source": []
  },
  {
   "cell_type": "code",
   "execution_count": null,
   "metadata": {},
   "outputs": [],
   "source": []
  },
  {
   "cell_type": "code",
   "execution_count": null,
   "metadata": {},
   "outputs": [],
   "source": []
  },
  {
   "cell_type": "code",
   "execution_count": null,
   "metadata": {},
   "outputs": [],
   "source": []
  },
  {
   "cell_type": "code",
   "execution_count": null,
   "metadata": {},
   "outputs": [],
   "source": []
  },
  {
   "cell_type": "code",
   "execution_count": null,
   "metadata": {},
   "outputs": [],
   "source": []
  },
  {
   "cell_type": "markdown",
   "metadata": {},
   "source": [
    "`You can do many more thingsusing the pandas library which you will learn about in the further courses. This is just a glimpse of what you can do with libraries.`"
   ]
  },
  {
   "cell_type": "markdown",
   "metadata": {
    "colab_type": "text",
    "id": "uaKWsTKq8dnI"
   },
   "source": [
    "# Wrap-up\n",
    "That's all for the Python Standard Library, but you haven't seen the last of any of these packages. I highly recommend reading through some of the links provided at the top of this notebook. But the best way to learn about packages also happens to be the best way to learn programming. Practice. Practice. Practice."
   ]
  }
 ],
 "metadata": {
  "colab": {
   "collapsed_sections": [
    "dPlouwZk8dji",
    "uaKWsTKq8dnI"
   ],
   "name": "2_Standard-Library.ipynb",
   "provenance": []
  },
  "kernelspec": {
   "display_name": "Python 3",
   "language": "python",
   "name": "python3"
  },
  "language_info": {
   "codemirror_mode": {
    "name": "ipython",
    "version": 3
   },
   "file_extension": ".py",
   "mimetype": "text/x-python",
   "name": "python",
   "nbconvert_exporter": "python",
   "pygments_lexer": "ipython3",
   "version": "3.7.3"
  }
 },
 "nbformat": 4,
 "nbformat_minor": 1
}
