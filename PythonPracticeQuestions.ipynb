{
 "cells": [
  {
   "cell_type": "markdown",
   "id": "ee0f8e0b",
   "metadata": {},
   "source": [
    "1)\n",
    "Find all such numbers which are divisible by 7 but are not a multiple of 5, between 2000 and 3200 (both included).The numbers obtained should be printed in a comma-separated sequence on a single line.\n",
    "\n",
    "Hint: Look at the help for print()\n",
    "Hint: Look up \"unpacking inside a function\" on this page - https://www.pythonsheets.com/notes/python-generator.html "
   ]
  },
  {
   "cell_type": "code",
   "execution_count": null,
   "id": "ed6a1b6d",
   "metadata": {},
   "outputs": [],
   "source": [
    "print(*(i for i in range(2000,3201) \n",
    "        if i % 7 == 0 and i % 5 != 0), sep=\",\")"
   ]
  },
  {
   "cell_type": "code",
   "execution_count": null,
   "id": "8e37d6ab",
   "metadata": {},
   "outputs": [],
   "source": [
    "# Answer 1b - for loop style\n",
    "\n",
    "for x in range(2000, 3201):\n",
    "    if x == 3199:\n",
    "        print(x)\n",
    "    elif x % 7 == 0 and x % 5 != 0:\n",
    "        print(x, end=\",\")"
   ]
  },
  {
   "cell_type": "code",
   "execution_count": null,
   "id": "68db28bf",
   "metadata": {},
   "outputs": [],
   "source": [
    "# Shift+Tab for docstring help\n",
    "\n",
    "# unpacking inside a function\n",
    "print(*(x for x in range(1,50)))\n",
    "\n",
    "# print(value, ..., sep=' ', end='\\n', file=sys.stdout, flush=False)"
   ]
  },
  {
   "cell_type": "markdown",
   "id": "b2b4399d",
   "metadata": {},
   "source": [
    "2)\n",
    "Write a program which can compute the factorial of a given number. NO LIBRARY IMPORTS!\n",
    "\n",
    "Definition\n",
    "5! = 1 * 2 * 3 * 4 * 5"
   ]
  },
  {
   "cell_type": "code",
   "execution_count": 2,
   "id": "5063a681",
   "metadata": {},
   "outputs": [
    {
     "name": "stdout",
     "output_type": "stream",
     "text": [
      "Enter the Number: \n",
      "8\n",
      "factorial: 40320\n"
     ]
    }
   ],
   "source": [
    "print(\"Enter the Number: \")\n",
    "n = int(input())\n",
    "fact = 1\n",
    "\n",
    "for i in range(1,n+1):\n",
    "    fact *= i\n",
    "    # same as: fact = fact * i\n",
    "    \n",
    "print (\"factorial:\",fact)"
   ]
  },
  {
   "cell_type": "markdown",
   "id": "64fed138",
   "metadata": {},
   "source": [
    "3)\n",
    "    Input an integral number n, and write a program to generate a dictionary that contains {i: i x i} such that i is an integral number between 1 and n (both included). Then the program should print the dictionary. \n",
    "    \n",
    "    Suppose the following input is supplied to the program: 8\n",
    "    Then, the output should be:\n",
    "\n",
    "{1: 1, 2: 4, 3: 9, 4: 16, 5: 25, 6: 36, 7: 49, 8: 64}"
   ]
  },
  {
   "cell_type": "code",
   "execution_count": null,
   "id": "691bd684",
   "metadata": {},
   "outputs": [],
   "source": [
    "print(\"Enter your number: \")\n",
    "n = int(input())\n",
    "\n",
    "dict = {\n",
    "    i: i*i for i in range(1, n+1)\n",
    "}\n",
    "print(dict)"
   ]
  },
  {
   "cell_type": "code",
   "execution_count": null,
   "id": "efc90c57",
   "metadata": {},
   "outputs": [],
   "source": [
    "# For Loop Style \n",
    "\n",
    "n = int(input())\n",
    "dict = {}\n",
    "for i in range(1,n+1):\n",
    "    ans[i] = i*i\n",
    "print(dict)"
   ]
  },
  {
   "cell_type": "code",
   "execution_count": null,
   "id": "949699ff",
   "metadata": {},
   "outputs": [],
   "source": [
    "# Dict comprehension\n",
    "\n",
    "n = int(input())\n",
    "ans = {i: i * i for i in range(1,n+1)}\n",
    "print(ans)"
   ]
  },
  {
   "cell_type": "code",
   "execution_count": null,
   "id": "476ba3f0",
   "metadata": {},
   "outputs": [],
   "source": [
    "# i for i in range / collection if i [condition]#\n",
    "# can wrap the generator expression in [], (), {} for lists, tuples and sets"
   ]
  },
  {
   "cell_type": "markdown",
   "id": "07e8ad08",
   "metadata": {},
   "source": [
    "4) \n",
    "Write a program that accepts a sentence and calculate the number of upper case letters and lower case letters.\n",
    "\n",
    "    Suppose the following input is supplied to the program:\n",
    "\n",
    "Hello world!\n",
    "\n",
    "    Then, the output should be:\n",
    "\n",
    "UPPER CASE 1\n",
    "LOWER CASE 9\n",
    "\n",
    "HINT: Look up string method .isupper and .islower\n",
    "https://www.w3schools.com/python/python_ref_string.asp"
   ]
  },
  {
   "cell_type": "code",
   "execution_count": 1,
   "id": "d1e4dd4d",
   "metadata": {},
   "outputs": [
    {
     "name": "stdout",
     "output_type": "stream",
     "text": [
      "Enter your sentence: \n",
      "hello world\n",
      "UPPER CASE 0\n",
      "lower case 10\n"
     ]
    }
   ],
   "source": [
    "print(\"Enter your sentence: \")\n",
    "sent = input()\n",
    "\n",
    "# assign counter, starting from 0\n",
    "upper = 0\n",
    "lower = 0\n",
    "\n",
    "for i in sent:\n",
    "    upper += i.isupper()\n",
    "    lower += i.islower()\n",
    "\n",
    "# formatting the print with .format()\n",
    "#print(\"UPPER CASE {upper}\\nlower case {lower}\".format(upper=upper, lower=lower))\n",
    "\n",
    "print(\"UPPER CASE\", upper)\n",
    "print(\"lower case\", lower)\n",
    "# True has a value of 1, False has a value of 0\n",
    "# True has a value of 1, False has a value of 0"
   ]
  },
  {
   "cell_type": "code",
   "execution_count": null,
   "id": "bc29505d",
   "metadata": {},
   "outputs": [],
   "source": [
    "# islower()\tReturns True if all characters in the string are lower case\n",
    "# isupper()\tReturns True if all characters in the string are upper case"
   ]
  },
  {
   "cell_type": "markdown",
   "id": "bec65370",
   "metadata": {},
   "source": [
    "5a)\n",
    "Question:\n",
    "\n",
    "    Write a program that computes the net amount of a bank account based a transaction log from console input. The transaction log format is shown as following:\n",
    "\n",
    "D 100\n",
    "W 200\n",
    "\n",
    "    D means deposit while W means withdrawal.\n",
    "\n",
    "    Suppose the following input is supplied to the program:\n",
    "\n",
    "D 300\n",
    "D 300\n",
    "W 200\n",
    "D 100\n",
    "\n",
    "    Then, the output should be:\n",
    "\n",
    "500"
   ]
  },
  {
   "cell_type": "code",
   "execution_count": null,
   "id": "913da183",
   "metadata": {},
   "outputs": [],
   "source": []
  },
  {
   "cell_type": "markdown",
   "id": "7cfa9db4",
   "metadata": {},
   "source": [
    "5b)\n",
    "    Assuming that we have some email addresses in the \"username@companyname.com\" format, please write program to print the company name of a given email address. Both user names and company names are composed of letters only.\n",
    "\n",
    "    Example: If the following email address is given as input to the program:\n",
    "\n",
    "john@google.com\n",
    "\n",
    "    Then, the output of the program should be:\n",
    "\n",
    "google\n",
    "\n",
    "    In case of input data being supplied to the question, it should be assumed to be a console input."
   ]
  },
  {
   "cell_type": "code",
   "execution_count": null,
   "id": "a5810285",
   "metadata": {},
   "outputs": [],
   "source": [
    "print(\"Enter your email:\")\n",
    "email = input()\n",
    "\n",
    "email[]"
   ]
  },
  {
   "cell_type": "code",
   "execution_count": null,
   "id": "a7b0b64d",
   "metadata": {},
   "outputs": [],
   "source": []
  }
 ],
 "metadata": {
  "kernelspec": {
   "display_name": "Python 3 (ipykernel)",
   "language": "python",
   "name": "python3"
  },
  "language_info": {
   "codemirror_mode": {
    "name": "ipython",
    "version": 3
   },
   "file_extension": ".py",
   "mimetype": "text/x-python",
   "name": "python",
   "nbconvert_exporter": "python",
   "pygments_lexer": "ipython3",
   "version": "3.9.12"
  }
 },
 "nbformat": 4,
 "nbformat_minor": 5
}
