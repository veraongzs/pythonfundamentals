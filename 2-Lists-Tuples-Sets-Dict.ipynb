{
 "cells": [
  {
   "cell_type": "markdown",
   "metadata": {
    "colab_type": "text",
    "id": "zd6owJmb4QG1"
   },
   "source": [
    "# Lists, Tuples, Sets & Dictionaries - Synopsis\n",
    "\n",
    "In this unit we will learn about three of the four collection data types in Python.\n",
    "\n",
    "1. **Lists** are ordered sequences of elements, with that order being specified by the order that the elements are in when the list is created or as elements are added to the list.  \n",
    "\n",
    "    1. Lists are created using the `[]` syntax.\n",
    "    \n",
    "    2. Lists can include mixed data types.\n",
    "    \n",
    "    4. List elements are accessed by index.\n",
    "    \n",
    "    3. Lists are **mutable**. You can add, remove, and replace values using functions such as `append()`, `extend()`, `insert()`, `pop()`, `remove()`, and `del`. \n",
    "    \n",
    "2. **Tuples** are similar to lists except for the very important fact that they are **immutable**.\n",
    "\n",
    "3. **Sets** are unordered collections of elements.\n",
    "\n",
    "    1. Sets are created using the `{}` syntax.\n",
    "    \n",
    "    2. Sets can included mixed data types.\n",
    "    \n",
    "    3. Set elements are accessed by key (name).\n",
    "    \n",
    "    4. Elements in a set cannot be repeated.\n",
    "    \n",
    "    5. Sets are are **mutable**. You can add and remove values using functions such as `add()` and `discard()`.\n",
    "    \n",
    "4. **Dictionaries** are **mutable unordered** collections whose elements are accessed using **keys**.\n",
    "\n",
    "    1. Dictionaries are created using the `{}` syntax.\n",
    "    \n",
    "    2. Dictionaries are composed of `key, value` pairs.\n",
    "\n",
    "    3. Each `key, value` pair is called an *item*.\n",
    "    \n",
    "    4. `Items` can be added to a dictionary using the built-in method `update()`.\n",
    "    \n",
    "    5. `Items` can be changed using instanciation.\n",
    "    \n",
    "    6. `Items` can be removed usind the functions `del` and the method `pop()`.\n"
   ]
  },
  {
   "cell_type": "markdown",
   "metadata": {
    "colab_type": "text",
    "id": "jFeuwubO4QG4"
   },
   "source": [
    "# Collection Data Types\n",
    "\n",
    "Python has four collection data types:\n",
    "\n",
    "* Lists\n",
    "* Tuples\n",
    "* Sets\n",
    "* Dictionaries\n",
    "\n",
    "These data types allow for a greater number of operations because they can hold multiple elements.  In order to ease into deadling with collections, we will first recall some properties of another collection data type: strings.\n"
   ]
  },
  {
   "cell_type": "markdown",
   "metadata": {
    "colab_type": "text",
    "id": "mQk31UZj4QHC"
   },
   "source": [
    "## Lists\n",
    "\n",
    "A list is an ordered sequence of elements, with that order being specified by the order that the elements are in when the list is created or as elements are added to the list. We create a list by using the `[]` syntax.\n",
    "\n",
    "Let's go back to our obsession with pets, and imagine we own a pet store that carries a number of different species of pets."
   ]
  },
  {
   "cell_type": "code",
   "execution_count": 1,
   "metadata": {
    "colab": {
     "base_uri": "https://localhost:8080/",
     "height": 286
    },
    "colab_type": "code",
    "executionInfo": {
     "elapsed": 1134,
     "status": "error",
     "timestamp": 1590811464211,
     "user": {
      "displayName": "Desmond Sek",
      "photoUrl": "https://lh3.googleusercontent.com/a-/AOh14GjQj9ANFvLsRLkJAoNiRe9I6br32aYvAs1rqTwiF6M=s64",
      "userId": "15004601375355093954"
     },
     "user_tz": -480
    },
    "id": "OgmTCAtf4QHD",
    "outputId": "b624b60f-2a08-4805-e9d5-d9762d3dba31",
    "scrolled": true
   },
   "outputs": [
    {
     "name": "stdout",
     "output_type": "stream",
     "text": [
      "<class 'list'>\n",
      "['blue', 'black', 'silver']\n"
     ]
    }
   ],
   "source": [
    "credit_cards= [\"blue\",\"black\",\"silver\"]\n",
    "print(type(credit_cards))\n",
    "print(credit_cards)"
   ]
  },
  {
   "cell_type": "markdown",
   "metadata": {
    "colab_type": "text",
    "id": "5Xs-ZNPJ4QHF"
   },
   "source": [
    "Notice that the list printed the elements in the same order in which they were created. Unlike strings, **lists are mutable**. Thus, we can change them. \n",
    "\n",
    "If we want to add an element to the list, we `append()` the new element to the list."
   ]
  },
  {
   "cell_type": "code",
   "execution_count": 2,
   "metadata": {
    "colab": {
     "base_uri": "https://localhost:8080/",
     "height": 52
    },
    "colab_type": "code",
    "executionInfo": {
     "elapsed": 750,
     "status": "ok",
     "timestamp": 1590811490577,
     "user": {
      "displayName": "Desmond Sek",
      "photoUrl": "https://lh3.googleusercontent.com/a-/AOh14GjQj9ANFvLsRLkJAoNiRe9I6br32aYvAs1rqTwiF6M=s64",
      "userId": "15004601375355093954"
     },
     "user_tz": -480
    },
    "id": "DujZDy8z4QHG",
    "outputId": "c5b168ee-63b7-4e56-fdc0-0ca1854b8d4e",
    "scrolled": true
   },
   "outputs": [
    {
     "name": "stdout",
     "output_type": "stream",
     "text": [
      "3\n"
     ]
    }
   ],
   "source": [
    "print(len(credit_cards))"
   ]
  },
  {
   "cell_type": "code",
   "execution_count": 3,
   "metadata": {},
   "outputs": [
    {
     "name": "stdout",
     "output_type": "stream",
     "text": [
      "['blue', 'black', 'silver', 'green']\n",
      "4\n"
     ]
    }
   ],
   "source": [
    "credit_cards.append(\"green\")\n",
    "print(credit_cards)\n",
    "print(len(credit_cards))"
   ]
  },
  {
   "cell_type": "markdown",
   "metadata": {
    "colab_type": "text",
    "id": "rxvwWw734QHM"
   },
   "source": [
    "If we want to add multiple additional values, we can either append them one by one, or we can `extend()` our list `pets` with the list of additional pets that our pet shop carries."
   ]
  },
  {
   "cell_type": "code",
   "execution_count": 4,
   "metadata": {
    "colab": {
     "base_uri": "https://localhost:8080/",
     "height": 35
    },
    "colab_type": "code",
    "executionInfo": {
     "elapsed": 929,
     "status": "ok",
     "timestamp": 1590811519633,
     "user": {
      "displayName": "Desmond Sek",
      "photoUrl": "https://lh3.googleusercontent.com/a-/AOh14GjQj9ANFvLsRLkJAoNiRe9I6br32aYvAs1rqTwiF6M=s64",
      "userId": "15004601375355093954"
     },
     "user_tz": -480
    },
    "id": "_zc-MxkM4QHN",
    "outputId": "467866b9-93c9-4377-897c-db8d52845884",
    "scrolled": true
   },
   "outputs": [
    {
     "name": "stdout",
     "output_type": "stream",
     "text": [
      "4\n",
      "['blue', 'black', 'silver', 'green', 'metal', 'travel']\n",
      "6\n"
     ]
    }
   ],
   "source": [
    "new_cards = [\"metal\",\"travel\"]\n",
    "print(len(credit_cards))\n",
    "credit_cards.extend(new_cards)\n",
    "print(credit_cards)\n",
    "print(len(credit_cards))"
   ]
  },
  {
   "cell_type": "markdown",
   "metadata": {
    "colab_type": "text",
    "id": "d2UGni4l4QHQ"
   },
   "source": [
    "We can also add two lists together."
   ]
  },
  {
   "cell_type": "code",
   "execution_count": 5,
   "metadata": {
    "colab": {
     "base_uri": "https://localhost:8080/",
     "height": 35
    },
    "colab_type": "code",
    "executionInfo": {
     "elapsed": 772,
     "status": "ok",
     "timestamp": 1590811534240,
     "user": {
      "displayName": "Desmond Sek",
      "photoUrl": "https://lh3.googleusercontent.com/a-/AOh14GjQj9ANFvLsRLkJAoNiRe9I6br32aYvAs1rqTwiF6M=s64",
      "userId": "15004601375355093954"
     },
     "user_tz": -480
    },
    "id": "yXfayq9h4QHV",
    "outputId": "be896ea4-3481-47fc-9c2b-bb6d2c41c4cd"
   },
   "outputs": [
    {
     "name": "stdout",
     "output_type": "stream",
     "text": [
      "6\n",
      "['blue', 'black', 'silver', 'green', 'metal', 'travel', 'green', 'pink']\n",
      "8\n"
     ]
    }
   ],
   "source": [
    "print(len(credit_cards))\n",
    "credit_cards = credit_cards + [\"green\", \"pink\"]\n",
    "print(credit_cards)\n",
    "print(len(credit_cards))"
   ]
  },
  {
   "cell_type": "markdown",
   "metadata": {
    "colab_type": "text",
    "id": "_cFMvFKZ4QHX"
   },
   "source": [
    "And just like strings, we can use both of the additive math operators. I'll use a small number here so as not to flood the screen, but we can multiply the list too."
   ]
  },
  {
   "cell_type": "code",
   "execution_count": 6,
   "metadata": {
    "colab": {
     "base_uri": "https://localhost:8080/",
     "height": 55
    },
    "colab_type": "code",
    "executionInfo": {
     "elapsed": 820,
     "status": "ok",
     "timestamp": 1590811541185,
     "user": {
      "displayName": "Desmond Sek",
      "photoUrl": "https://lh3.googleusercontent.com/a-/AOh14GjQj9ANFvLsRLkJAoNiRe9I6br32aYvAs1rqTwiF6M=s64",
      "userId": "15004601375355093954"
     },
     "user_tz": -480
    },
    "id": "O5Ckw2gT4QHY",
    "outputId": "8867e33d-7a0c-4e84-8af4-2f3e28e863cd",
    "scrolled": true
   },
   "outputs": [
    {
     "data": {
      "text/plain": [
       "2"
      ]
     },
     "execution_count": 6,
     "metadata": {},
     "output_type": "execute_result"
    }
   ],
   "source": [
    "# Testing .count()\n",
    "credit_cards.count(\"green\")"
   ]
  },
  {
   "cell_type": "markdown",
   "metadata": {
    "colab_type": "text",
    "id": "lzHn6qSD4QHa"
   },
   "source": [
    "As for strings, subtraction and division are not implemented for lists.  The reason is that it is not clear what subtracting two lists should produce."
   ]
  },
  {
   "cell_type": "markdown",
   "metadata": {
    "colab": {
     "base_uri": "https://localhost:8080/",
     "height": 165
    },
    "colab_type": "code",
    "executionInfo": {
     "elapsed": 967,
     "status": "error",
     "timestamp": 1590811560640,
     "user": {
      "displayName": "Desmond Sek",
      "photoUrl": "https://lh3.googleusercontent.com/a-/AOh14GjQj9ANFvLsRLkJAoNiRe9I6br32aYvAs1rqTwiF6M=s64",
      "userId": "15004601375355093954"
     },
     "user_tz": -480
    },
    "id": "nfGWCQ2W4QHb",
    "outputId": "bdfe9b5a-aee3-4e08-9e0f-6eba70166185",
    "scrolled": true
   },
   "source": [
    ".Insert: adds an element at a specified position"
   ]
  },
  {
   "cell_type": "code",
   "execution_count": 7,
   "metadata": {
    "colab": {},
    "colab_type": "code",
    "id": "g9gNta-h0215"
   },
   "outputs": [],
   "source": [
    "# credit_cards - [\"pink\"]\n",
    "# you cannot subtract a list from a list"
   ]
  },
  {
   "cell_type": "code",
   "execution_count": 8,
   "metadata": {
    "colab": {},
    "colab_type": "code",
    "id": "L7u4WJxD083s"
   },
   "outputs": [
    {
     "data": {
      "text/plain": [
       "'pink'"
      ]
     },
     "execution_count": 8,
     "metadata": {},
     "output_type": "execute_result"
    }
   ],
   "source": [
    "# .pop (will remove and return the removed value to you)\n",
    "credit_cards.pop(-1)"
   ]
  },
  {
   "cell_type": "code",
   "execution_count": 9,
   "metadata": {},
   "outputs": [
    {
     "data": {
      "text/plain": [
       "['blue', 'black', 'silver', 'green', 'metal', 'travel', 'green']"
      ]
     },
     "execution_count": 9,
     "metadata": {},
     "output_type": "execute_result"
    }
   ],
   "source": [
    "credit_cards"
   ]
  },
  {
   "cell_type": "code",
   "execution_count": 10,
   "metadata": {},
   "outputs": [],
   "source": [
    "credit_cards.append(\"pink\")"
   ]
  },
  {
   "cell_type": "code",
   "execution_count": 11,
   "metadata": {},
   "outputs": [],
   "source": [
    "credit_cards.remove(\"pink\")\n",
    "# does not give you back the removed element"
   ]
  },
  {
   "cell_type": "code",
   "execution_count": 12,
   "metadata": {},
   "outputs": [
    {
     "data": {
      "text/plain": [
       "['blue', 'black', 'silver', 'green', 'metal', 'travel', 'green']"
      ]
     },
     "execution_count": 12,
     "metadata": {},
     "output_type": "execute_result"
    }
   ],
   "source": [
    "credit_cards"
   ]
  },
  {
   "cell_type": "markdown",
   "metadata": {
    "colab_type": "text",
    "id": "62vqqQTT4QHd"
   },
   "source": [
    "### Indexing and Slicing\n",
    "\n",
    "Since a list comprises multiple elements, just as a string comprises multiple chracters, it is helpfuul to be able to access a single element by its index or to access a section of the list using slicing. To access an element by its index we use the syntax: `variable[index]`.\n",
    "\n",
    "As for strings, you cannot attempt to access an index that has not been defined.  In order to avoid that kind of mistake it is useful to keep track of the number of elements in a list.  You can obtain this number using the built-in function `len()`:"
   ]
  },
  {
   "cell_type": "code",
   "execution_count": 13,
   "metadata": {
    "colab": {
     "base_uri": "https://localhost:8080/",
     "height": 252
    },
    "colab_type": "code",
    "executionInfo": {
     "elapsed": 1295,
     "status": "error",
     "timestamp": 1590816068121,
     "user": {
      "displayName": "Desmond Sek",
      "photoUrl": "https://lh3.googleusercontent.com/a-/AOh14GjQj9ANFvLsRLkJAoNiRe9I6br32aYvAs1rqTwiF6M=s64",
      "userId": "15004601375355093954"
     },
     "user_tz": -480
    },
    "id": "gnWxI42q4QHe",
    "outputId": "4a1379ea-25eb-473e-a6c7-e3eaac9e51aa"
   },
   "outputs": [
    {
     "data": {
      "text/plain": [
       "'green'"
      ]
     },
     "execution_count": 13,
     "metadata": {},
     "output_type": "execute_result"
    }
   ],
   "source": [
    "credit_cards[3]\n",
    "# ordered lists: you can retrieve element via index"
   ]
  },
  {
   "cell_type": "markdown",
   "metadata": {
    "colab_type": "text",
    "id": "UfwafKrf4QHg"
   },
   "source": [
    "In order to obtain a access a section of a list, we use the slicing syntax  `variable[start_index : stop_index : step]`"
   ]
  },
  {
   "cell_type": "code",
   "execution_count": 14,
   "metadata": {
    "colab": {
     "base_uri": "https://localhost:8080/",
     "height": 35
    },
    "colab_type": "code",
    "executionInfo": {
     "elapsed": 1476,
     "status": "ok",
     "timestamp": 1590816090394,
     "user": {
      "displayName": "Desmond Sek",
      "photoUrl": "https://lh3.googleusercontent.com/a-/AOh14GjQj9ANFvLsRLkJAoNiRe9I6br32aYvAs1rqTwiF6M=s64",
      "userId": "15004601375355093954"
     },
     "user_tz": -480
    },
    "id": "Q1KrGyJ84QHh",
    "outputId": "d99f250a-f921-4a5c-fd65-1a33ac709992",
    "scrolled": true
   },
   "outputs": [
    {
     "data": {
      "text/plain": [
       "['black', 'silver', 'green', 'metal']"
      ]
     },
     "execution_count": 14,
     "metadata": {},
     "output_type": "execute_result"
    }
   ],
   "source": [
    "credit_cards[1:5]"
   ]
  },
  {
   "cell_type": "code",
   "execution_count": 15,
   "metadata": {},
   "outputs": [
    {
     "data": {
      "text/plain": [
       "['blue', 'black', 'silver', 'green', 'metal']"
      ]
     },
     "execution_count": 15,
     "metadata": {},
     "output_type": "execute_result"
    }
   ],
   "source": [
    "credit_cards[:5]"
   ]
  },
  {
   "cell_type": "code",
   "execution_count": 16,
   "metadata": {},
   "outputs": [
    {
     "data": {
      "text/plain": [
       "['silver', 'green', 'metal', 'travel', 'green']"
      ]
     },
     "execution_count": 16,
     "metadata": {},
     "output_type": "execute_result"
    }
   ],
   "source": [
    "credit_cards[2:]"
   ]
  },
  {
   "cell_type": "markdown",
   "metadata": {
    "colab_type": "text",
    "id": "RRnzz-Xn4QHo"
   },
   "source": [
    "\n",
    "Because lists are mutable, we can not only add and remove elements, we can also change the value of the elements. "
   ]
  },
  {
   "cell_type": "code",
   "execution_count": 17,
   "metadata": {
    "colab": {
     "base_uri": "https://localhost:8080/",
     "height": 35
    },
    "colab_type": "code",
    "executionInfo": {
     "elapsed": 1005,
     "status": "ok",
     "timestamp": 1590816189816,
     "user": {
      "displayName": "Desmond Sek",
      "photoUrl": "https://lh3.googleusercontent.com/a-/AOh14GjQj9ANFvLsRLkJAoNiRe9I6br32aYvAs1rqTwiF6M=s64",
      "userId": "15004601375355093954"
     },
     "user_tz": -480
    },
    "id": "hEo_n_Ia4QHp",
    "outputId": "106b9009-2330-4bae-e8df-d45984b208ac",
    "scrolled": true
   },
   "outputs": [
    {
     "data": {
      "text/plain": [
       "['blue', 'gold', 'silver', 'green', 'metal', 'travel', 'green']"
      ]
     },
     "execution_count": 17,
     "metadata": {},
     "output_type": "execute_result"
    }
   ],
   "source": [
    "credit_cards[1] = \"gold\"\n",
    "credit_cards"
   ]
  },
  {
   "cell_type": "markdown",
   "metadata": {
    "colab_type": "text",
    "id": "9oBI1DD64QHs"
   },
   "source": [
    "Sometimes, we know that a certain value is included in a list but do not know its index in the list. If we want to find out the index of a given value, we use the built-in function `index()`. "
   ]
  },
  {
   "cell_type": "code",
   "execution_count": 18,
   "metadata": {
    "colab": {
     "base_uri": "https://localhost:8080/",
     "height": 35
    },
    "colab_type": "code",
    "executionInfo": {
     "elapsed": 603,
     "status": "ok",
     "timestamp": 1590816205538,
     "user": {
      "displayName": "Desmond Sek",
      "photoUrl": "https://lh3.googleusercontent.com/a-/AOh14GjQj9ANFvLsRLkJAoNiRe9I6br32aYvAs1rqTwiF6M=s64",
      "userId": "15004601375355093954"
     },
     "user_tz": -480
    },
    "id": "0Awcjj0J4QHs",
    "outputId": "ecbc762f-08f5-40a4-dcca-16b781ee7541",
    "scrolled": true
   },
   "outputs": [
    {
     "data": {
      "text/plain": [
       "5"
      ]
     },
     "execution_count": 18,
     "metadata": {},
     "output_type": "execute_result"
    }
   ],
   "source": [
    "credit_cards.index(\"travel\")"
   ]
  },
  {
   "cell_type": "markdown",
   "metadata": {
    "colab_type": "text",
    "id": "-Dkr-9F_4QIF"
   },
   "source": [
    "### Ordering lists\n",
    "\n",
    "Lists have other built-in methods too besides the maintenance functions of adding and deleting elements. For example, you can reverse a list:"
   ]
  },
  {
   "cell_type": "code",
   "execution_count": 19,
   "metadata": {
    "colab": {
     "base_uri": "https://localhost:8080/",
     "height": 52
    },
    "colab_type": "code",
    "executionInfo": {
     "elapsed": 723,
     "status": "ok",
     "timestamp": 1590816507483,
     "user": {
      "displayName": "Desmond Sek",
      "photoUrl": "https://lh3.googleusercontent.com/a-/AOh14GjQj9ANFvLsRLkJAoNiRe9I6br32aYvAs1rqTwiF6M=s64",
      "userId": "15004601375355093954"
     },
     "user_tz": -480
    },
    "id": "AYpeCnQc4QIG",
    "outputId": "43185bb4-d50b-435c-9113-af4e953dbd25",
    "scrolled": true
   },
   "outputs": [
    {
     "name": "stdout",
     "output_type": "stream",
     "text": [
      "Initial list ['blue', 'gold', 'silver', 'green', 'metal', 'travel', 'green']\n",
      "Reversed list ['green', 'travel', 'metal', 'green', 'silver', 'gold', 'blue']\n"
     ]
    }
   ],
   "source": [
    "print('Initial list', credit_cards)\n",
    "credit_cards.reverse()\n",
    "print('Reversed list', credit_cards)"
   ]
  },
  {
   "cell_type": "markdown",
   "metadata": {
    "colab_type": "text",
    "id": "CEkS0u6H4QII"
   },
   "source": [
    "The elements in a list can also be sorted.  If the elements are numbers that the standard ordering of numbers is used. If the elements are string, then alphanumeric ordering is used."
   ]
  },
  {
   "cell_type": "code",
   "execution_count": 20,
   "metadata": {
    "colab": {
     "base_uri": "https://localhost:8080/",
     "height": 52
    },
    "colab_type": "code",
    "executionInfo": {
     "elapsed": 1257,
     "status": "ok",
     "timestamp": 1590816567254,
     "user": {
      "displayName": "Desmond Sek",
      "photoUrl": "https://lh3.googleusercontent.com/a-/AOh14GjQj9ANFvLsRLkJAoNiRe9I6br32aYvAs1rqTwiF6M=s64",
      "userId": "15004601375355093954"
     },
     "user_tz": -480
    },
    "id": "1UHTK4NC4QIJ",
    "outputId": "8205b770-b3cd-4f9c-f121-4726286a40c7",
    "scrolled": true
   },
   "outputs": [
    {
     "name": "stdout",
     "output_type": "stream",
     "text": [
      "Initial list ['green', 'travel', 'metal', 'green', 'silver', 'gold', 'blue']\n",
      "Sorted list ['blue', 'gold', 'green', 'green', 'metal', 'silver', 'travel']\n"
     ]
    }
   ],
   "source": [
    "# Alpha sort (ascending order)\n",
    "print('Initial list', credit_cards)\n",
    "credit_cards.sort()\n",
    "print('Sorted list', credit_cards)"
   ]
  },
  {
   "cell_type": "code",
   "execution_count": 21,
   "metadata": {
    "colab": {},
    "colab_type": "code",
    "id": "qdX7om_wioZo"
   },
   "outputs": [
    {
     "name": "stdout",
     "output_type": "stream",
     "text": [
      "Initial list ['blue', 'gold', 'green', 'green', 'metal', 'silver', 'travel']\n",
      "Sorted list ['travel', 'silver', 'metal', 'green', 'green', 'gold', 'blue']\n"
     ]
    }
   ],
   "source": [
    "# Reverse alpha sort (descending order)\n",
    "print('Initial list', credit_cards)\n",
    "credit_cards.sort(reverse=True)\n",
    "print('Sorted list', credit_cards)"
   ]
  },
  {
   "cell_type": "code",
   "execution_count": 22,
   "metadata": {
    "colab": {
     "base_uri": "https://localhost:8080/",
     "height": 165
    },
    "colab_type": "code",
    "executionInfo": {
     "elapsed": 838,
     "status": "error",
     "timestamp": 1590816601715,
     "user": {
      "displayName": "Desmond Sek",
      "photoUrl": "https://lh3.googleusercontent.com/a-/AOh14GjQj9ANFvLsRLkJAoNiRe9I6br32aYvAs1rqTwiF6M=s64",
      "userId": "15004601375355093954"
     },
     "user_tz": -480
    },
    "id": "KfsLutDvinec",
    "outputId": "0f5d2793-67c8-4546-da93-18e174ff4888"
   },
   "outputs": [
    {
     "name": "stdout",
     "output_type": "stream",
     "text": [
      "[88, 77, 12, 1001, 1, 0, 15]\n",
      "[0, 1, 12, 15, 77, 88, 1001]\n"
     ]
    }
   ],
   "source": [
    "numlist = [88, 77, 12, 1001, 1, 0, 15]\n",
    "print(numlist)\n",
    "numlist.sort()\n",
    "print(numlist)"
   ]
  },
  {
   "cell_type": "code",
   "execution_count": 23,
   "metadata": {},
   "outputs": [
    {
     "name": "stdout",
     "output_type": "stream",
     "text": [
      "[1001, 88, 77, 15, 12, 1, 0]\n"
     ]
    }
   ],
   "source": [
    "numlist.sort(reverse=True)\n",
    "print(numlist)"
   ]
  },
  {
   "cell_type": "code",
   "execution_count": 24,
   "metadata": {},
   "outputs": [],
   "source": [
    "# Mixed List cannot be sorted in Python"
   ]
  },
  {
   "cell_type": "markdown",
   "metadata": {
    "colab_type": "text",
    "id": "BPY2Y8NV4QIS"
   },
   "source": [
    "## Tuples\n",
    "\n",
    "On the surface, tuples appear similar to `list`:\n",
    "\n",
    "* Both Tuples and Lists contain a sequence of individual elements\n",
    "* Both Tuples and Lists are stored in the order that they were added\n",
    "* Both Tuples and Lists can store mixed data types\n",
    "* We access individual elements with the syntax `variable[index]`\n",
    "\n",
    "So what is the difference? \n",
    "\n",
    "The big difference is that tuples are an **immutable** data type (like strings). This means that none of the functions that are built-in to modify variables can be applied to tuples.\n",
    "\n",
    "In order to indicate this **crucial** difference between lists and tuples, Python uses a different syntax to create a tuple.\n",
    "The syntax for creating a `list` uses `[]`. The syntax to create a `tuple` uses `()`. \n"
   ]
  },
  {
   "cell_type": "code",
   "execution_count": 25,
   "metadata": {
    "colab": {
     "base_uri": "https://localhost:8080/",
     "height": 52
    },
    "colab_type": "code",
    "executionInfo": {
     "elapsed": 979,
     "status": "ok",
     "timestamp": 1590817227609,
     "user": {
      "displayName": "Desmond Sek",
      "photoUrl": "https://lh3.googleusercontent.com/a-/AOh14GjQj9ANFvLsRLkJAoNiRe9I6br32aYvAs1rqTwiF6M=s64",
      "userId": "15004601375355093954"
     },
     "user_tz": -480
    },
    "id": "tSmLILDm4QIT",
    "outputId": "f869b500-cb9d-4af4-f3ad-7472276f3086",
    "scrolled": true
   },
   "outputs": [
    {
     "name": "stdout",
     "output_type": "stream",
     "text": [
      "<class 'tuple'>\n",
      "('UOB', 'DBS', 'OCBC')\n"
     ]
    }
   ],
   "source": [
    "banks = (\"UOB\",\"DBS\",\"OCBC\")\n",
    "print(type(banks))\n",
    "print(banks)"
   ]
  },
  {
   "cell_type": "markdown",
   "metadata": {
    "colab_type": "text",
    "id": "yzN_Bq4j4QIV"
   },
   "source": [
    "Notice that since it isn't necessarily clear what each of the individual elements stood for in the tuple, I added a comment listing the meaning of each field. As we discussed earlier, comments are signaled in Python by the symbol `#` Whatever you type in a line after the `#` will be ignored by the Python interpreter.\n",
    "\n",
    "Because tuples are immutable element assignment does not work."
   ]
  },
  {
   "cell_type": "code",
   "execution_count": 26,
   "metadata": {
    "colab": {
     "base_uri": "https://localhost:8080/",
     "height": 165
    },
    "colab_type": "code",
    "executionInfo": {
     "elapsed": 1221,
     "status": "error",
     "timestamp": 1590817239796,
     "user": {
      "displayName": "Desmond Sek",
      "photoUrl": "https://lh3.googleusercontent.com/a-/AOh14GjQj9ANFvLsRLkJAoNiRe9I6br32aYvAs1rqTwiF6M=s64",
      "userId": "15004601375355093954"
     },
     "user_tz": -480
    },
    "id": "k0bt9Ul94QIV",
    "outputId": "15cb66af-ed03-4fbc-ca73-6a2e99d5216d",
    "scrolled": true
   },
   "outputs": [],
   "source": [
    "# banks[1] = \"POSB\"\n",
    "# You CANNOT reassign a value in a Tuple, b/c Tuples are immutable."
   ]
  },
  {
   "cell_type": "code",
   "execution_count": 27,
   "metadata": {
    "colab": {
     "base_uri": "https://localhost:8080/",
     "height": 165
    },
    "colab_type": "code",
    "executionInfo": {
     "elapsed": 937,
     "status": "error",
     "timestamp": 1590817261796,
     "user": {
      "displayName": "Desmond Sek",
      "photoUrl": "https://lh3.googleusercontent.com/a-/AOh14GjQj9ANFvLsRLkJAoNiRe9I6br32aYvAs1rqTwiF6M=s64",
      "userId": "15004601375355093954"
     },
     "user_tz": -480
    },
    "id": "vmAlIQWP4QIX",
    "outputId": "9f88123d-5e3b-49d4-f112-cf47e7ef0d65",
    "scrolled": true
   },
   "outputs": [],
   "source": [
    "# banks.pop(1)\n",
    "# Tuples do NOT have a .pop method "
   ]
  },
  {
   "cell_type": "markdown",
   "metadata": {
    "colab_type": "text",
    "id": "xjDkSR4n4QIa"
   },
   "source": [
    "and neither does element removal.  However, We can still perform the additive operators with tuples though"
   ]
  },
  {
   "cell_type": "code",
   "execution_count": 28,
   "metadata": {
    "colab": {
     "base_uri": "https://localhost:8080/",
     "height": 35
    },
    "colab_type": "code",
    "executionInfo": {
     "elapsed": 1024,
     "status": "ok",
     "timestamp": 1590817343965,
     "user": {
      "displayName": "Desmond Sek",
      "photoUrl": "https://lh3.googleusercontent.com/a-/AOh14GjQj9ANFvLsRLkJAoNiRe9I6br32aYvAs1rqTwiF6M=s64",
      "userId": "15004601375355093954"
     },
     "user_tz": -480
    },
    "id": "cZVf-YRE4QIb",
    "outputId": "dd36e287-9df5-4eb4-e281-235e1046bef3",
    "scrolled": true
   },
   "outputs": [
    {
     "name": "stdout",
     "output_type": "stream",
     "text": [
      "<class 'tuple'>\n",
      "('UOB', 'DBS', 'OCBC', 'Maybank', 'CIMB')\n"
     ]
    }
   ],
   "source": [
    "# You can create a NEW tuple by adding 2 existing tuples\n",
    "new_banks = banks + (\"Maybank\", \"CIMB\")\n",
    "print(type(new_banks))\n",
    "print(new_banks)"
   ]
  },
  {
   "cell_type": "code",
   "execution_count": 29,
   "metadata": {},
   "outputs": [
    {
     "data": {
      "text/plain": [
       "('OCBC', 'Maybank', 'CIMB')"
      ]
     },
     "execution_count": 29,
     "metadata": {},
     "output_type": "execute_result"
    }
   ],
   "source": [
    "new_banks[2:]"
   ]
  },
  {
   "cell_type": "markdown",
   "metadata": {
    "colab_type": "text",
    "id": "noo1olxj4QIe"
   },
   "source": [
    "The reason is that when we add something to a tuple we are not changing the tuple, we are creating a new tuple. Notice that if we do not copy the new tuple into a new variable, then it is lost to us.\n",
    "\n",
    "Another subtlety with tuples is that they require a non-obvious syntax when they have a single element.  Specifically, a tuple with a single element must be written as using the syntax `(value, )`. Without the comma, the Python interpreter would decide that we are using the `()` in the context of a mathematical operation."
   ]
  },
  {
   "cell_type": "markdown",
   "metadata": {
    "colab_type": "text",
    "id": "wrzJnDPl4QIg"
   },
   "source": [
    "### So wait, why are there both lists and tuples? \n",
    "\n",
    "I know, right now it's pretty hard to see why you would use one data type over the other. \n",
    "\n",
    "Remember that Python was developed with the ideal of being readable and understandable. That means that when you are writing code, you want to make choices that make it easy for others to understand what is going on. For example, if you have a some variable that contains values that are never going to change, then why would you use a mutable data type such as a list to store it?  \n",
    "\n",
    "Think of the days of the week or the months of the year: Does it make more sense to define\n",
    "\n",
    "`days_of_the_week = (\"Sunday\", \"Monday\", \"Tuesday\", \"Wednesday\", \"Thursday\", \"Friday\", \"Saturday\")`\n",
    "\n",
    "or \n",
    "\n",
    "`days_of_the_week = [\"Sunday\", \"Monday\", \"Tuesday\", \"Wednesday\", \"Thursday\", \"Friday\", \"Saturday\"]`?\n",
    "\n",
    "By using a tuple to store some data, you are signaling to a reader of your code, that the values you stored are not going to change during the execution of your code."
   ]
  },
  {
   "cell_type": "markdown",
   "metadata": {
    "colab_type": "text",
    "id": "fdo1dC_B4QIh"
   },
   "source": [
    "## Sets\n",
    "\n",
    "A Python set is an unordered collection that prevents the repetition of values from occurring.  To create a `set` we use the syntax `{}`. \n",
    "\n",
    "Why do we need sets? Imagine, for example, that you want to store the names of your friends; you will want to use a list since you might have several friends named Mary.  However, if you are storing the city in which your friends live, you do not want the same city repeated several times. If you want to find out cities to visit where you have friends you only need the city name in there once.\n",
    "\n",
    "Let us see this in play.  We want to keep track of what investments we have."
   ]
  },
  {
   "cell_type": "code",
   "execution_count": 30,
   "metadata": {
    "colab": {
     "base_uri": "https://localhost:8080/",
     "height": 35
    },
    "colab_type": "code",
    "executionInfo": {
     "elapsed": 773,
     "status": "ok",
     "timestamp": 1596254571145,
     "user": {
      "displayName": "A M Aditya",
      "photoUrl": "https://lh3.googleusercontent.com/a-/AOh14GgFVWgbF3Mg6wXstyZ41k2zGOCwgYmwsme0Ysan0cI=s64",
      "userId": "15341571102300750919"
     },
     "user_tz": -480
    },
    "id": "k3Omm4A34QIh",
    "outputId": "ae6ef00f-d4d0-4011-cb38-5d45fc748219",
    "scrolled": true
   },
   "outputs": [
    {
     "name": "stdout",
     "output_type": "stream",
     "text": [
      "<class 'set'>\n",
      "{'crypto', 'fixed', 'etfs'}\n"
     ]
    }
   ],
   "source": [
    "invs = {\"etfs\",\"crypto\",\"fixed\"}\n",
    "print(type(invs))\n",
    "print(invs)"
   ]
  },
  {
   "cell_type": "code",
   "execution_count": 31,
   "metadata": {},
   "outputs": [],
   "source": [
    "# sets are UNORDERED, unlike lists and tuples\n",
    "# invs[0]"
   ]
  },
  {
   "cell_type": "markdown",
   "metadata": {
    "colab_type": "text",
    "id": "MBqvS7hn4QIj"
   },
   "source": [
    "The way to add an element to a set is using the function `add()`. However, if we try to add an element that already exists in the set, that element will just be ignored."
   ]
  },
  {
   "cell_type": "code",
   "execution_count": 32,
   "metadata": {
    "colab": {
     "base_uri": "https://localhost:8080/",
     "height": 52
    },
    "colab_type": "code",
    "executionInfo": {
     "elapsed": 1238,
     "status": "ok",
     "timestamp": 1590817715637,
     "user": {
      "displayName": "Desmond Sek",
      "photoUrl": "https://lh3.googleusercontent.com/a-/AOh14GjQj9ANFvLsRLkJAoNiRe9I6br32aYvAs1rqTwiF6M=s64",
      "userId": "15004601375355093954"
     },
     "user_tz": -480
    },
    "id": "SFJHwRvt4QIk",
    "outputId": "644c01eb-f946-49bc-c587-00cb993c4204",
    "scrolled": true
   },
   "outputs": [
    {
     "name": "stdout",
     "output_type": "stream",
     "text": [
      "{'crypto', 'fixed', 'etfs', 'equity'}\n",
      "{'fixed', 'crypto', 'equity', 'etfs', 'warrants'}\n",
      "{'fixed', 'crypto', 'equity', 'etfs', 'warrants'}\n"
     ]
    }
   ],
   "source": [
    "invs.add(\"equity\")\n",
    "print(invs)\n",
    "invs.add(\"warrants\")\n",
    "print(invs)\n",
    "# All elements in a set MUST be unique.\n",
    "# Duplicates will be de-duplicated by Python\n",
    "invs.add(\"fixed\")\n",
    "print(invs)"
   ]
  },
  {
   "cell_type": "markdown",
   "metadata": {
    "colab_type": "text",
    "id": "PvoSylIB4QIn"
   },
   "source": [
    "Sets are also **mutable**, like a `list`. However, they don't use the same built-in functions. To add an item, you use the built-in function `add()`. T remove an element, you use the built-in function `discard()`.  Notice, however, that **sets cannot be added or multiplied**."
   ]
  },
  {
   "cell_type": "code",
   "execution_count": 33,
   "metadata": {
    "colab": {
     "base_uri": "https://localhost:8080/",
     "height": 52
    },
    "colab_type": "code",
    "executionInfo": {
     "elapsed": 1050,
     "status": "ok",
     "timestamp": 1590817755810,
     "user": {
      "displayName": "Desmond Sek",
      "photoUrl": "https://lh3.googleusercontent.com/a-/AOh14GjQj9ANFvLsRLkJAoNiRe9I6br32aYvAs1rqTwiF6M=s64",
      "userId": "15004601375355093954"
     },
     "user_tz": -480
    },
    "id": "sYaJ3-ui4QIo",
    "outputId": "1a10904f-92b4-4931-f247-a84f15383464",
    "scrolled": true
   },
   "outputs": [
    {
     "name": "stdout",
     "output_type": "stream",
     "text": [
      "{'crypto', 'equity', 'etfs', 'warrants'}\n"
     ]
    }
   ],
   "source": [
    "invs.discard(\"fixed\")\n",
    "print(invs)"
   ]
  },
  {
   "cell_type": "markdown",
   "metadata": {
    "colab_type": "text",
    "id": "prdWsvwK4QIs"
   },
   "source": [
    "### Other set operations\n",
    "\n",
    "Another class of operations that can be performed on sets are `intersection`, `union`, and `difference`. These operations are identical to their homonymous functions in the mathematics of sets."
   ]
  },
  {
   "cell_type": "code",
   "execution_count": 34,
   "metadata": {
    "colab": {
     "base_uri": "https://localhost:8080/",
     "height": 86
    },
    "colab_type": "code",
    "executionInfo": {
     "elapsed": 878,
     "status": "ok",
     "timestamp": 1590817831019,
     "user": {
      "displayName": "Desmond Sek",
      "photoUrl": "https://lh3.googleusercontent.com/a-/AOh14GjQj9ANFvLsRLkJAoNiRe9I6br32aYvAs1rqTwiF6M=s64",
      "userId": "15004601375355093954"
     },
     "user_tz": -480
    },
    "id": "RB5sfgQS4QIt",
    "outputId": "603fc6b1-355d-4df4-9d4e-c8ddd34d1a71",
    "scrolled": true
   },
   "outputs": [
    {
     "name": "stdout",
     "output_type": "stream",
     "text": [
      "The set invs:  {'crypto', 'equity', 'etfs', 'warrants'}\n",
      "The set invs_b:  {'CDO', 'nfts', 'crypto', 'equity'}\n"
     ]
    }
   ],
   "source": [
    "print(\"The set invs: \", invs)\n",
    "invs_b = {\"crypto\", \"nfts\", \"equity\", \"CDO\"}\n",
    "print(\"The set invs_b: \", invs_b)"
   ]
  },
  {
   "cell_type": "markdown",
   "metadata": {},
   "source": [
    "Common elements: \"equity\", \"crypto\"\n",
    "\n",
    "Only in invs: \"warrants\", \"etfs\"\n",
    "\n",
    "Only in invs_b: \"nfts\", \"cdos\""
   ]
  },
  {
   "cell_type": "code",
   "execution_count": 35,
   "metadata": {},
   "outputs": [
    {
     "data": {
      "text/plain": [
       "{'crypto', 'equity'}"
      ]
     },
     "execution_count": 35,
     "metadata": {},
     "output_type": "execute_result"
    }
   ],
   "source": [
    "invs.intersection(invs_b)"
   ]
  },
  {
   "cell_type": "code",
   "execution_count": 36,
   "metadata": {},
   "outputs": [
    {
     "data": {
      "text/plain": [
       "{'crypto', 'equity'}"
      ]
     },
     "execution_count": 36,
     "metadata": {},
     "output_type": "execute_result"
    }
   ],
   "source": [
    "# intersection is commutative\n",
    "invs_b.intersection(invs)"
   ]
  },
  {
   "cell_type": "code",
   "execution_count": 37,
   "metadata": {},
   "outputs": [
    {
     "data": {
      "text/plain": [
       "{'CDO', 'crypto', 'equity', 'etfs', 'nfts', 'warrants'}"
      ]
     },
     "execution_count": 37,
     "metadata": {},
     "output_type": "execute_result"
    }
   ],
   "source": [
    "invs.union(invs_b)\n",
    "# Unions will also ensure elements are de-duplicated"
   ]
  },
  {
   "cell_type": "code",
   "execution_count": 38,
   "metadata": {},
   "outputs": [
    {
     "data": {
      "text/plain": [
       "{'CDO', 'crypto', 'equity', 'etfs', 'nfts', 'warrants'}"
      ]
     },
     "execution_count": 38,
     "metadata": {},
     "output_type": "execute_result"
    }
   ],
   "source": [
    "invs_b.union(invs)"
   ]
  },
  {
   "cell_type": "code",
   "execution_count": 39,
   "metadata": {},
   "outputs": [
    {
     "data": {
      "text/plain": [
       "{'etfs', 'warrants'}"
      ]
     },
     "execution_count": 39,
     "metadata": {},
     "output_type": "execute_result"
    }
   ],
   "source": [
    "invs.difference(invs_b)"
   ]
  },
  {
   "cell_type": "markdown",
   "metadata": {
    "colab_type": "text",
    "id": "iQ9L97lt4QIx"
   },
   "source": [
    "Note that while `intersection` and `union` are symmetrical -- for example, `A.union(B) = B.union(A)` -- the same is not true for `difference`."
   ]
  },
  {
   "cell_type": "code",
   "execution_count": 40,
   "metadata": {},
   "outputs": [
    {
     "data": {
      "text/plain": [
       "{'CDO', 'nfts'}"
      ]
     },
     "execution_count": 40,
     "metadata": {},
     "output_type": "execute_result"
    }
   ],
   "source": [
    "invs_b.difference(invs)\n",
    "# .difference is NOT commutative."
   ]
  },
  {
   "cell_type": "code",
   "execution_count": 41,
   "metadata": {},
   "outputs": [
    {
     "data": {
      "text/plain": [
       "True"
      ]
     },
     "execution_count": 41,
     "metadata": {},
     "output_type": "execute_result"
    }
   ],
   "source": [
    "invs_d = {\"CDO\"}\n",
    "invs_d.issubset(invs_b)"
   ]
  },
  {
   "cell_type": "code",
   "execution_count": 42,
   "metadata": {},
   "outputs": [
    {
     "data": {
      "text/plain": [
       "True"
      ]
     },
     "execution_count": 42,
     "metadata": {},
     "output_type": "execute_result"
    }
   ],
   "source": [
    "invs_b.issuperset(invs_d)\n",
    "# Subset is wholly contained within Superset"
   ]
  },
  {
   "cell_type": "markdown",
   "metadata": {},
   "source": [
    "## Dictionaries - Synopsis\n",
    "\n",
    "In this unit we will learn that:\n",
    "\n",
    "1. **Dictionaries** are **mutable unordered** collections whose elements are accessed using **keys**.\n",
    "\n",
    "    1. Dictionaries are created using the `{}` syntax.\n",
    "    \n",
    "    2. Dictionaries are composed of `key, value` pairs.\n",
    "\n",
    "    3. Each `key, value` pair is called an *item*.\n",
    "    \n",
    "    4. `Items` can be added to a dictionary using the built-in method `update()`.\n",
    "    \n",
    "    5. `Items` can be changed using instanciation.\n",
    "    \n",
    "    6. `Items` can be removed usind the functions `del` and the method `pop()`.\n",
    "    \n",
    "2. Dictionaries allow nesting with all data types.\n",
    "\n",
    "3. We can access all `items`, `keys`, and `values` in a dictionary."
   ]
  },
  {
   "cell_type": "markdown",
   "metadata": {},
   "source": [
    "## Dictionaries\n",
    "\n",
    "A Python dictionary is an extraordinarily useful data type that expands on the possibilities offered by lists.  In a list one keeps track of the elements by an index that must be an integer.  **Dictionaries keep track of elements by `key`!**\n",
    "\n",
    "Each element in a dictionary is an **item**, and every `item` has both a **key** and a **value**. You use the `key` to \"look up\" the `value`. This concept is just like if we wanted to look up the meaning of a word in a real dictionary. Also, just like in a real dictionary, it means that all of the `keys` **must** be unique. If we had a `key` multiple times, then we wouldn't know where to go look up its `value`. Remember `sets`?  **The `keys` in a dictionary form a set!**\n",
    "\n",
    "The syntax to create a dictionary also uses the syntax`{}`. If we are initializing a dictionary, we enter `key-value` pairs separated by commas; for each `item`, the key is separated from the value by a colon.\n",
    "\n",
    "`a_dict = {key : value, another_key : another_value}`\n"
   ]
  },
  {
   "cell_type": "markdown",
   "metadata": {},
   "source": [
    "## What are dictionaries good for?\n",
    "\n",
    "Great that you would ask! Recall the project involving all the student records?  Dictionaries are **the** data type to deal with records.  What are `Date of Birth` and `Age` if not keys? \n",
    "\n",
    "Let's retrieve our code so that we can start seeing how great dictionaries are."
   ]
  },
  {
   "cell_type": "markdown",
   "metadata": {},
   "source": [
    "Let's look into the properties of dictionaries.  Dictionaries are **mutable**. You can change the value of an element by re-assigning its value.\n",
    "\n",
    "Dictionaries are **unordered**. If you print the same dictionary twice, the order in which `items` will be printed does not need to be the same. \n",
    "\n",
    "If we want to add a new `key-value` pair to the dictionary, we access a new `key` and assign it a value. If we want to add multiple `items` to a dictionary, we must use the built-in method `update()`."
   ]
  },
  {
   "cell_type": "code",
   "execution_count": 43,
   "metadata": {},
   "outputs": [
    {
     "name": "stdout",
     "output_type": "stream",
     "text": [
      "<class 'dict'>\n",
      "{'Favourite Bank': 'UOB'}\n"
     ]
    }
   ],
   "source": [
    "data = {}\n",
    "\n",
    "data[\"Favourite Bank\"] = \"UOB\"\n",
    "print(type(data))\n",
    "print(data)\n",
    "# key is on LEFT, data on the RIGHT"
   ]
  },
  {
   "cell_type": "code",
   "execution_count": 44,
   "metadata": {},
   "outputs": [
    {
     "name": "stdout",
     "output_type": "stream",
     "text": [
      "{'Favourite Bank': 'UOB', 'Favourite Credit Card': 'DBS Altitude', 'Favourite Debit Card': 'DBS Fresh'}\n"
     ]
    }
   ],
   "source": [
    "data.update({'Favourite Credit Card': 'DBS Altitude', \n",
    "                  'Favourite Debit Card': 'DBS Fresh'})\n",
    "print(data)"
   ]
  },
  {
   "cell_type": "code",
   "execution_count": 45,
   "metadata": {},
   "outputs": [
    {
     "name": "stdout",
     "output_type": "stream",
     "text": [
      "dict_keys(['Favourite Bank', 'Favourite Credit Card', 'Favourite Debit Card'])\n",
      "\n",
      "dict_values(['UOB', 'DBS Altitude', 'DBS Fresh'])\n",
      "\n",
      "dict_items([('Favourite Bank', 'UOB'), ('Favourite Credit Card', 'DBS Altitude'), ('Favourite Debit Card', 'DBS Fresh')])\n"
     ]
    }
   ],
   "source": [
    "print(data.keys())   # It looks like as list of strings\n",
    "print()\n",
    "print(data.values()) # It looks like a list\n",
    "print()\n",
    "print(data.items())  # It looks like a list of tuples"
   ]
  },
  {
   "cell_type": "markdown",
   "metadata": {},
   "source": [
    "To remove a `key-value` pair from a `dict` variable, we can use `del` and provide the `key`. Guess what happens if you provide a `key` that does not exist? \n",
    "\n",
    "Alternatively, you can use the built-in method `pop()` and provide a `key`. This method deletes the `item` with `key` and returns the `value`.\n"
   ]
  },
  {
   "cell_type": "code",
   "execution_count": 46,
   "metadata": {},
   "outputs": [],
   "source": [
    "del data[\"Favourite Debit Card\"]\n",
    "# will delete both the data and the corresponding key"
   ]
  },
  {
   "cell_type": "code",
   "execution_count": 47,
   "metadata": {},
   "outputs": [
    {
     "data": {
      "text/plain": [
       "{'Favourite Bank': 'UOB', 'Favourite Credit Card': 'DBS Altitude'}"
      ]
     },
     "execution_count": 47,
     "metadata": {},
     "output_type": "execute_result"
    }
   ],
   "source": [
    "data"
   ]
  },
  {
   "cell_type": "code",
   "execution_count": 48,
   "metadata": {},
   "outputs": [
    {
     "data": {
      "text/plain": [
       "'DBS Altitude'"
      ]
     },
     "execution_count": 48,
     "metadata": {},
     "output_type": "execute_result"
    }
   ],
   "source": [
    "data.pop(\"Favourite Credit Card\")"
   ]
  },
  {
   "cell_type": "markdown",
   "metadata": {
    "colab_type": "text",
    "id": "DJWiSW6m4QIx"
   },
   "source": [
    "# Changing types across sets, lists, and tuples\n",
    "\n",
    "Since `sets`, `lists`, and `tuples` are all collections of elements, Python allows us to easily convert variables from one type to another as needed. You just need to cast the variable."
   ]
  },
  {
   "cell_type": "code",
   "execution_count": 49,
   "metadata": {
    "colab": {
     "base_uri": "https://localhost:8080/",
     "height": 52
    },
    "colab_type": "code",
    "executionInfo": {
     "elapsed": 929,
     "status": "ok",
     "timestamp": 1590818134485,
     "user": {
      "displayName": "Desmond Sek",
      "photoUrl": "https://lh3.googleusercontent.com/a-/AOh14GjQj9ANFvLsRLkJAoNiRe9I6br32aYvAs1rqTwiF6M=s64",
      "userId": "15004601375355093954"
     },
     "user_tz": -480
    },
    "id": "Sdelifu84QIy",
    "outputId": "e18df7c2-ae78-4419-e539-cde020506ac8",
    "scrolled": true
   },
   "outputs": [],
   "source": [
    "# Collection conversion functions names are easy to remember\n",
    "# they are the names of the collections themselves.\n",
    "# list()\n",
    "# tuple()\n",
    "# set()\n",
    "# dict()"
   ]
  },
  {
   "cell_type": "code",
   "execution_count": 50,
   "metadata": {},
   "outputs": [
    {
     "name": "stdout",
     "output_type": "stream",
     "text": [
      "<class 'list'>\n",
      "['CDO', 'nfts', 'crypto', 'equity']\n"
     ]
    }
   ],
   "source": [
    "# Converting to List\n",
    "invs_list = list(invs_b)\n",
    "print(type(invs_list))\n",
    "print(invs_list)"
   ]
  },
  {
   "cell_type": "code",
   "execution_count": 51,
   "metadata": {},
   "outputs": [
    {
     "data": {
      "text/plain": [
       "'CDO'"
      ]
     },
     "execution_count": 51,
     "metadata": {},
     "output_type": "execute_result"
    }
   ],
   "source": [
    "# Gaining Order\n",
    "invs_list[0]"
   ]
  },
  {
   "cell_type": "code",
   "execution_count": 52,
   "metadata": {},
   "outputs": [
    {
     "data": {
      "text/plain": [
       "['CDO', 'nfts', 'crypto', 'equity', 'CDO']"
      ]
     },
     "execution_count": 52,
     "metadata": {},
     "output_type": "execute_result"
    }
   ],
   "source": [
    "# Losing constraint of uniqueness\n",
    "invs_list.append('CDO')\n",
    "invs_list"
   ]
  },
  {
   "cell_type": "code",
   "execution_count": 53,
   "metadata": {},
   "outputs": [
    {
     "name": "stdout",
     "output_type": "stream",
     "text": [
      "<class 'tuple'>\n",
      "('CDO', 'nfts', 'crypto', 'equity', 'CDO')\n"
     ]
    }
   ],
   "source": [
    "# Converting to Tuple\n",
    "invs_tuple = tuple(invs_list)\n",
    "print(type(invs_tuple))\n",
    "print(invs_tuple)"
   ]
  },
  {
   "cell_type": "code",
   "execution_count": 54,
   "metadata": {},
   "outputs": [
    {
     "data": {
      "text/plain": [
       "('nfts', 'crypto', 'equity')"
      ]
     },
     "execution_count": 54,
     "metadata": {},
     "output_type": "execute_result"
    }
   ],
   "source": [
    "# No change in ordering\n",
    "invs_tuple[1:4]"
   ]
  },
  {
   "cell_type": "code",
   "execution_count": 55,
   "metadata": {},
   "outputs": [],
   "source": [
    "# Lose mutability --> cannot reassign or pop\n",
    "# invs_tuple.pop()"
   ]
  },
  {
   "cell_type": "code",
   "execution_count": 56,
   "metadata": {
    "colab": {
     "base_uri": "https://localhost:8080/",
     "height": 52
    },
    "colab_type": "code",
    "executionInfo": {
     "elapsed": 784,
     "status": "ok",
     "timestamp": 1590818163649,
     "user": {
      "displayName": "Desmond Sek",
      "photoUrl": "https://lh3.googleusercontent.com/a-/AOh14GjQj9ANFvLsRLkJAoNiRe9I6br32aYvAs1rqTwiF6M=s64",
      "userId": "15004601375355093954"
     },
     "user_tz": -480
    },
    "id": "BUeXG3ZW4QIz",
    "outputId": "44b40f0b-b514-4365-ba9d-4f01af397a2f",
    "scrolled": true
   },
   "outputs": [
    {
     "name": "stdout",
     "output_type": "stream",
     "text": [
      "<class 'set'>\n",
      "{'CDO', 'nfts', 'crypto', 'equity'}\n"
     ]
    }
   ],
   "source": [
    "# Converting back to Set\n",
    "invs_reset = set(invs_tuple)\n",
    "print(type(invs_reset))\n",
    "print(invs_reset)"
   ]
  },
  {
   "cell_type": "code",
   "execution_count": 57,
   "metadata": {
    "colab": {
     "base_uri": "https://localhost:8080/",
     "height": 52
    },
    "colab_type": "code",
    "executionInfo": {
     "elapsed": 1119,
     "status": "ok",
     "timestamp": 1590818176661,
     "user": {
      "displayName": "Desmond Sek",
      "photoUrl": "https://lh3.googleusercontent.com/a-/AOh14GjQj9ANFvLsRLkJAoNiRe9I6br32aYvAs1rqTwiF6M=s64",
      "userId": "15004601375355093954"
     },
     "user_tz": -480
    },
    "id": "4g8f7QkI4QI1",
    "outputId": "f96e01a2-abef-4f27-8c51-fb16d79c653a",
    "scrolled": true
   },
   "outputs": [
    {
     "name": "stdout",
     "output_type": "stream",
     "text": [
      "('CDO', 'nfts', 'crypto', 'equity', 'CDO')\n",
      "{'CDO', 'nfts', 'crypto', 'equity'}\n"
     ]
    }
   ],
   "source": [
    "# Lose ordering in Sets\n",
    "# invs_reset[0]\n",
    "print(invs_tuple)\n",
    "print(invs_reset)\n",
    "# Sets are automatically de-duplicated"
   ]
  },
  {
   "cell_type": "markdown",
   "metadata": {
    "colab_type": "text",
    "id": "Y4SwYZC44QJR"
   },
   "source": [
    "# Exercises - Manager of a Pet Store!"
   ]
  },
  {
   "cell_type": "markdown",
   "metadata": {
    "colab_type": "text",
    "id": "eehmCGwC4QJR"
   },
   "source": [
    "Assume that you are the manager of a pet store and in order to be profitable you want to manage the store and the pets in the store efficiently! \n",
    "\n",
    "Hence, I'm going to need you to manage the inventory of pets that we have at the store."
   ]
  },
  {
   "cell_type": "code",
   "execution_count": 58,
   "metadata": {
    "colab": {},
    "colab_type": "code",
    "id": "kMG-yO1B4QJS",
    "scrolled": true
   },
   "outputs": [],
   "source": [
    "pet_store = ['beagle', 'parrot', 'iguana', 'gerbil', 'chameleon', 'fish']"
   ]
  },
  {
   "cell_type": "markdown",
   "metadata": {
    "colab_type": "text",
    "id": "fsrsNZ_Y4QJT"
   },
   "source": [
    "**Question 1: We've sold out of `chameleon` and `iguana`, you need to remove them from the inventory. <br>Use either `remove()` or `del` to do so.**"
   ]
  },
  {
   "cell_type": "code",
   "execution_count": 59,
   "metadata": {
    "colab": {},
    "colab_type": "code",
    "id": "sl9hQS2z4QJU",
    "scrolled": true
   },
   "outputs": [
    {
     "name": "stdout",
     "output_type": "stream",
     "text": [
      "['beagle', 'parrot', 'gerbil', 'fish']\n"
     ]
    }
   ],
   "source": [
    "# Remove elements from list\n",
    "pet_store.remove(\"chameleon\")\n",
    "pet_store.remove(\"iguana\")\n",
    "print(pet_store)"
   ]
  },
  {
   "cell_type": "code",
   "execution_count": null,
   "metadata": {},
   "outputs": [],
   "source": [
    "# Del method\n",
    "del pet_store[2]\n",
    "pet_store"
   ]
  },
  {
   "cell_type": "markdown",
   "metadata": {
    "colab_type": "text",
    "id": "YgyWLMV_4QJV"
   },
   "source": [
    "**Question 2: We just got in a `terrier`, `chameleon`, `bulldog`, and another `terrier`. <br> Please add all of those animals to the `pet_store`.**"
   ]
  },
  {
   "cell_type": "code",
   "execution_count": 60,
   "metadata": {
    "colab": {
     "base_uri": "https://localhost:8080/",
     "height": 35
    },
    "colab_type": "code",
    "executionInfo": {
     "elapsed": 759,
     "status": "ok",
     "timestamp": 1596256375330,
     "user": {
      "displayName": "A M Aditya",
      "photoUrl": "https://lh3.googleusercontent.com/a-/AOh14GgFVWgbF3Mg6wXstyZ41k2zGOCwgYmwsme0Ysan0cI=s64",
      "userId": "15341571102300750919"
     },
     "user_tz": -480
    },
    "id": "LGpDv2XMoMYi",
    "outputId": "aa43e9ac-03c4-4c1e-e031-42de262dd029",
    "scrolled": true
   },
   "outputs": [
    {
     "name": "stdout",
     "output_type": "stream",
     "text": [
      "['beagle', 'parrot', 'gerbil', 'fish', 'terrier', 'chameleon', 'bulldog', 'terrier']\n"
     ]
    }
   ],
   "source": [
    "# Extend list\n",
    "new_pets = [\"terrier\",\"chameleon\",\"bulldog\",\"terrier\"]\n",
    "pet_store.extend(new_pets)\n",
    "print(pet_store)"
   ]
  },
  {
   "cell_type": "code",
   "execution_count": null,
   "metadata": {},
   "outputs": [],
   "source": [
    "# Alternative: Modify existing list\n",
    "pet_store = pet_store + new_pets\n",
    "pet_store"
   ]
  },
  {
   "cell_type": "markdown",
   "metadata": {
    "colab_type": "text",
    "id": "cAbdK4fAnFFn"
   },
   "source": [
    "**Question 3: Could you print from `beagle` to `fish` but display it in alphabetical order?**"
   ]
  },
  {
   "cell_type": "code",
   "execution_count": 61,
   "metadata": {
    "colab": {},
    "colab_type": "code",
    "id": "s1w_XkV7nGml"
   },
   "outputs": [
    {
     "name": "stdout",
     "output_type": "stream",
     "text": [
      "['beagle', 'bulldog', 'chameleon', 'fish', 'gerbil', 'parrot', 'terrier', 'terrier']\n"
     ]
    }
   ],
   "source": [
    "# Alpha sort (ascending order)\n",
    "pet_store.sort()\n",
    "print(pet_store)"
   ]
  },
  {
   "cell_type": "code",
   "execution_count": 62,
   "metadata": {
    "colab": {
     "base_uri": "https://localhost:8080/",
     "height": 35
    },
    "colab_type": "code",
    "executionInfo": {
     "elapsed": 615,
     "status": "ok",
     "timestamp": 1596256471479,
     "user": {
      "displayName": "A M Aditya",
      "photoUrl": "https://lh3.googleusercontent.com/a-/AOh14GgFVWgbF3Mg6wXstyZ41k2zGOCwgYmwsme0Ysan0cI=s64",
      "userId": "15341571102300750919"
     },
     "user_tz": -480
    },
    "id": "y9oaRgAvTLE1",
    "outputId": "1aa645b6-9a3a-42d4-d4a3-2509a3aeca52"
   },
   "outputs": [
    {
     "data": {
      "text/plain": [
       "['beagle', 'bulldog', 'chameleon', 'fish']"
      ]
     },
     "execution_count": 62,
     "metadata": {},
     "output_type": "execute_result"
    }
   ],
   "source": [
    "pet_store[:4]"
   ]
  },
  {
   "cell_type": "markdown",
   "metadata": {
    "colab_type": "text",
    "id": "wm243iBe4QJX"
   },
   "source": [
    "**Now, how many `unique` animal types do we currently have in the store?**"
   ]
  },
  {
   "cell_type": "code",
   "execution_count": 75,
   "metadata": {
    "colab": {},
    "colab_type": "code",
    "id": "ocpr4KH04QJX",
    "scrolled": true
   },
   "outputs": [
    {
     "data": {
      "text/plain": [
       "list"
      ]
     },
     "execution_count": 75,
     "metadata": {},
     "output_type": "execute_result"
    }
   ],
   "source": [
    "len(set(pet_store))\n",
    "# this does not permanently change the data type. \n",
    "\n",
    "type(pet_store)"
   ]
  },
  {
   "cell_type": "code",
   "execution_count": null,
   "metadata": {},
   "outputs": [],
   "source": [
    "# To permanently change data type, you need to REASSIGN!\n",
    "pet_store = set(pet_store)"
   ]
  },
  {
   "cell_type": "markdown",
   "metadata": {
    "colab_type": "text",
    "id": "DrY9_7zF4QJZ"
   },
   "source": [
    "**How many `terrier` dogs do we have in the store? (Hint: the `list` data type has a built-in function called `count()`)**"
   ]
  },
  {
   "cell_type": "code",
   "execution_count": 64,
   "metadata": {
    "colab": {},
    "colab_type": "code",
    "id": "EiBI_qCp4QJZ",
    "scrolled": true
   },
   "outputs": [
    {
     "data": {
      "text/plain": [
       "2"
      ]
     },
     "execution_count": 64,
     "metadata": {},
     "output_type": "execute_result"
    }
   ],
   "source": [
    "# Count a specified element\n",
    "pet_store.count(\"terrier\")"
   ]
  },
  {
   "cell_type": "markdown",
   "metadata": {
    "colab_type": "text",
    "id": "R3w_wffR4QJb"
   },
   "source": [
    "**As an owner, I actually have a very bad obsessive-compulsive disorder. Could you please reverse-alphabetically sort the pet types at the store?**"
   ]
  },
  {
   "cell_type": "code",
   "execution_count": 65,
   "metadata": {
    "colab": {},
    "colab_type": "code",
    "id": "FG06eow94QJb",
    "scrolled": true
   },
   "outputs": [
    {
     "name": "stdout",
     "output_type": "stream",
     "text": [
      "['terrier', 'terrier', 'parrot', 'gerbil', 'fish', 'chameleon', 'bulldog', 'beagle']\n"
     ]
    }
   ],
   "source": [
    "# Reverse alpha sort\n",
    "pet_store.sort(reverse=True)\n",
    "print(pet_store)"
   ]
  },
  {
   "cell_type": "markdown",
   "metadata": {},
   "source": [
    "`End of the exercise`"
   ]
  },
  {
   "cell_type": "markdown",
   "metadata": {},
   "source": [
    "# IMPORTANT: LIST COMPREHENSIONS\n",
    "\n",
    "Python borrowed a very important feature from Lisp, List Comprehensions, which allows Python to perform very powerful operations on lists with minimal code."
   ]
  },
  {
   "cell_type": "code",
   "execution_count": 66,
   "metadata": {},
   "outputs": [],
   "source": [
    "complist = ['red','orange','yellow','green','blue','indigo','violet']"
   ]
  },
  {
   "cell_type": "markdown",
   "metadata": {},
   "source": [
    "Say I wanted to go through the elements of this list and extract only those colour names which did not contain the letter 'o'. I could build something like this to do it manually:"
   ]
  },
  {
   "cell_type": "code",
   "execution_count": 67,
   "metadata": {},
   "outputs": [
    {
     "name": "stdout",
     "output_type": "stream",
     "text": [
      "['red', 'green', 'blue']\n"
     ]
    }
   ],
   "source": [
    "unround = []\n",
    "for i in complist:\n",
    "    if \"o\" not in i:\n",
    "        unround.append(i)\n",
    "print(unround)"
   ]
  },
  {
   "cell_type": "markdown",
   "metadata": {},
   "source": [
    "However, writing three lines of code gives 3 surface vectors to create bugs in and increases the burdens of readability and maintainability.\n",
    "\n",
    "With list comprehensions, we can do things much faster, and more cleanly."
   ]
  },
  {
   "cell_type": "code",
   "execution_count": null,
   "metadata": {},
   "outputs": [],
   "source": [
    "listcomp_unround = [i for i in complist if \"o\" not in i]\n",
    "print(listcomp_unround)"
   ]
  },
  {
   "cell_type": "markdown",
   "metadata": {},
   "source": [
    "GENERAL SYNTAX  \n",
    "\n",
    "var for var in list/range if some_condition"
   ]
  },
  {
   "cell_type": "markdown",
   "metadata": {},
   "source": [
    "## Exercises:"
   ]
  },
  {
   "cell_type": "code",
   "execution_count": 2,
   "metadata": {},
   "outputs": [
    {
     "name": "stdout",
     "output_type": "stream",
     "text": [
      "[420, 421, 422, 423, 424, 425, 426, 427, 428, 429, 430, 431, 432, 433, 434, 435, 436, 437, 438, 439, 440, 441, 442, 443, 444, 445, 446, 447, 448, 449, 450, 451, 452, 453, 454, 455, 456, 457, 458, 459, 460, 461, 462, 463, 464, 465, 466, 467, 468, 469, 470, 471, 472, 473, 474, 475, 476, 477, 478, 479, 480, 481, 482, 483, 484, 485, 486, 487, 488, 489, 490, 491, 492, 493, 494, 495, 496, 497, 498, 499, 500, 501, 502, 503, 504, 505, 506, 507, 508, 509, 510, 511, 512, 513, 514, 515, 516, 517, 518, 519, 520, 521, 522, 523, 524, 525, 526, 527, 528, 529, 530, 531, 532, 533, 534, 535, 536, 537, 538, 539, 540, 541, 542, 543, 544, 545, 546, 547, 548, 549, 550, 551, 552, 553, 554, 555, 556, 557, 558, 559, 560, 561, 562, 563, 564, 565, 566, 567, 568, 569, 570, 571, 572, 573, 574, 575, 576, 577, 578, 579, 580, 581, 582, 583, 584, 585, 586, 587, 588, 589, 590, 591, 592, 593, 594, 595, 596, 597, 598, 599, 600, 601, 602, 603, 604, 605, 606, 607, 608, 609, 610, 611, 612, 613, 614, 615, 616, 617, 618, 619, 620, 621, 622, 623, 624, 625, 626, 627, 628, 629, 630, 631, 632, 633, 634, 635, 636, 637, 638, 639, 640, 641, 642, 643, 644, 645, 646, 647, 648, 649, 650, 651, 652, 653, 654, 655, 656, 657, 658, 659, 660, 661, 662, 663, 664, 665, 666, 667, 668, 669, 670, 671, 672, 673, 674, 675, 676, 677, 678, 679, 680, 681, 682, 683, 684, 685, 686, 687, 688, 689, 690, 691, 692, 693, 694, 695, 696, 697, 698, 699, 700, 701, 702, 703, 704, 705, 706, 707, 708, 709, 710, 711, 712, 713, 714, 715, 716, 717, 718, 719, 720]\n"
     ]
    }
   ],
   "source": [
    "# Create a list of the numbers from 420-720\n",
    "bignum = [i for i in range(420,721)]\n",
    "print(bignum)"
   ]
  },
  {
   "cell_type": "code",
   "execution_count": 6,
   "metadata": {},
   "outputs": [
    {
     "name": "stdout",
     "output_type": "stream",
     "text": [
      "[7, 14, 21, 28, 35, 42, 49, 56, 63, 70, 77, 84, 91, 98, 105, 112, 119, 126, 133, 140, 147, 154, 161, 168, 175, 182, 189, 196, 203, 210, 217, 224, 231, 238, 245, 252, 259, 266, 273, 280, 287, 294, 301, 308, 315, 322, 329, 336, 343, 350, 357, 364, 371, 378, 385, 392, 399, 406, 413, 420, 427, 434, 441, 448, 455, 462, 469, 476, 483, 490, 497, 504, 511, 518, 525, 532, 539, 546, 553, 560, 567, 574, 581, 588, 595, 602, 609, 616, 623, 630, 637, 644, 651, 658, 665, 672, 679, 686, 693, 700, 707, 714, 721, 728, 735, 742, 749, 756, 763, 770, 777, 784, 791, 798, 805, 812, 819, 826, 833, 840, 847, 854, 861, 868, 875, 882, 889, 896, 903, 910, 917, 924, 931, 938, 945, 952, 959, 966, 973, 980, 987, 994]\n"
     ]
    }
   ],
   "source": [
    "# Find every number from 1-1000 which is evenly divisible by 7 \n",
    "thou = [i for i in range(1,1001) if i % 7 == 0]\n",
    "print(thou)"
   ]
  },
  {
   "cell_type": "code",
   "execution_count": 7,
   "metadata": {},
   "outputs": [
    {
     "name": "stdout",
     "output_type": "stream",
     "text": [
      "[34.6, 44.9, 68.3, -12.2, 44.6, 12.7, -7, 18.9, 400.2]\n"
     ]
    }
   ],
   "source": [
    "numbers = [34.6, -203.4, 44.9, 68.3, -12.2, 44.6, 12.7, -7, 18.9, 400.20, -700]\n",
    "# Make a list of those numbers in the list 'numbers' larger than -30\n",
    "notsoneg = [i for i in numbers if i > -30]\n",
    "print(notsoneg)"
   ]
  },
  {
   "cell_type": "code",
   "execution_count": 12,
   "metadata": {},
   "outputs": [
    {
     "name": "stdout",
     "output_type": "stream",
     "text": [
      "The list words:  ['the', 'quick', 'brown', 'fox', 'jumps', 'over', 'the', 'lazy', 'dog']\n",
      "The list nothe:  ['quick', 'brown', 'fox', 'jumps', 'over', 'lazy', 'dog']\n",
      "The list wordlen:  [5, 5, 3, 5, 4, 4, 3]\n"
     ]
    }
   ],
   "source": [
    "sentence = \"the quick brown fox jumps over the lazy dog\"\n",
    "words = sentence.split()\n",
    "print(\"The list words: \", words)\n",
    "# Make a list of the lengths of all words in the list 'words', \n",
    "# except for the word 'the'\n",
    "nothe = [i for i in words if i != \"the\"]\n",
    "print(\"The list nothe: \", nothe)\n",
    "# i performs 3 functions in the code above: \n",
    "# 1) constructor, 2) iterator, 3) comparator\n",
    "\n",
    "wordlen = [len(i) for i in nothe] \n",
    "print(\"The list wordlen: \", wordlen)"
   ]
  },
  {
   "cell_type": "code",
   "execution_count": 13,
   "metadata": {},
   "outputs": [
    {
     "name": "stdout",
     "output_type": "stream",
     "text": [
      "[3, 13, 23, 30, 31, 32, 33, 34, 35, 36, 37, 38, 39, 43, 53, 63, 73, 83, 93]\n"
     ]
    }
   ],
   "source": [
    "# Find all of the numbers from 1-100 that contain a '3' digit\n",
    "thou = [i for i in range(1,101) if \"3\" in str(i)]\n",
    "print(thou)"
   ]
  },
  {
   "cell_type": "code",
   "execution_count": 73,
   "metadata": {
    "scrolled": true
   },
   "outputs": [
    {
     "data": {
      "text/plain": [
       "[3, 13, 23, 30, 31, 32, 33, 34, 35, 36, 37, 38, 39, 43, 53, 63, 73, 83, 93]"
      ]
     },
     "execution_count": 73,
     "metadata": {},
     "output_type": "execute_result"
    }
   ],
   "source": [
    "# Expected answer for final question above\n",
    "[3, 13, 23, 30, 31, 32, 33, 34, 35, 36, 37, 38, 39, 43, 53, 63, 73, 83, 93]"
   ]
  },
  {
   "cell_type": "code",
   "execution_count": 17,
   "metadata": {},
   "outputs": [
    {
     "name": "stdout",
     "output_type": "stream",
     "text": [
      "99\n",
      "<class 'str'>\n",
      "99\n",
      "<class 'int'>\n",
      "99.0\n",
      "<class 'float'>\n",
      "False\n",
      "<class 'bool'>\n"
     ]
    }
   ],
   "source": [
    "#Changing data type\n",
    "\n",
    "# Change int to string\n",
    "x = str(99)\n",
    "print(x)\n",
    "print(type(x))\n",
    "\n",
    "# Change string to int\n",
    "x = int(\"99\")\n",
    "print(x)\n",
    "print(type(x))\n",
    "\n",
    "# Change int to float\n",
    "x = float(\"99\")\n",
    "print(x)\n",
    "print(type(x))\n",
    "\n",
    "# Change int to Boolean\n",
    "x = bool(0)\n",
    "print(x)\n",
    "print(type(x))"
   ]
  }
 ],
 "metadata": {
  "anaconda-cloud": {},
  "colab": {
   "collapsed_sections": [
    "wrzJnDPl4QIg"
   ],
   "name": "2_Lists-Tuples-and-Sets.ipynb",
   "provenance": []
  },
  "kernelspec": {
   "display_name": "Python 3 (ipykernel)",
   "language": "python",
   "name": "python3"
  },
  "language_info": {
   "codemirror_mode": {
    "name": "ipython",
    "version": 3
   },
   "file_extension": ".py",
   "mimetype": "text/x-python",
   "name": "python",
   "nbconvert_exporter": "python",
   "pygments_lexer": "ipython3",
   "version": "3.9.12"
  }
 },
 "nbformat": 4,
 "nbformat_minor": 1
}
