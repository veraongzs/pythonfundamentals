{
 "cells": [
  {
   "cell_type": "markdown",
   "id": "326bdf19",
   "metadata": {},
   "source": [
    "# Course Assessment (Written Questions)"
   ]
  },
  {
   "cell_type": "markdown",
   "id": "7229842e",
   "metadata": {},
   "source": [
    "## Written Qn 1:  \n"
   ]
  },
  {
   "cell_type": "markdown",
   "id": "24258b01",
   "metadata": {},
   "source": [
    "Air Quality  \n",
    "* Usage of non-toxic paints, flooring and coatings\n",
    "* Creating green walls to help purify the air  \n",
    "\n",
    "Lighting\n",
    "* Usage of energy-efficient LED lights  \n",
    "* Usage of a smart light management systems  \n",
    "\n",
    "Thermal and Acoustic Comfort  \n",
    "* Solar films on windows  \n",
    "* Ceiling fans  \n",
    "* 5 tick air-conditioning  \n",
    "\n",
    "Green Energy  \n",
    "* Solar Panels, eve chargers etc..  \n",
    "* Green Electricity retailer  \n",
    "\n",
    "Of the 4 categories, the bank will like the applicant to fulfil at least 2 categories and any 3 of the items.  \n",
    "\n",
    "Other Conditions:\n",
    "\n",
    "* new_BTO = True\n",
    "* loan_amt > 50000 --> Manual review\n",
    "\n",
    "Simulate a scenario and suggest **2 functions** which can be derived as part of the green renovation loan.   \n",
    "The bank will require the focus to be on the eco-friendly green renovation loan product and home owners.   \n",
    "You will also need to indicate details as to what the functions should be doing either, preferably via coding also demonstrate the logic which they should contain.\n",
    "\n",
    "Hint: You can create a function to do a pre-vetting of the loan applicant and another to take care of the final approval."
   ]
  },
  {
   "cell_type": "code",
   "execution_count": 20,
   "id": "3d855edc",
   "metadata": {},
   "outputs": [],
   "source": [
    "# Conditional variables for evaluation\n",
    "loan_amt = 60000\n",
    "new_BTO = True\n",
    "green_cat = 2\n",
    "green_items = 3"
   ]
  },
  {
   "cell_type": "code",
   "execution_count": 21,
   "id": "ad74dee6",
   "metadata": {},
   "outputs": [
    {
     "name": "stdout",
     "output_type": "stream",
     "text": [
      "High loan amount, sent to manual review.\n"
     ]
    }
   ],
   "source": [
    "# Green Loan\n",
    "\n",
    "if green_cat > 1 and green_items > 2 and new_BTO == True:\n",
    "    if loan_amt > 50000:\n",
    "        print(\"High loan amount, sent to manual review.\")\n",
    "    else: \n",
    "        print(\"Loan application APPROVED.\")\n",
    "else:\n",
    "    print(\"Not a qualifying applicant. REJECTED\")"
   ]
  },
  {
   "cell_type": "markdown",
   "id": "245b66b5",
   "metadata": {},
   "source": [
    "## Written Qn 2:  \n"
   ]
  },
  {
   "cell_type": "markdown",
   "id": "6c7d81bd",
   "metadata": {},
   "source": [
    "A banking institution stores credit card data in the form of dictionaries. They want you, an analyst, to do some operations on the existing dictionary. Answer the questions that follow in pseudo code:\n",
    "\n",
    "* Add a new key in the dictionary called “creditBalance” with the value 100000\n",
    "* The date issued was incorrectly recorded. Change the “dateIssued” value to 26/05/2020\n",
    "* The banking institute does not want to keep “creditNo” in the dictionary. Please help them remove it.\n"
   ]
  },
  {
   "cell_type": "code",
   "execution_count": 1,
   "id": "a23d3d9c",
   "metadata": {},
   "outputs": [],
   "source": [
    "dataDict = {\"creditNo\": 45678345, \"creditCardType\": \"Platinum\", \"dateIssued\": \"25/05/2020\"}"
   ]
  },
  {
   "cell_type": "code",
   "execution_count": 3,
   "id": "0594aa25",
   "metadata": {},
   "outputs": [
    {
     "data": {
      "text/plain": [
       "{'creditNo': 45678345,\n",
       " 'creditCardType': 'Platinum',\n",
       " 'dateIssued': '25/05/2020',\n",
       " 'creditBalance': 100000}"
      ]
     },
     "execution_count": 3,
     "metadata": {},
     "output_type": "execute_result"
    }
   ],
   "source": [
    "# add new key \n",
    "dataDict[\"creditBalance\"] = 100000\n",
    "dataDict"
   ]
  },
  {
   "cell_type": "code",
   "execution_count": 6,
   "id": "385177ca",
   "metadata": {},
   "outputs": [
    {
     "data": {
      "text/plain": [
       "{'creditNo': 45678345,\n",
       " 'creditCardType': 'Platinum',\n",
       " 'dateIssued': '26/05/2020',\n",
       " 'creditBalance': 100000}"
      ]
     },
     "execution_count": 6,
     "metadata": {},
     "output_type": "execute_result"
    }
   ],
   "source": [
    "# update data\n",
    "\n",
    "dataDict.update({\"dateIssued\":\"26/05/2020\"})\n",
    "dataDict"
   ]
  },
  {
   "cell_type": "code",
   "execution_count": 7,
   "id": "1df07d30",
   "metadata": {},
   "outputs": [
    {
     "data": {
      "text/plain": [
       "{'creditCardType': 'Platinum',\n",
       " 'dateIssued': '26/05/2020',\n",
       " 'creditBalance': 100000}"
      ]
     },
     "execution_count": 7,
     "metadata": {},
     "output_type": "execute_result"
    }
   ],
   "source": [
    "# remove CreditNO\n",
    "\n",
    "dataDict.pop (\"creditNo\")\n",
    "dataDict"
   ]
  },
  {
   "cell_type": "markdown",
   "id": "f9503a8a",
   "metadata": {},
   "source": [
    "## Written Qn 3:  \n"
   ]
  },
  {
   "cell_type": "markdown",
   "id": "7bbcc28e",
   "metadata": {},
   "source": [
    "1) While loop: for iterating so long as some condition holds true\n",
    "\n",
    "2) For loop: for iterating over ranges or specified collections."
   ]
  },
  {
   "cell_type": "markdown",
   "id": "64d553dd",
   "metadata": {},
   "source": [
    "# Course Assessment (Practical Performance)"
   ]
  },
  {
   "cell_type": "markdown",
   "id": "f57a0e80",
   "metadata": {},
   "source": [
    "## Practical Qn 1:  \n"
   ]
  },
  {
   "cell_type": "markdown",
   "id": "a5456a56",
   "metadata": {},
   "source": [
    "Scenario:\n",
    "\n",
    "Assume that you are an analyst and are part of the investment analyst team. You are responsible for taking decisions for investing in the right funds at the right time based on certain data. You are tasked to use Python programming to deduce some decisions and plot some visuals.\n",
    " \n",
    "\n",
    "For the following questions use the data below in your Python codes. (You can copy and paste the below list data in your Python program)\n",
    "\n",
    "\n",
    "dateList = ['23/07/2020', '22/07/2020', '21/07/2020', '20/07/2020', '19/07/2020']\n",
    "\n",
    "openList = [2986.55, 3099.91, 3138.29, 3196.84, 2961.97]\n",
    "\n",
    "volumeList = [100,120,140,125,350]\n",
    "\n",
    "lowList = [3000.55, 3200.34, 3206.56, 3300.44, 3000.09]\n",
    "\n",
    "\n",
    "* a) Write a Python program to extract the maximum value from ‘openList’ using a ‘for loop’.\n",
    "* b) Write a Python program to calculate the total sum of all elements in the volumeList which are greater than 125. (Hint: Use for loop and if conditions)\n",
    "* c) Write a Python program to create a text file and write all the values of lowList in the file. (Hint: Use for loops and file operations)\n",
    "* d) From the data, do you think you should invest in the funds? State some of the reasons for your answer.\n",
    "* e) A stakeholder indicates the following: When the lowList exceeds 3150, you are to buy 50 more stocks than the usual 80 stocks. If the current days’ lowList amount is less than 3100 you want to put in your buy order for 20 more. Structure your codes after understanding the above requirement and as a business outcome, **print out the number of purchased stocks for each day.**"
   ]
  },
  {
   "cell_type": "code",
   "execution_count": 7,
   "id": "93be1e94",
   "metadata": {},
   "outputs": [],
   "source": [
    "dateList = ['23/07/2020', '22/07/2020', '21/07/2020', '20/07/2020', '19/07/2020']\n",
    "openList = [2986.55, 3099.91, 3138.29, 3196.84, 2961.97]\n",
    "volumeList = [100,120,140,125,350]\n",
    "lowList = [3000.55, 3200.34, 3206.56, 3300.44, 3000.09]"
   ]
  },
  {
   "cell_type": "markdown",
   "id": "155cfcca",
   "metadata": {},
   "source": [
    "Answer a)"
   ]
  },
  {
   "cell_type": "code",
   "execution_count": 24,
   "id": "77777ee4",
   "metadata": {},
   "outputs": [
    {
     "name": "stdout",
     "output_type": "stream",
     "text": [
      "3196.84\n"
     ]
    }
   ],
   "source": [
    "max_value = 0\n",
    "\n",
    "for i in openList:\n",
    "    if i > max_value:\n",
    "        max_value = i\n",
    "        \n",
    "print(max_value)"
   ]
  },
  {
   "cell_type": "markdown",
   "id": "c2d035f2",
   "metadata": {},
   "source": [
    "Answer b)"
   ]
  },
  {
   "cell_type": "code",
   "execution_count": 25,
   "id": "664a5b41",
   "metadata": {},
   "outputs": [
    {
     "name": "stdout",
     "output_type": "stream",
     "text": [
      "490\n"
     ]
    }
   ],
   "source": [
    "total_sum = 0\n",
    "\n",
    "for i in volumeList:\n",
    "    if i > 125:\n",
    "        total_sum += i\n",
    "\n",
    "print(total_sum)"
   ]
  },
  {
   "cell_type": "markdown",
   "id": "4681e176",
   "metadata": {},
   "source": [
    "Answer c)"
   ]
  },
  {
   "cell_type": "code",
   "execution_count": 26,
   "id": "0abd59fa",
   "metadata": {},
   "outputs": [],
   "source": [
    "file = open(\"lowList.txt\", \"w\")\n",
    "\n",
    "for i in lowList:\n",
    "    line = str(i) + \"\\n\"\n",
    "    file.write(line)\n",
    "    \n",
    "file.close()"
   ]
  },
  {
   "cell_type": "markdown",
   "id": "d16156d5",
   "metadata": {},
   "source": [
    "Answer d)"
   ]
  },
  {
   "cell_type": "markdown",
   "id": "53e47643",
   "metadata": {},
   "source": [
    "I would invest in the funds. The investment growth has been quite stable and 3 out 5 days the company is closing more than than the threshold of 3150, with no days closing below 3100."
   ]
  },
  {
   "cell_type": "markdown",
   "id": "4f883f07",
   "metadata": {},
   "source": [
    "Answer e)"
   ]
  },
  {
   "cell_type": "code",
   "execution_count": 19,
   "id": "d4213590",
   "metadata": {},
   "outputs": [
    {
     "name": "stdout",
     "output_type": "stream",
     "text": [
      "('23/07/2020', 3000.55)\n",
      "23/07/2020\n",
      "('22/07/2020', 3200.34)\n",
      "22/07/2020\n",
      "('21/07/2020', 3206.56)\n",
      "21/07/2020\n",
      "('20/07/2020', 3300.44)\n",
      "20/07/2020\n",
      "('19/07/2020', 3000.09)\n",
      "19/07/2020\n",
      "Normal close, normal buy of 80\n",
      "Close more than 3150, bought 130\n",
      "Close more than 3150, bought 130\n",
      "Close more than 3150, bought 130\n",
      "Normal close, normal buy of 80\n"
     ]
    }
   ],
   "source": [
    "# if lowList > 3150, buy norm + 50, \n",
    "# if lowList < 3100, buy norm + 20,\n",
    "# else, buy norm\n",
    "# print out the number of purchased stocks for each day.\n",
    "\n",
    "new_zip = zip(dateList, lowList)\n",
    "for i in new_zip:\n",
    "    print(i)\n",
    "    print(i[0])\n",
    "\n",
    "norm = 80\n",
    "for i in lowList:\n",
    "    if i > 3150:\n",
    "        print(\"Close more than 3150, bought {0}\".format(norm+50))\n",
    "    elif i < 3000:\n",
    "        print(\"Close less than 3100, bought {0}\".format(norm+20))\n",
    "    else:\n",
    "        print(\"Normal close, normal buy of {0}\".format(norm))\n",
    "        "
   ]
  },
  {
   "cell_type": "markdown",
   "id": "2e10acfd",
   "metadata": {},
   "source": [
    "## Practical Qn 2:  \n"
   ]
  },
  {
   "cell_type": "markdown",
   "id": "b1ec3991",
   "metadata": {},
   "source": [
    "Scenario:\n",
    "\n",
    "The developers of the micro-finance institution have come up with a Python code to perform some operations on data, but unfortunately the program does not function because of certain issues. Your task as a data scientist is to identify these issues and solve the problem. Answer the questions that follow the code.\n",
    "\n",
    "\n",
    "Code:\n",
    "highList = [3000.55, 3200.34, 3206.56, 3300.44, 3000.09]\n",
    "\n",
    "\n",
    "for item in lowList\n",
    "\n",
    "    if item > 3000\n",
    "\n",
    "        print(item)\n",
    "\n",
    "    end\n",
    "\n",
    "a) There are four issues in the above code. Identify and list down all the issues after testing whether the code runs.\n",
    "\n",
    "b) After you have identified the issues in the part above, write the corrected code. Write appropriate comments in your code to describe the use of each statement.\n",
    "\n",
    "c) After you have identified the issues in the part above and written the corrected code. You notice that the data for highList is not correct, namely the amount 3300.44 is too high. You need to change the number to 3299.44, you are to then print the changes to a text document called audit_log.txt, for audit purposes."
   ]
  },
  {
   "cell_type": "code",
   "execution_count": 1,
   "id": "fb8117c3",
   "metadata": {},
   "outputs": [],
   "source": [
    "highList = [3000.55, 3200.34, 3206.56, 3300.44, 3000.09]"
   ]
  },
  {
   "cell_type": "markdown",
   "id": "ab520acc",
   "metadata": {},
   "source": [
    "Answer a)"
   ]
  },
  {
   "cell_type": "markdown",
   "id": "ed3f8de0",
   "metadata": {},
   "source": [
    "Error 1: SyntaxError, for loop not terminated by colon  \n",
    "Error 2: SyntaxError, if condition not terminated by colon  \n",
    "Error 3: NameError, wrong list variable used - \"lowList\" should be replaced with \"highList\"  \n",
    "Error 4: NameError, \"end\" is not a Python keyword.  "
   ]
  },
  {
   "cell_type": "markdown",
   "id": "27d76a2c",
   "metadata": {},
   "source": [
    "Answer b)"
   ]
  },
  {
   "cell_type": "code",
   "execution_count": 4,
   "id": "697efcfb",
   "metadata": {},
   "outputs": [
    {
     "name": "stdout",
     "output_type": "stream",
     "text": [
      "3000.55\n",
      "3200.34\n",
      "3206.56\n",
      "3300.44\n",
      "3000.09\n"
     ]
    }
   ],
   "source": [
    "# For loop \n",
    "for item in highList:\n",
    "    # If condition\n",
    "    if item > 3000:\n",
    "        # print list\n",
    "        print(item)"
   ]
  },
  {
   "cell_type": "markdown",
   "id": "efdb77fd",
   "metadata": {},
   "source": [
    "Answer c)"
   ]
  },
  {
   "cell_type": "code",
   "execution_count": 5,
   "id": "e6ad47c6",
   "metadata": {},
   "outputs": [
    {
     "name": "stdout",
     "output_type": "stream",
     "text": [
      "[3000.55, 3200.34, 3206.56, 3299.44, 3000.09]\n"
     ]
    }
   ],
   "source": [
    "file = open(\"audit_log.txt\", \"w\")\n",
    "\n",
    "for i in range(len(highList)):\n",
    "    if highList[i] == 3300.44:\n",
    "        highList[i] = 3299.44\n",
    "        file.write(\"Excessive value. Decremented and logged\\n\")\n",
    "    \n",
    "    else:\n",
    "        file.write(\"No change required\\n\")\n",
    "        \n",
    "file.close()\n",
    "print(highList)"
   ]
  }
 ],
 "metadata": {
  "kernelspec": {
   "display_name": "Python 3 (ipykernel)",
   "language": "python",
   "name": "python3"
  },
  "language_info": {
   "codemirror_mode": {
    "name": "ipython",
    "version": 3
   },
   "file_extension": ".py",
   "mimetype": "text/x-python",
   "name": "python",
   "nbconvert_exporter": "python",
   "pygments_lexer": "ipython3",
   "version": "3.9.12"
  }
 },
 "nbformat": 4,
 "nbformat_minor": 5
}
