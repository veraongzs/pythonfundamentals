{
 "cells": [
  {
   "cell_type": "markdown",
   "metadata": {
    "colab_type": "text",
    "id": "-Yzzd_56WGzR"
   },
   "source": [
    "# Conditional Statements & Loops - Synopsis\n",
    "\n",
    "In this unit we will learn how to perform successive operations (\"looping\") without explicitly coding the commands. This is largely understood to be controlling the 'flow' of a program.  \n",
    "\n",
    "We will control the flow using:\n",
    "\n",
    "1. Logical statements to check for conditions (performing operations only `if` a condition is met)\n",
    "\n",
    "2. Continuing execution until a condition is met\n",
    "\n",
    "3. Iterating through a sequence of numbers using the `range()` function\n",
    "\n",
    "In order to do this we will learn the commands: `if`, `while`, and `for`\n",
    "\n"
   ]
  },
  {
   "cell_type": "markdown",
   "metadata": {
    "colab_type": "text",
    "id": "j0izBoJ5WGzS"
   },
   "source": [
    "# What if?\n",
    "\n",
    "There are times that we only want to execute a set of commands under a certain condition.\n",
    "\n",
    "Let's take a scenario where we want to redeeem our credit card reward points.\n",
    "We want to check what is available and \"we want to redeem 10000 Krisflyer miles if they are available\".\n",
    "Also, add the Krisflyer miles to your existing miles. Assume you have 25000 existing miles.\n",
    "\n",
    "\n",
    "In order to program our word problem we need to learn a new command - `if`"
   ]
  },
  {
   "cell_type": "markdown",
   "metadata": {
    "colab_type": "text",
    "id": "qcfjoCDDWGzT"
   },
   "source": [
    "## Making more complicated programs\n",
    "\n",
    "When we start to make more complicated programs it helps to sketch out a plan of the overall program flow (and when I say sketch, I really do mean on paper!). We are going to program the above.\n",
    "\n",
    "To do this, it helps to break our program apart into chunks. If it was me, this is the outline that I would come up with for our program (I like to start off super simple):\n",
    "\n",
    "----\n",
    "`# Define variables needed`\n",
    "\n",
    "`# Redemption decisions`\n",
    "\n",
    "`# Add what was redeemed`\n",
    "\n",
    "----\n",
    "\n",
    "I told you I liked to start simple! The first step that we have to do is to define all of the variables that we will need. While we can create variables whenever we need them in Python, it makes programming easier if we both (i) plan ahead and (ii) decide our variable names first."
   ]
  },
  {
   "cell_type": "code",
   "execution_count": 1,
   "metadata": {},
   "outputs": [],
   "source": [
    "# Define variables needed\n",
    "krisflyerMiles = 25000\n",
    "availKrisflyerMiles = True"
   ]
  },
  {
   "cell_type": "code",
   "execution_count": 2,
   "metadata": {
    "colab": {
     "base_uri": "https://localhost:8080/",
     "height": 53
    },
    "colab_type": "code",
    "executionInfo": {
     "elapsed": 905,
     "status": "ok",
     "timestamp": 1596261651593,
     "user": {
      "displayName": "A M Aditya",
      "photoUrl": "https://lh3.googleusercontent.com/a-/AOh14GgFVWgbF3Mg6wXstyZ41k2zGOCwgYmwsme0Ysan0cI=s64",
      "userId": "15341571102300750919"
     },
     "user_tz": -480
    },
    "id": "BlIVvsd2WGzY",
    "outputId": "16daabfc-5ffd-4e93-f700-150131f3cd01"
   },
   "outputs": [
    {
     "name": "stdout",
     "output_type": "stream",
     "text": [
      "Total Krisflyer Miles =  35000\n"
     ]
    }
   ],
   "source": [
    "if availKrisflyerMiles: \n",
    "# same as --> if availKrisflyerMiles == True:\n",
    "    krisflyerMiles = krisflyerMiles + 10000  \n",
    "\n",
    "# Check what was purchased\n",
    "print(\"Total Krisflyer Miles = \", krisflyerMiles)"
   ]
  },
  {
   "cell_type": "markdown",
   "metadata": {
    "colab_type": "text",
    "id": "9-xpMgZsWGze"
   },
   "source": [
    "We can use if statements in a large number of contexts too. We can use it to check and see if a certain character is in a string for example."
   ]
  },
  {
   "cell_type": "code",
   "execution_count": 3,
   "metadata": {
    "colab": {},
    "colab_type": "code",
    "executionInfo": {
     "elapsed": 799,
     "status": "ok",
     "timestamp": 1596261802429,
     "user": {
      "displayName": "A M Aditya",
      "photoUrl": "https://lh3.googleusercontent.com/a-/AOh14GgFVWgbF3Mg6wXstyZ41k2zGOCwgYmwsme0Ysan0cI=s64",
      "userId": "15341571102300750919"
     },
     "user_tz": -480
    },
    "id": "bJ5JO9WXWGzf"
   },
   "outputs": [
    {
     "name": "stdout",
     "output_type": "stream",
     "text": [
      "the character d exists in the string\n"
     ]
    }
   ],
   "source": [
    "if \"d\" in \"dbs\": \n",
    "    print(\"the character d exists in the string\")"
   ]
  },
  {
   "cell_type": "code",
   "execution_count": 4,
   "metadata": {},
   "outputs": [
    {
     "name": "stdout",
     "output_type": "stream",
     "text": [
      "initial search failed, but there is a b\n"
     ]
    }
   ],
   "source": [
    "if \"q\" in \"dbs\": \n",
    "    print(\"the character q exists in the string\")\n",
    "elif \"b\" in \"dbs\":\n",
    "    print(\"initial search failed, but there is a b\")\n",
    "else:\n",
    "    print(\"No matches found in the string\")\n",
    "# Any if-elif-else construct can only give ONE return."
   ]
  },
  {
   "cell_type": "code",
   "execution_count": 5,
   "metadata": {},
   "outputs": [
    {
     "name": "stdout",
     "output_type": "stream",
     "text": [
      "the character d exists in the string\n",
      "the character b exists in the string\n"
     ]
    }
   ],
   "source": [
    "# If you want more than one return\n",
    "# you need more than one IF construct.\n",
    "if \"d\" in \"dbs\": \n",
    "    print(\"the character d exists in the string\")\n",
    "elif 1==1:\n",
    "    print(\"Aristotle was right!\")\n",
    "# Even if this elif is true, it will not be evaluated\n",
    "    \n",
    "    \n",
    "if \"b\" in \"dbs\": \n",
    "    print(\"the character b exists in the string\")\n",
    "else:\n",
    "    print(\"No matches found in the string\")\n",
    "# Any if-elif-else construct can only give ONE return."
   ]
  },
  {
   "cell_type": "code",
   "execution_count": 6,
   "metadata": {},
   "outputs": [
    {
     "name": "stdout",
     "output_type": "stream",
     "text": [
      "both characters exist in the string\n",
      "either d or b exist in the string\n"
     ]
    }
   ],
   "source": [
    "# Alternative: AND (stricter)\n",
    "if \"d\" in \"dbs\" and \"b\" in \"dbs\":\n",
    "    print(\"both characters exist in the string\")\n",
    "    \n",
    " # Alternative: OR (permissive)\n",
    "if \"d\" in \"dbs\" or \"b\" in \"dbs\":\n",
    "    print(\"either d or b exist in the string\")"
   ]
  },
  {
   "cell_type": "markdown",
   "metadata": {
    "colab_type": "text",
    "id": "oTW8zugxWGzk"
   },
   "source": [
    "Or if something is less, more, or not equal"
   ]
  },
  {
   "cell_type": "code",
   "execution_count": 7,
   "metadata": {
    "colab": {},
    "colab_type": "code",
    "executionInfo": {
     "elapsed": 739,
     "status": "ok",
     "timestamp": 1596262008733,
     "user": {
      "displayName": "A M Aditya",
      "photoUrl": "https://lh3.googleusercontent.com/a-/AOh14GgFVWgbF3Mg6wXstyZ41k2zGOCwgYmwsme0Ysan0cI=s64",
      "userId": "15341571102300750919"
     },
     "user_tz": -480
    },
    "id": "-y17xG1oWGzm"
   },
   "outputs": [
    {
     "name": "stdout",
     "output_type": "stream",
     "text": [
      "That's not fair! I have an account with DBS!\n"
     ]
    }
   ],
   "source": [
    "dbs_interest = 0.12\n",
    "uob_interest = 0.15\n",
    "\n",
    "if dbs_interest < uob_interest:\n",
    "    print(\"That's not fair! I have an account with DBS!\")"
   ]
  },
  {
   "cell_type": "markdown",
   "metadata": {
    "colab_type": "text",
    "id": "Iv46DuWdWGzp"
   },
   "source": [
    "But sometimes we might want to chain multiple conditions together - for example, if we got paid the same or more than our sibling we might want to say that we think it is fair. \n",
    "\n",
    "To do that we pair the `if` with an `else`."
   ]
  },
  {
   "cell_type": "code",
   "execution_count": 8,
   "metadata": {
    "colab": {
     "base_uri": "https://localhost:8080/",
     "height": 35
    },
    "colab_type": "code",
    "executionInfo": {
     "elapsed": 940,
     "status": "ok",
     "timestamp": 1596262130708,
     "user": {
      "displayName": "A M Aditya",
      "photoUrl": "https://lh3.googleusercontent.com/a-/AOh14GgFVWgbF3Mg6wXstyZ41k2zGOCwgYmwsme0Ysan0cI=s64",
      "userId": "15341571102300750919"
     },
     "user_tz": -480
    },
    "id": "1r7wYlGzWGzp",
    "outputId": "52f9c73b-32a4-4b2e-ec74-6a208841d199"
   },
   "outputs": [
    {
     "name": "stdout",
     "output_type": "stream",
     "text": [
      "Seems fair!\n"
     ]
    }
   ],
   "source": [
    "dbs_interest = 0.17\n",
    "uob_interest = 0.15\n",
    "\n",
    "if dbs_interest > uob_interest: \n",
    "    print(\"Seems fair!\")\n",
    "else:\n",
    "    print(\"That's not fair! I have an account with DBS!\")"
   ]
  },
  {
   "cell_type": "markdown",
   "metadata": {
    "colab_type": "text",
    "id": "FtpIoTZhWGzt"
   },
   "source": [
    "When we put an `if` statement inside another `if` statement that is called nesting. \n",
    "\n",
    "However, while we can nest code inside it is best to only do it when appropriate.\n",
    "\n",
    "**So when do I nest an `if` statement?**\n",
    "\n",
    "We nest `if` statements if we want to evaluate one condition and then further evaluate a separate condition. As an example, if we thought that it was fair for our sibling to get paid more than us *if* they were 5 years older than we were, that would be a good time to nest an `if` statement. \n",
    "\n",
    "When we want to evaluate the same condition it is best to do it all at the same level of code. To add in another condition we use the `elif` command (which stands for 'else if')"
   ]
  },
  {
   "cell_type": "code",
   "execution_count": 9,
   "metadata": {
    "colab": {
     "base_uri": "https://localhost:8080/",
     "height": 35
    },
    "colab_type": "code",
    "executionInfo": {
     "elapsed": 1254,
     "status": "ok",
     "timestamp": 1596263050514,
     "user": {
      "displayName": "A M Aditya",
      "photoUrl": "https://lh3.googleusercontent.com/a-/AOh14GgFVWgbF3Mg6wXstyZ41k2zGOCwgYmwsme0Ysan0cI=s64",
      "userId": "15341571102300750919"
     },
     "user_tz": -480
    },
    "id": "qDWctP-WWGzu",
    "outputId": "d5c5cccb-cd50-4596-dab8-f68444338b65"
   },
   "outputs": [
    {
     "name": "stdout",
     "output_type": "stream",
     "text": [
      "That's not fair!\n"
     ]
    }
   ],
   "source": [
    "dbs_interest = 0.13\n",
    "uob_interest = 0.15\n",
    "\n",
    "my_age = 21\n",
    "my_siblings_age = 23\n",
    "\n",
    "agediff = my_siblings_age - my_age\n",
    "\n",
    "# NESTING - NESTED IF ELSE\n",
    "\n",
    "if dbs_interest < uob_interest:                                 \n",
    "# i earn less then my siblings\n",
    "  if agediff > 5:\n",
    "    print(\"That's understandable because I am younger!\")\n",
    "  else:\n",
    "    print(\"That's not fair!\")\n",
    "    \n",
    "else:                                                       \n",
    "# for when i earn more!\n",
    "  print(\"Well, that seems fair\")\n",
    "\n",
    "# else will be evaluated, \n",
    "# if all preceding indented conditions are FALSE"
   ]
  },
  {
   "cell_type": "markdown",
   "metadata": {
    "colab_type": "text",
    "id": "UfNiAECmWGzw"
   },
   "source": [
    "# Keeping code running (`while` loops)\n",
    "\n",
    "\n",
    "\n",
    "## While loops\n",
    "\n",
    "A loop is used to repeat a block of commands multiple times. There are two ways to write a loop, one is a `for` loop and the other is a `while` loop. Typically, you use a `for` loop when you know how many times you want to loop, and a `while` loop when looping is based on a conditional that will be modified during the loop.\n",
    "\n",
    "A `while` loop is pretty simple, it's structure looks like:\n",
    "\n",
    "    while a_condition:\n",
    "        # do something\n",
    "        ...\n",
    "        \n",
    "and it continues until `a_condition` is false.\n",
    "\n",
    "\n",
    "As an example, let's think about trying to write code to perform division. \n",
    "\n",
    "So how do we do division? How can we do it in code?\n",
    "\n",
    "Well let's see: we have the number we want to divide and the divisor.\n",
    "\n",
    "We want to know the number of times that the divisor goes into our number. \n",
    "\n",
    "Once the divisor can no longer go into our number, we've reached the end. This means we want to use a `while` loop to continue subtracting the divisor from our original number. "
   ]
  },
  {
   "cell_type": "code",
   "execution_count": 10,
   "metadata": {
    "colab": {
     "base_uri": "https://localhost:8080/",
     "height": 173
    },
    "colab_type": "code",
    "executionInfo": {
     "elapsed": 1054,
     "status": "ok",
     "timestamp": 1590822849732,
     "user": {
      "displayName": "Desmond Sek",
      "photoUrl": "https://lh3.googleusercontent.com/a-/AOh14GjQj9ANFvLsRLkJAoNiRe9I6br32aYvAs1rqTwiF6M=s64",
      "userId": "15004601375355093954"
     },
     "user_tz": -480
    },
    "id": "LwN3ga9gWGzx",
    "outputId": "a06491d1-f518-42a1-9dd2-dc272b27883b"
   },
   "outputs": [
    {
     "name": "stdout",
     "output_type": "stream",
     "text": [
      "1827\n",
      "2654\n",
      "3481\n",
      "4308\n",
      "5135\n",
      "5962\n",
      "6789\n",
      "7616\n",
      "8443\n",
      "9270\n",
      "End of the while loop!\n"
     ]
    }
   ],
   "source": [
    "# Our numeric variables\n",
    "# INITIALIZATION\n",
    "bankBalance = 1000         \n",
    "#how many times can salary be added to the balance to make it 100000\n",
    "salary = 827\n",
    "\n",
    "# While loop\n",
    "while bankBalance < 10000: \n",
    "#until num1 is less than 0, when it drops below 0, our condition becomes false!\n",
    "    bankBalance = bankBalance + salary\n",
    "    if bankBalance < 10000:\n",
    "      print(bankBalance)\n",
    "    else:\n",
    "      print(\"End of the while loop!\")"
   ]
  },
  {
   "cell_type": "markdown",
   "metadata": {
    "colab_type": "text",
    "id": "q-RpP9hBWGz0"
   },
   "source": [
    "The most important part to always keep track of is that you finish the condition that you started the `while` loop with. Otherwise, it'll just keep going on and on for forever!"
   ]
  },
  {
   "cell_type": "code",
   "execution_count": 12,
   "metadata": {},
   "outputs": [],
   "source": [
    "# Handling the infinite While loop\n",
    "\n",
    "# while True:\n",
    "#    print(\"Oh no! Infinite Loop!\")\n",
    "    \n",
    "# Interrupt the kernel (Shortcut: I,I)\n",
    "# Cell Menu > All Output > Clear"
   ]
  },
  {
   "cell_type": "markdown",
   "metadata": {
    "colab_type": "text",
    "id": "qeXv0UlyWGz1"
   },
   "source": [
    "# Iterating through a sequence (`for` loops)\n",
    "\n",
    "A `while` loop is an excellent choice when you need to perform a set of commands and do not know how many times they *should* be executed but do know when the commands *should finish*. \n",
    "\n",
    "Our next option helps us solve the other part of looping, when we know *how many times* a command should be executed.\n",
    "\n",
    "## For loops\n",
    "\n",
    "A `for` loop lets us repeat a set of commands a defined number of times. The syntax for a `for` loop is just:\n",
    "\n",
    "    for item in sequence:\n",
    "        # do something with item\n",
    "        ...\n",
    "\n",
    "But what is a sequence?\n",
    "\n",
    "There are lots of functions in Python that will actually return a sequence - they are called *iterators*. An iterator essentially provides the next element in the sequence each time we access it. \n",
    "\n",
    "The iterator that we will use to demonstrate a for loop is the `range()` function. The range function gives us a sequence of numbers from the first number we give it up until the last number we give it."
   ]
  },
  {
   "cell_type": "code",
   "execution_count": 13,
   "metadata": {
    "colab": {
     "base_uri": "https://localhost:8080/",
     "height": 35
    },
    "colab_type": "code",
    "executionInfo": {
     "elapsed": 855,
     "status": "ok",
     "timestamp": 1590823215782,
     "user": {
      "displayName": "Desmond Sek",
      "photoUrl": "https://lh3.googleusercontent.com/a-/AOh14GjQj9ANFvLsRLkJAoNiRe9I6br32aYvAs1rqTwiF6M=s64",
      "userId": "15004601375355093954"
     },
     "user_tz": -480
    },
    "id": "j8JV23zuWGz1",
    "outputId": "ce925b13-6188-44d1-c5ae-45183022df11"
   },
   "outputs": [
    {
     "data": {
      "text/plain": [
       "range(1, 5)"
      ]
     },
     "execution_count": 13,
     "metadata": {},
     "output_type": "execute_result"
    }
   ],
   "source": [
    "range(1,5)"
   ]
  },
  {
   "cell_type": "markdown",
   "metadata": {
    "colab_type": "text",
    "id": "Dxh9ZTmdWGz5"
   },
   "source": [
    "That doesn't look right! \n",
    "\n",
    "It's because it's an iterator, in order to access the numbers we have to actually access the iterator each time to 'pull' a number out."
   ]
  },
  {
   "cell_type": "code",
   "execution_count": 14,
   "metadata": {
    "colab": {},
    "colab_type": "code",
    "id": "DURVV--bv5Wh"
   },
   "outputs": [
    {
     "name": "stdout",
     "output_type": "stream",
     "text": [
      "1\n",
      "2\n",
      "3\n",
      "4\n",
      "5\n"
     ]
    }
   ],
   "source": [
    "for i in range(1,6): \n",
    "    print(i)\n",
    "    \n",
    "# Be careful of the RHS of your ranges!"
   ]
  },
  {
   "cell_type": "code",
   "execution_count": 15,
   "metadata": {
    "colab": {
     "base_uri": "https://localhost:8080/",
     "height": 190
    },
    "colab_type": "code",
    "executionInfo": {
     "elapsed": 1011,
     "status": "ok",
     "timestamp": 1590823347632,
     "user": {
      "displayName": "Desmond Sek",
      "photoUrl": "https://lh3.googleusercontent.com/a-/AOh14GjQj9ANFvLsRLkJAoNiRe9I6br32aYvAs1rqTwiF6M=s64",
      "userId": "15004601375355093954"
     },
     "user_tz": -480
    },
    "id": "63_Jtb4iWGz6",
    "outputId": "fca18c85-75a9-483b-9375-45b4e96c6589"
   },
   "outputs": [
    {
     "name": "stdout",
     "output_type": "stream",
     "text": [
      "0\n",
      "3\n",
      "6\n",
      "9\n",
      "12\n",
      "15\n",
      "18\n"
     ]
    }
   ],
   "source": [
    "for i in range(0,21,3):\n",
    "    print(i)\n",
    "# you can use steps too"
   ]
  },
  {
   "cell_type": "code",
   "execution_count": 20,
   "metadata": {},
   "outputs": [
    {
     "name": "stdout",
     "output_type": "stream",
     "text": [
      "6\n",
      "7\n",
      "8\n",
      "9\n",
      "10\n"
     ]
    }
   ],
   "source": [
    "for i in range(1,11):\n",
    "    if i >= 6:\n",
    "        print(i)\n"
   ]
  },
  {
   "cell_type": "markdown",
   "metadata": {
    "colab_type": "text",
    "id": "R7rixwbGWGz-"
   },
   "source": [
    "What's happening is that each time we go to the top of the for loop, we pull another number out of the sequence and that number is assigned to `i`.\n",
    "\n",
    "After that point, we execute all of the indented code in the block with the current value of `i`. Once we've finished executing the code we go back up to the top and assign the next value in the sequence to `i`."
   ]
  },
  {
   "cell_type": "code",
   "execution_count": 22,
   "metadata": {
    "colab": {
     "base_uri": "https://localhost:8080/",
     "height": 311
    },
    "colab_type": "code",
    "executionInfo": {
     "elapsed": 1105,
     "status": "ok",
     "timestamp": 1590823504410,
     "user": {
      "displayName": "Desmond Sek",
      "photoUrl": "https://lh3.googleusercontent.com/a-/AOh14GjQj9ANFvLsRLkJAoNiRe9I6br32aYvAs1rqTwiF6M=s64",
      "userId": "15004601375355093954"
     },
     "user_tz": -480
    },
    "id": "zYcalRvQWGz_",
    "outputId": "4482e734-5d28-4a28-b73a-e0329b872a29"
   },
   "outputs": [
    {
     "name": "stdout",
     "output_type": "stream",
     "text": [
      "1\n",
      "3\n",
      "===\n",
      "2\n",
      "6\n",
      "===\n",
      "3\n",
      "9\n",
      "===\n",
      "4\n",
      "12\n",
      "===\n",
      "5\n",
      "15\n",
      "===\n",
      "outside!\n"
     ]
    }
   ],
   "source": [
    "for i in range(1,6):\n",
    "    print(i)\n",
    "    print(i*3)\n",
    "    print(\"===\")\n",
    "    \n",
    "# Python reads the whitespace as placing the previous 3 prints within the loop\n",
    "print(\"outside!\")"
   ]
  },
  {
   "cell_type": "markdown",
   "metadata": {
    "colab_type": "text",
    "id": "1TIGAYLgWG0B"
   },
   "source": [
    "Using a for loop is very useful when we want to access all of the elements of some variable. For example, if we know that we want to do something to every individual letter in a string, we could use the range funciton to access each element directly."
   ]
  },
  {
   "cell_type": "code",
   "execution_count": 23,
   "metadata": {
    "colab": {
     "base_uri": "https://localhost:8080/",
     "height": 225
    },
    "colab_type": "code",
    "executionInfo": {
     "elapsed": 955,
     "status": "ok",
     "timestamp": 1590823927462,
     "user": {
      "displayName": "Desmond Sek",
      "photoUrl": "https://lh3.googleusercontent.com/a-/AOh14GjQj9ANFvLsRLkJAoNiRe9I6br32aYvAs1rqTwiF6M=s64",
      "userId": "15004601375355093954"
     },
     "user_tz": -480
    },
    "id": "B1pU_aQKWG0C",
    "outputId": "0d287ba8-4a0f-4d4f-d102-3e158ec4c809"
   },
   "outputs": [
    {
     "data": {
      "text/plain": [
       "13"
      ]
     },
     "execution_count": 23,
     "metadata": {},
     "output_type": "execute_result"
    }
   ],
   "source": [
    "bankname = \"Deutsche Bank\"\n",
    "len(bankname)"
   ]
  },
  {
   "cell_type": "markdown",
   "metadata": {
    "colab_type": "text",
    "id": "CWztQ3z9WG0F"
   },
   "source": [
    "Note that the range we are iterating through **must** match the number of letters in `phrase`. Otherwise we would have an error as we try to access parts of the `phrase` variable that doesn't exist."
   ]
  },
  {
   "cell_type": "code",
   "execution_count": 24,
   "metadata": {
    "colab": {
     "base_uri": "https://localhost:8080/",
     "height": 269
    },
    "colab_type": "code",
    "executionInfo": {
     "elapsed": 730,
     "status": "error",
     "timestamp": 1589000015439,
     "user": {
      "displayName": "Desmond Sek",
      "photoUrl": "https://lh3.googleusercontent.com/a-/AOh14GjQj9ANFvLsRLkJAoNiRe9I6br32aYvAs1rqTwiF6M=s64",
      "userId": "15004601375355093954"
     },
     "user_tz": -480
    },
    "id": "ZscpHJyNWG0I",
    "outputId": "84576208-8aa0-4878-c3bc-1cfc7fb3d6bd"
   },
   "outputs": [
    {
     "name": "stdout",
     "output_type": "stream",
     "text": [
      "D\n",
      "e\n",
      "u\n",
      "t\n",
      "s\n",
      "c\n",
      "h\n",
      "e\n",
      " \n",
      "B\n",
      "a\n",
      "n\n",
      "k\n"
     ]
    }
   ],
   "source": [
    "for x in bankname:\n",
    "    print(x)"
   ]
  },
  {
   "cell_type": "markdown",
   "metadata": {
    "colab_type": "text",
    "id": "yUtrd69lWG0N"
   },
   "source": [
    "So this would allow us to actually manipulate the individual characters of a string and create a new string that has the manipulated characters."
   ]
  },
  {
   "cell_type": "code",
   "execution_count": 25,
   "metadata": {},
   "outputs": [
    {
     "name": "stdout",
     "output_type": "stream",
     "text": [
      "BEAGLE\n",
      "PARROT\n",
      "IGUANA\n",
      "GERBIL\n",
      "CHAMELEON\n",
      "FISH\n"
     ]
    }
   ],
   "source": [
    "pet_store = ['beagle', 'parrot', 'iguana', 'gerbil', 'chameleon', 'fish']\n",
    "for i in pet_store:\n",
    "    print(i.upper())"
   ]
  },
  {
   "cell_type": "markdown",
   "metadata": {
    "colab_type": "text",
    "id": "ZIzu66WDWG0N"
   },
   "source": [
    "# Exercises"
   ]
  },
  {
   "cell_type": "markdown",
   "metadata": {
    "colab_type": "text",
    "id": "CnUvAkX0Ow1K"
   },
   "source": [
    "Question1: Using a **FOR LOOP** print 0,3,6,9.....30\n",
    "\n",
    "Question2: Using a **WHILE LOOP** print all numbers divisible by 7 in the range of 0-50. Use the % (*modulus*) operator"
   ]
  },
  {
   "cell_type": "markdown",
   "metadata": {},
   "source": [
    "## Solutions"
   ]
  },
  {
   "cell_type": "code",
   "execution_count": 35,
   "metadata": {
    "colab": {
     "base_uri": "https://localhost:8080/",
     "height": 202
    },
    "colab_type": "code",
    "executionInfo": {
     "elapsed": 986,
     "status": "ok",
     "timestamp": 1578723531247,
     "user": {
      "displayName": "A M Aditya",
      "photoUrl": "https://lh3.googleusercontent.com/a-/AAuE7mCsfdnds-iKq8q_McVnJNAoy2tjCF6-x0DfsUTBQ3s=s64",
      "userId": "15341571102300750919"
     },
     "user_tz": -480
    },
    "id": "s5M3FnSHOxu0",
    "outputId": "5bc536ed-9be8-4ed3-8cf7-b9596b48d07c"
   },
   "outputs": [
    {
     "name": "stdout",
     "output_type": "stream",
     "text": [
      "0\n",
      "3\n",
      "6\n",
      "9\n",
      "12\n",
      "15\n",
      "18\n",
      "21\n",
      "24\n",
      "27\n",
      "30\n"
     ]
    }
   ],
   "source": [
    "# ANSWER 1a - Adjusted i\n",
    "for i in range (0,11):\n",
    "    print(i*3)"
   ]
  },
  {
   "cell_type": "code",
   "execution_count": 37,
   "metadata": {},
   "outputs": [
    {
     "name": "stdout",
     "output_type": "stream",
     "text": [
      "0\n",
      "3\n",
      "6\n",
      "9\n",
      "12\n",
      "15\n",
      "18\n",
      "21\n",
      "24\n",
      "27\n",
      "30\n"
     ]
    }
   ],
   "source": [
    "# ANSWER 1b - Embedded if\n",
    "for i in range(0,31):\n",
    "    if i % 3 == 0:\n",
    "    # Which means i is divisible by 3\n",
    "        print(i)"
   ]
  },
  {
   "cell_type": "code",
   "execution_count": 34,
   "metadata": {},
   "outputs": [
    {
     "name": "stdout",
     "output_type": "stream",
     "text": [
      "0\n",
      "3\n",
      "6\n",
      "9\n",
      "12\n",
      "15\n",
      "18\n",
      "21\n",
      "24\n",
      "27\n",
      "30\n"
     ]
    }
   ],
   "source": [
    "# ANSWER 1c - Alt-Stepping\n",
    "for i in range(0,31,3): \n",
    "    print(i)"
   ]
  },
  {
   "cell_type": "code",
   "execution_count": 38,
   "metadata": {
    "colab": {
     "base_uri": "https://localhost:8080/",
     "height": 138
    },
    "colab_type": "code",
    "executionInfo": {
     "elapsed": 717,
     "status": "ok",
     "timestamp": 1590824538533,
     "user": {
      "displayName": "Desmond Sek",
      "photoUrl": "https://lh3.googleusercontent.com/a-/AOh14GjQj9ANFvLsRLkJAoNiRe9I6br32aYvAs1rqTwiF6M=s64",
      "userId": "15004601375355093954"
     },
     "user_tz": -480
    },
    "id": "d63y4pJYQVWz",
    "outputId": "a91b59f1-66d7-45b2-e5bb-0d2a88b23f75"
   },
   "outputs": [
    {
     "name": "stdout",
     "output_type": "stream",
     "text": [
      "0\n",
      "7\n",
      "14\n",
      "21\n",
      "28\n",
      "35\n",
      "42\n",
      "49\n"
     ]
    }
   ],
   "source": [
    "# ANSWER 2 - Use a tracker variable\n",
    "\n",
    "counter = 0\n",
    "\n",
    "while counter <= 50:\n",
    "    if counter % 7 == 0:\n",
    "        print(counter)\n",
    "    counter += 1 \n",
    "    # Same as: counter = counter + 1\n",
    "    \n",
    "# While loop is not best solution for this question\n",
    "# For loop will be more suitable"
   ]
  },
  {
   "cell_type": "markdown",
   "metadata": {
    "colab": {},
    "colab_type": "code",
    "id": "cynfI-l7022Z"
   },
   "source": [
    "`End of Exercise`"
   ]
  }
 ],
 "metadata": {
  "colab": {
   "collapsed_sections": [],
   "name": "3_Flow_Control.ipynb",
   "provenance": []
  },
  "kernelspec": {
   "display_name": "Python 3 (ipykernel)",
   "language": "python",
   "name": "python3"
  },
  "language_info": {
   "codemirror_mode": {
    "name": "ipython",
    "version": 3
   },
   "file_extension": ".py",
   "mimetype": "text/x-python",
   "name": "python",
   "nbconvert_exporter": "python",
   "pygments_lexer": "ipython3",
   "version": "3.9.12"
  }
 },
 "nbformat": 4,
 "nbformat_minor": 1
}
