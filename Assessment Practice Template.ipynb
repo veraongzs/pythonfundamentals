{
 "cells": [
  {
   "cell_type": "markdown",
   "metadata": {},
   "source": [
    "# Assessment Practice"
   ]
  },
  {
   "cell_type": "markdown",
   "metadata": {},
   "source": [
    "## `Written Assessment (30 mins)`"
   ]
  },
  {
   "cell_type": "markdown",
   "metadata": {},
   "source": [
    "`Scenario`\n",
    "\n",
    "You are a newly hired data analyst for ***Deca Bank - A North American financial institution***. There are clients under you who have a variety of data and programming challenges. You are to assess them and work on the following business requirements that have been set down by them:\n",
    "-\tUnderstand and align the data types for the data present in the database\n",
    "-\tSuggest the right data types to use if incorrect\n",
    "-\tProvide the best solutions\n",
    "A snippet of the different clients’ issues is as seen in the questions below. Answer them to the best of your ability."
   ]
  },
  {
   "cell_type": "markdown",
   "metadata": {},
   "source": [
    "`*Question 1:*`\n",
    "\n",
    "The bank has plans to launch a student loan product. As a new product there is a need to identify the additional data, which is required to ultimately take decisions.\n",
    "\n",
    "Background:\n",
    "With the industrial revolution and society as a whole becoming more aware of education, there is a shift to more people wanting to be educated. With that in mind, the Bank is interested in rolling out a series of loan products to help the people who require funding for their education.\n",
    "\n",
    "Education is expensive in Singapore, hence families earning less than $50000 will be preferred for the loan. Also families who are taking loan for the first time will be given preference as opposed to those who have availed of it earlier. In event that the student itself is taking the loan, then it is subject to manual review.\n",
    "\n",
    "After understanding the above background scenario:\n",
    "Simulate a scenario and suggest 2 functions which can be derived as part of the education loan. The bank will require the focus to be on the loan product and people taking the loans. You will also need to indicate details as to what the functions should be doing either, preferably via coding also demonstrate the logic which they should contain.\n",
    "\n",
    "***Hint: You can create a function to do a pre-vetting of the loan applicant and another to take care of the final approval.***\n",
    "\n",
    "`*Answer 1:*`"
   ]
  },
  {
   "cell_type": "code",
   "execution_count": null,
   "metadata": {},
   "outputs": [],
   "source": [
    "# Conditions:\n",
    "# if income > 50000 OR if not first time loan, then reject\n",
    "# if student --> manual review \n",
    "\n",
    "# Function A for pre-vetting, Function B for approval"
   ]
  },
  {
   "cell_type": "code",
   "execution_count": 8,
   "metadata": {},
   "outputs": [],
   "source": [
    "# Conditional variables for evaluation\n",
    "fam_inc = 90000\n",
    "first_loan = True\n",
    "solo_app = False"
   ]
  },
  {
   "cell_type": "code",
   "execution_count": 9,
   "metadata": {},
   "outputs": [
    {
     "name": "stdout",
     "output_type": "stream",
     "text": [
      "Not a qualifying applicant. REJECTED\n"
     ]
    }
   ],
   "source": [
    "# W1\n",
    "\n",
    "if fam_inc < 50000 and first_loan == True:\n",
    "    if solo_app == True:\n",
    "        print(\"Solo student applicant. Sent to manual review.\")\n",
    "    else: \n",
    "        print(\"Loan application APPROVED.\")\n",
    "else:\n",
    "    print(\"Not a qualifying applicant. REJECTED\")"
   ]
  },
  {
   "cell_type": "code",
   "execution_count": null,
   "metadata": {
    "scrolled": true
   },
   "outputs": [],
   "source": [
    "var1 = input(\"Enter 'Yes/No' if you are a student?\")\n",
    "var2 = input(\"Enter 'Yes/No' if you are applying loan for the first time: \")\n",
    "var3 = int(input(\"Enter the amount of salary:\"))\n",
    "\n",
    "def loan_appln(var1,var2,var3):\n",
    "    \"\"\"\n",
    "    Program to approve loan applications based on applicant inputs.\n",
    "    \"\"\"\n",
    "    if var1 != \"Yes\" and var2 == \"Yes\":\n",
    "        if var3 < 50000:\n",
    "            print(\"Your loan application will be considered\")\n",
    "        else:\n",
    "            print(\"You are not shortlisted\")\n",
    "    else:\n",
    "            print(\"Your loan application need to be reviewed manually\")\n",
    "\n",
    "loan_appln(var1,var2,var3)"
   ]
  },
  {
   "cell_type": "code",
   "execution_count": null,
   "metadata": {},
   "outputs": [],
   "source": [
    "loan_appln()"
   ]
  },
  {
   "cell_type": "markdown",
   "metadata": {},
   "source": [
    "`*Question 2:*`\n",
    "\n",
    "The bank stores loan data in the form of dictionaries. They want you, an analyst, to do some operations of the existing dictionary. Answer the questions that follow in pseudo code:\n",
    "\n",
    "data = {\"loanID\": 15456, \"loanReason\": \"Education\", \"loanDate\": \"25/05/2022\"}\n",
    "\n",
    "-\tAdd a new key in the dictionary called “loanAmount” with the value 100000\n",
    "-\tThe loan date was incorrectly recorded. Change the “loanDate” value to 26/05/2022\n",
    "-\tThe bank does not want to keep “loanID” in the dictionary. Please help them remove it.\n",
    "\n",
    "`*Answer 2:*`"
   ]
  },
  {
   "cell_type": "code",
   "execution_count": 11,
   "metadata": {},
   "outputs": [
    {
     "data": {
      "text/plain": [
       "{'loanID': 15456, 'loanReason': 'Education', 'loanDate': '25/05/2022'}"
      ]
     },
     "execution_count": 11,
     "metadata": {},
     "output_type": "execute_result"
    }
   ],
   "source": [
    "data = {\"loanID\": 15456, \"loanReason\": \"Education\", \"loanDate\": \"25/05/2022\"}\n",
    "data"
   ]
  },
  {
   "cell_type": "code",
   "execution_count": null,
   "metadata": {},
   "outputs": [],
   "source": [
    "# W2ai - key ref\n",
    "\n",
    "data[\"loanAmount\"] = 10000\n",
    "data"
   ]
  },
  {
   "cell_type": "code",
   "execution_count": null,
   "metadata": {},
   "outputs": [],
   "source": [
    "# W2aii - .update()\n",
    "\n",
    "data.update({\"loanAmount\":10000})\n",
    "data"
   ]
  },
  {
   "cell_type": "code",
   "execution_count": null,
   "metadata": {},
   "outputs": [],
   "source": [
    "# W2bi - key ref\n",
    "\n",
    "data[\"loanDate\"] = \"26/05/2022\"\n",
    "data"
   ]
  },
  {
   "cell_type": "code",
   "execution_count": null,
   "metadata": {},
   "outputs": [],
   "source": [
    "# W2bii - .update()\n",
    "\n",
    "data.update({\"loanDate\":\"26/05/2022\"})\n",
    "data"
   ]
  },
  {
   "cell_type": "code",
   "execution_count": null,
   "metadata": {
    "scrolled": false
   },
   "outputs": [],
   "source": [
    "# W2ci - using .pop()\n",
    "\n",
    "data.pop (\"loanID\")\n",
    "data"
   ]
  },
  {
   "cell_type": "code",
   "execution_count": null,
   "metadata": {},
   "outputs": [],
   "source": [
    "#W2cii - using del\n",
    "\n",
    "del data[\"loanID\"]\n",
    "data"
   ]
  },
  {
   "cell_type": "markdown",
   "metadata": {},
   "source": [
    "`*Question 3:*`\n",
    "\n",
    "The bank wants to make use of Python programming to run a repetitive sequence of operations. What are the two types of loops available in Python. Explain in what cases each of them is used."
   ]
  },
  {
   "cell_type": "markdown",
   "metadata": {},
   "source": [
    "`*Answer 3:*`\n",
    "\n",
    "While: for iterating so long as some condition holds true  \n",
    "\n",
    "For: for iterating over ranges or specified collections."
   ]
  },
  {
   "cell_type": "markdown",
   "metadata": {},
   "source": [
    "## `Practical Assessment (90 mins)`"
   ]
  },
  {
   "cell_type": "markdown",
   "metadata": {},
   "source": [
    "`Question 1`\n",
    "\n",
    "`Scenario:`\n",
    "\n",
    "Assume that you are a trader and are part of the investment analyst team for a trading organization. You are responsible for taking decisions for investing in the right stocks at the right time based on certain data. You are tasked to use Python programming to deduce some decisions and plot some visuals.\n",
    "\n",
    "For the following questions use the data below in your Python codes. (You can copy and paste the below list data in your Python program)\n",
    "\n",
    "dateList = ['23/07/2022', '22/07/2022', '21/07/2022', '20/07/2022', '19/07/2022']\n",
    "\n",
    "closeList = [2984.55, 3097.91, 3136.29, 3195.84, 2962.97]\n",
    "\n",
    "volumeList = [100,120,140,125,355]\n",
    "\n",
    "highList = [3000.55, 3200.34, 3206.56, 3300.44, 3000.09]\n",
    "\n",
    "- a)\tWrite a Python program to extract the maximum value from ‘highList’ using a loop.\n",
    "\n",
    "- b)\tWrite a Python program to calculate the total sum of all elements in the volumeList which are greater than 100. \n",
    "\n",
    "- c)\tWrite a Python program to create a text file and write all the values of closeList in the file.\n",
    "\n",
    "- d)\tShould you invest in the stock? Why?\n",
    "\n",
    "- e)\tA stakeholder indicates the following: When the closeList exceeds 3100 you are to buy 30 more stocks than the usual 60 stocks, if the current day’s closeList amount is the less than 3000 you want to put in your buy order for 10 more. Structure your codes after understanding the above requirement and as a business outcome, print out the number of purchased stocks for each day."
   ]
  },
  {
   "cell_type": "code",
   "execution_count": 12,
   "metadata": {},
   "outputs": [],
   "source": [
    "dateList = ['23/07/2022', '22/07/2022', '21/07/2022', '20/07/2022', '19/07/2022']\n",
    "closeList = [2984.55, 3097.91, 3136.29, 3195.84, 2962.97]\n",
    "volumeList = [100,120,140,125,355]\n",
    "highList = [3000.55, 3200.34, 3206.56, 3300.44, 3000.09]"
   ]
  },
  {
   "cell_type": "code",
   "execution_count": 13,
   "metadata": {},
   "outputs": [
    {
     "name": "stdout",
     "output_type": "stream",
     "text": [
      "3300.44\n"
     ]
    }
   ],
   "source": [
    "# a) Extract the maximum value from ‘highList’ using a loop.\n",
    "\n",
    "# set a counter\n",
    "max_value = 0\n",
    "\n",
    "for i in highList:\n",
    "    if i > max_value:\n",
    "        max_value = i\n",
    "        \n",
    "print(max_value)"
   ]
  },
  {
   "cell_type": "code",
   "execution_count": 14,
   "metadata": {},
   "outputs": [
    {
     "data": {
      "text/plain": [
       "3300.44"
      ]
     },
     "execution_count": 14,
     "metadata": {},
     "output_type": "execute_result"
    }
   ],
   "source": [
    "max(highList)"
   ]
  },
  {
   "cell_type": "code",
   "execution_count": 18,
   "metadata": {
    "scrolled": true
   },
   "outputs": [
    {
     "name": "stdout",
     "output_type": "stream",
     "text": [
      "740\n"
     ]
    }
   ],
   "source": [
    "# b) USING FOR LOOP\n",
    "\n",
    "total_sum = 0\n",
    "\n",
    "for i in volumeList:\n",
    "    if i > 100:\n",
    "        total_sum += i\n",
    "\n",
    "print(total_sum)"
   ]
  },
  {
   "cell_type": "code",
   "execution_count": 19,
   "metadata": {},
   "outputs": [
    {
     "data": {
      "text/plain": [
       "740"
      ]
     },
     "execution_count": 19,
     "metadata": {},
     "output_type": "execute_result"
    }
   ],
   "source": [
    "# b) USING LIST COMPREHENSION\n",
    "sum ([i for i in volumeList if i > 100])"
   ]
  },
  {
   "cell_type": "code",
   "execution_count": 25,
   "metadata": {},
   "outputs": [],
   "source": [
    "# c) USING CLOSE LOOP\n",
    "\n",
    "file = open(\"closeList.txt\", \"w\")\n",
    "\n",
    "for i in closeList:\n",
    "    line = str(i) + \"\\n\"\n",
    "    file.write(line)\n",
    "file.close()"
   ]
  },
  {
   "cell_type": "markdown",
   "metadata": {},
   "source": []
  },
  {
   "cell_type": "code",
   "execution_count": 27,
   "metadata": {},
   "outputs": [
    {
     "name": "stdout",
     "output_type": "stream",
     "text": [
      "Close less than 3000, bought 70\n",
      "Normal close, normal buy of 60\n",
      "Close more than 3100, bought 90\n",
      "Close more than 3100, bought 90\n",
      "Close less than 3000, bought 70\n"
     ]
    }
   ],
   "source": [
    "# e) When the closeList exceeds 3100,\n",
    "# you are to buy 30 more stocks than the usual 60 stocks, \n",
    "# if the current day’s closeList amount is the less than 3000 \n",
    "# you want to put in your buy order for 10 more. \n",
    "# print out the number of purchased stocks for each day.\n",
    "\n",
    "norm = 60\n",
    "\n",
    "for i in closeList:\n",
    "    if i > 3100:\n",
    "        print(\"Close more than 3100, bought {0}\".format(norm+30))\n",
    "    elif i < 3000:\n",
    "        print(\"Close less than 3000, bought {0}\".format(norm+10))\n",
    "    else:\n",
    "        print(\"Normal close, normal buy of {0}\".format(norm))"
   ]
  },
  {
   "cell_type": "markdown",
   "metadata": {},
   "source": [
    "`Question 2:`\n",
    "\n",
    "`Scenario:`\n",
    "The developers of an organization have come up with a Python program to perform some operations on some data, but unfortunately the program does not function because of errors. Your task as a data scientist is to identify these errors and solve the problem. Answer the questions that follow the code.\n",
    "\n",
    "Code:\n",
    "\n",
    "    list1 = [5,10,15,20,25]\n",
    "\n",
    "    for ele in list2\n",
    "        if ele > 20\n",
    "            print(ele)\n",
    "    end\n",
    "\n",
    "\n",
    "a)\tThere are four errors in the above code. Identify and list down all the errors after testing whether the code runs.\n",
    "\n",
    "b)\tAfter you have identified the errors in the part above, write the corrected code. Write appropriate comments in your code to describe the use of each statement.\n",
    "\n",
    "c)\tAfter you have identified the issues in the part above and written the corrected code. You notice that the data for list1 is not correct, namely the value 25 is too high. You need to change the number to 23, you are to then print the changes to a text document for audit purposes.\n"
   ]
  },
  {
   "cell_type": "code",
   "execution_count": 8,
   "metadata": {},
   "outputs": [
    {
     "name": "stdout",
     "output_type": "stream",
     "text": [
      "25\n"
     ]
    }
   ],
   "source": [
    "list1 = [5,10,15,20,25]\n",
    "\n",
    "for ele in list1:\n",
    "    if ele > 20:\n",
    "        print(ele)"
   ]
  },
  {
   "cell_type": "markdown",
   "metadata": {},
   "source": [
    "Answer: 1a)   \n",
    "Error 1: SyntaxError, for loop line not terminated by colon  \n",
    "Error 2: SyntaxError, if condition not terminated by colon  \n",
    "Error 3: NameError, wrong list variable used - list2 should be list1  \n",
    "Error 4: NameError, \"end\" is not a Python keyword (not in green)"
   ]
  },
  {
   "cell_type": "code",
   "execution_count": 1,
   "metadata": {},
   "outputs": [
    {
     "name": "stdout",
     "output_type": "stream",
     "text": [
      "25\n"
     ]
    }
   ],
   "source": [
    "# Answer: 1b)  \n",
    "# Create list, assign elements\n",
    "list1 = [5,10,15,20,25]\n",
    "\n",
    "# construct if condition\n",
    "for ele in list1:\n",
    "    if ele > 20:\n",
    "        print(ele)"
   ]
  },
  {
   "cell_type": "markdown",
   "metadata": {},
   "source": [
    "c)\tAfter you have identified the issues in the part above and written the corrected code. You notice that the data for list1 is not correct, namely the value 25 is too high. You need to change the number to 23, you are to then print the changes to a text document for audit purposes."
   ]
  },
  {
   "cell_type": "code",
   "execution_count": 6,
   "metadata": {
    "scrolled": true
   },
   "outputs": [
    {
     "name": "stdout",
     "output_type": "stream",
     "text": [
      "[5, 10, 15, 20, 23]\n"
     ]
    }
   ],
   "source": [
    "# Audit for 2c)\n",
    "\n",
    "file = open(\"auditlog.txt\", \"w\")\n",
    "\n",
    "for i in range(len(list1)):\n",
    "    if list1[i] == 25:\n",
    "        list1[i] = 23\n",
    "        file.write(\"Excessive value. Decremented and logged\\n\")\n",
    "    \n",
    "    else:\n",
    "        file.write(\"No change required\\n\")\n",
    "\n",
    "# DO NOT indent file.close(), if not it will be included in loop\n",
    "        \n",
    "file.close()\n",
    "print(list1)"
   ]
  },
  {
   "cell_type": "code",
   "execution_count": 1,
   "metadata": {},
   "outputs": [
    {
     "name": "stdout",
     "output_type": "stream",
     "text": [
      "No change required\n",
      "No change required\n",
      "No change required\n",
      "No change required\n",
      "No change required\n",
      "\n"
     ]
    }
   ],
   "source": [
    "file = open(\"auditlog.txt\",\"r\")\n",
    "print(file.read())\n",
    "file.close()"
   ]
  }
 ],
 "metadata": {
  "kernelspec": {
   "display_name": "Python 3 (ipykernel)",
   "language": "python",
   "name": "python3"
  },
  "language_info": {
   "codemirror_mode": {
    "name": "ipython",
    "version": 3
   },
   "file_extension": ".py",
   "mimetype": "text/x-python",
   "name": "python",
   "nbconvert_exporter": "python",
   "pygments_lexer": "ipython3",
   "version": "3.9.12"
  }
 },
 "nbformat": 4,
 "nbformat_minor": 2
}
