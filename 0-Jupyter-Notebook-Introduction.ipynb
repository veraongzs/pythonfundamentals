{
 "cells": [
  {
   "cell_type": "markdown",
   "metadata": {
    "colab_type": "text",
    "id": "EMvqqu4T1VAt"
   },
   "source": [
    "# Jupyter Notebook Start Guide\n",
    "**1.1** <font color=blue>**What is the Jupyter Notebook?**</font> <br>\n",
    "Jupyter Notebook is an open-source web-based IDE that allows us to create and share codes, plots and documents. It help us to streamline the work and enable more productivity and easy collaboration. Using 'RISE' package we can also convert it into slideshow.\n",
    "-  <font color=blue>Notebook Document</font>\n",
    "-  <font color=blue>Jupyter Notebook App</font>\n",
    "-  <font color=blue>Kernel</font>\n",
    "-  <font color=blue>Notebook Dashboard</font>\n",
    "-  <font color=blue>The Cell</font>"
   ]
  },
  {
   "cell_type": "markdown",
   "metadata": {
    "colab_type": "text",
    "id": "qsrsv_ZBeXiF"
   },
   "source": [
    "**1.1.1  <font color=grey>Notebook document: </font>** Notebook documents are produced by the Jupyter Notebook App which contain both both computer code and rich text elements(paragraph, equations, figures, links etc..)."
   ]
  },
  {
   "cell_type": "markdown",
   "metadata": {
    "colab_type": "text",
    "id": "aGzLwWnqeXiG"
   },
   "source": [
    "__1.1.2  <font color=grey>Jupyter Notebook App: </font>__ The Jupyter Notebook App is a server-client application that allows editing and running notebook documents via a web browser. The Jupyter Notebook App can be executed on a local desktop requiring no internet access or installed on a remote server and accessed through the internet. In addition to displaying/editing/running notebook documents, the Jupyter Notebook App has a “Dashboard” (Notebook Dashboard), a “control panel” showing local ﬁles and allowing to open notebook documents or shutting down their kernels."
   ]
  },
  {
   "cell_type": "markdown",
   "metadata": {
    "colab_type": "text",
    "id": "vdyGWC-ceXiI"
   },
   "source": [
    "__1.1.3  <font color=grey>Kernel: </font>__ The Jupyter notebook kernel is a \"computational engine\" that executes the code contained in a Notebook document. Note that the RAM is not released until the kernel is shut-down. "
   ]
  },
  {
   "cell_type": "markdown",
   "metadata": {
    "colab_type": "text",
    "id": "uSEVh3WMeXiJ"
   },
   "source": [
    "__1.1.4  <font color=grey>Notebook Dashboard: </font>__ The Notebook Dashboard is the component which is shown ﬁrst when launching Jupyter Notebook App. The Notebook Dashboard is mainly used to open notebook documents, and to manage the running kernels (visualize and shutdown)."
   ]
  },
  {
   "cell_type": "markdown",
   "metadata": {
    "colab_type": "text",
    "id": "5iOJ11f_eXiK"
   },
   "source": [
    "__1.1.5  <font color=grey>The Cell: </font>__ The gray boxes are called cells.\n",
    "A cell can have its type changed. By default its type is `Code`, which means Python code. To produce a text paragraphs, you should use `Markdown`."
   ]
  },
  {
   "cell_type": "markdown",
   "metadata": {},
   "source": [
    "# 30 second markdown crash course\n",
    "\n",
    "## Formatting \n",
    "Normal text\n",
    "# very large header, one hash\n",
    "## 2nd-largest header, two hashes\n",
    "###### smallest header, 6 hashes\n",
    "\n",
    "**BOLD text**, wrap in asterisks\n",
    "\n",
    "*Italic text*, wrap in 1 asterisk\n",
    "\n",
    "Bullet points\n",
    "* One asterisk per point at the beginning of a line\n",
    "* Another point"
   ]
  },
  {
   "cell_type": "markdown",
   "metadata": {
    "colab_type": "text",
    "collapsed": true,
    "id": "5DNHw4Oh1VBF"
   },
   "source": [
    "**1.2 <font color=blue>Running cells</font> <br>** \n",
    "We can type code in a cell, but until we push the `play` button at the top or press `Shift+Enter` it has not been \"run.\" We can check this because there will not be a number in the prompt to the side. When a cell has a number to the side that means that the cell has been **executed**. That number also tells you the order that the cell was executed in. <br>\n",
    "**Cells can and are executed out of the linear order that they appear in the page!**"
   ]
  },
  {
   "cell_type": "code",
   "execution_count": 1,
   "metadata": {
    "colab": {},
    "colab_type": "code",
    "id": "MKB5-Jld1VBS"
   },
   "outputs": [],
   "source": [
    "# Run first\n",
    "num = 5"
   ]
  },
  {
   "cell_type": "code",
   "execution_count": 2,
   "metadata": {
    "colab": {
     "base_uri": "https://localhost:8080/",
     "height": 34
    },
    "colab_type": "code",
    "executionInfo": {
     "elapsed": 612,
     "status": "ok",
     "timestamp": 1557542639085,
     "user": {
      "displayName": "Desmond Sek",
      "photoUrl": "https://lh3.googleusercontent.com/-kpaWQQmtEpQ/AAAAAAAAAAI/AAAAAAAAc5k/V4TZA_YKVSI/s64/photo.jpg",
      "userId": "15004601375355093954"
     },
     "user_tz": -480
    },
    "id": "1eMQGX-W1VBJ",
    "outputId": "3802276e-9e0d-4f6c-df15-c221401707f9"
   },
   "outputs": [
    {
     "name": "stdout",
     "output_type": "stream",
     "text": [
      "5\n"
     ]
    }
   ],
   "source": [
    "# Run second\n",
    "print(num)"
   ]
  },
  {
   "cell_type": "markdown",
   "metadata": {
    "colab_type": "text",
    "id": "0olyL-rR1VBc"
   },
   "source": [
    "Be aware that once you use a variable name, \n",
    "**it persists across all cells going forward in execution order**."
   ]
  },
  {
   "cell_type": "code",
   "execution_count": 3,
   "metadata": {
    "colab": {
     "base_uri": "https://localhost:8080/",
     "height": 34
    },
    "colab_type": "code",
    "executionInfo": {
     "elapsed": 861,
     "status": "ok",
     "timestamp": 1550507997435,
     "user": {
      "displayName": "A M Aditya",
      "photoUrl": "https://lh3.googleusercontent.com/-WI8p7JNWLic/AAAAAAAAAAI/AAAAAAAAAfs/vS8ElgH0p0c/s64/photo.jpg",
      "userId": "15341571102300750919"
     },
     "user_tz": -480
    },
    "id": "qGdvJJM21VBf",
    "outputId": "6cf79aa9-b89e-450e-c84a-e1a19dfab137"
   },
   "outputs": [
    {
     "data": {
      "text/plain": [
       "15"
      ]
     },
     "execution_count": 3,
     "metadata": {},
     "output_type": "execute_result"
    }
   ],
   "source": [
    "num * 3"
   ]
  },
  {
   "cell_type": "markdown",
   "metadata": {
    "colab_type": "text",
    "collapsed": true,
    "id": "5QivPt9B1VB1"
   },
   "source": [
    "**1.4 <font color=blue>Notebook features</font> <br>**\n",
    "**1.4.1 <font color=grey>Tab Completion: </font>** Tab-completion does what it says: when you press `tab` it completes what you're typing as if it knows what it is."
   ]
  },
  {
   "cell_type": "code",
   "execution_count": 4,
   "metadata": {
    "colab": {
     "base_uri": "https://localhost:8080/",
     "height": 163
    },
    "colab_type": "code",
    "executionInfo": {
     "elapsed": 820,
     "status": "error",
     "timestamp": 1550508003488,
     "user": {
      "displayName": "A M Aditya",
      "photoUrl": "https://lh3.googleusercontent.com/-WI8p7JNWLic/AAAAAAAAAAI/AAAAAAAAAfs/vS8ElgH0p0c/s64/photo.jpg",
      "userId": "15341571102300750919"
     },
     "user_tz": -480
    },
    "id": "PpU1AGX91VB5",
    "outputId": "dadb5a0a-d03e-422d-e814-956ca1661fb4"
   },
   "outputs": [
    {
     "data": {
      "text/plain": [
       "int"
      ]
     },
     "execution_count": 4,
     "metadata": {},
     "output_type": "execute_result"
    }
   ],
   "source": [
    "type(num)"
   ]
  },
  {
   "cell_type": "code",
   "execution_count": 9,
   "metadata": {},
   "outputs": [
    {
     "name": "stdout",
     "output_type": "stream",
     "text": [
      "7,5,third value,False,None\n"
     ]
    }
   ],
   "source": [
    "print(7,num,\"third value\", False, None, sep=\",\")\n",
    "# shift tab to show docstring\n",
    "# default separator for print is space, unless you change it via sep=\",\"\n",
    "# strings should be wrapped in \"\""
   ]
  },
  {
   "cell_type": "markdown",
   "metadata": {
    "colab_type": "text",
    "id": "E3tGLqgb1VCE"
   },
   "source": [
    "__1.4.2  <font color=grey>Helpful documentation: </font>__ You hopefully noticed the lines starting with '#' and colored green.  Those lines are **comments**. Their purpose is to provide information to the person reading the code.  They help make code more readible and should be used intelligently. <br>\n",
    "However, commenting should be used for choices made by the developer of the code.  You should not typically provide information on things that are part of standard Python. <br>\n",
    "Fortunately, for those things, help is always a click away. Whenever you have a function whose working you are unsure about, you can have the Notebook look it up for you by pressing `Shift+Tab` inside the parentheses."
   ]
  },
  {
   "cell_type": "markdown",
   "metadata": {
    "colab_type": "text",
    "id": "yi0nKR-l1VCS"
   },
   "source": [
    "__1.4.3  <font color=grey> Commenting multiple lines: </font>__ You can also easily comment multiple lines. Just select multiple lines with your cursor and then press `Cmd and /` (`Ctrl and /` for Windows) <br>\n",
    "(You can uncomment multiple lines with the same key command)"
   ]
  },
  {
   "cell_type": "code",
   "execution_count": null,
   "metadata": {
    "colab": {},
    "colab_type": "code",
    "id": "DAAp6Yct1VCV"
   },
   "outputs": [],
   "source": [
    "# multi line\n",
    "# tab"
   ]
  },
  {
   "cell_type": "markdown",
   "metadata": {
    "colab_type": "text",
    "id": "Qzn-SNUN1VCg"
   },
   "source": [
    "__1.4.4  <font color=grey> Indenting multiple lines: </font>__ As code gets complex, blocks of code (see above) can occur inside other blocks. As you write your code, you may change the structure of your program and may need to change the indentation of multiple lines of code.\n",
    "You can indent multiple lines by selecting them and then pressing `Tab`.\n",
    "To de-indent, you press `Shift+Tab` instead."
   ]
  },
  {
   "cell_type": "markdown",
   "metadata": {
    "colab_type": "text",
    "id": "4orH6a-K1VCl"
   },
   "source": [
    "There are more key commands if you're interested in using them.\n",
    "To see the list of keyboard commands just press `Esc` and then `h`, that will bring up the entire list of keyboard commands.\n",
    "But for now, that's more than enough to get going. Let's learn Python!"
   ]
  }
 ],
 "metadata": {
  "colab": {
   "collapsed_sections": [],
   "name": "Day1_1_Jupyter-Notebook-Introduction.ipynb",
   "provenance": []
  },
  "kernelspec": {
   "display_name": "Python 3 (ipykernel)",
   "language": "python",
   "name": "python3"
  },
  "language_info": {
   "codemirror_mode": {
    "name": "ipython",
    "version": 3
   },
   "file_extension": ".py",
   "mimetype": "text/x-python",
   "name": "python",
   "nbconvert_exporter": "python",
   "pygments_lexer": "ipython3",
   "version": "3.9.12"
  }
 },
 "nbformat": 4,
 "nbformat_minor": 1
}
