{
 "cells": [
  {
   "cell_type": "markdown",
   "metadata": {
    "colab_type": "text",
    "id": "A1GpRmthrMcm"
   },
   "source": [
    "## Visualization using Matplotlib - Synopsis\n",
    "\n",
    "Data visualization is a very important part of data analysis. You can use it to explore your data. If you understand your data well, you’ll have a better chance to find some insights.\n"
   ]
  },
  {
   "cell_type": "code",
   "execution_count": null,
   "metadata": {
    "colab": {},
    "colab_type": "code",
    "executionInfo": {
     "elapsed": 1296,
     "status": "ok",
     "timestamp": 1596273855347,
     "user": {
      "displayName": "A M Aditya",
      "photoUrl": "https://lh3.googleusercontent.com/a-/AOh14GgFVWgbF3Mg6wXstyZ41k2zGOCwgYmwsme0Ysan0cI=s64",
      "userId": "15341571102300750919"
     },
     "user_tz": -480
    },
    "id": "z-Jzmth8L7hv"
   },
   "outputs": [],
   "source": []
  },
  {
   "cell_type": "code",
   "execution_count": null,
   "metadata": {
    "colab": {
     "base_uri": "https://localhost:8080/",
     "height": 295
    },
    "colab_type": "code",
    "executionInfo": {
     "elapsed": 2762,
     "status": "ok",
     "timestamp": 1596273856874,
     "user": {
      "displayName": "A M Aditya",
      "photoUrl": "https://lh3.googleusercontent.com/a-/AOh14GgFVWgbF3Mg6wXstyZ41k2zGOCwgYmwsme0Ysan0cI=s64",
      "userId": "15341571102300750919"
     },
     "user_tz": -480
    },
    "id": "T9ocNZvbmqOO",
    "outputId": "94a34fa8-7b2e-4cb3-d103-d869435bedf4"
   },
   "outputs": [],
   "source": []
  },
  {
   "cell_type": "code",
   "execution_count": null,
   "metadata": {
    "colab": {
     "base_uri": "https://localhost:8080/",
     "height": 350
    },
    "colab_type": "code",
    "executionInfo": {
     "elapsed": 805,
     "status": "ok",
     "timestamp": 1589015705441,
     "user": {
      "displayName": "Desmond Sek",
      "photoUrl": "https://lh3.googleusercontent.com/a-/AOh14GjQj9ANFvLsRLkJAoNiRe9I6br32aYvAs1rqTwiF6M=s64",
      "userId": "15004601375355093954"
     },
     "user_tz": -480
    },
    "id": "UavGlMqzBfdK",
    "outputId": "e3ebdd60-4078-4e3b-bb2a-b847d42089fe"
   },
   "outputs": [],
   "source": []
  },
  {
   "cell_type": "code",
   "execution_count": null,
   "metadata": {
    "colab": {
     "base_uri": "https://localhost:8080/",
     "height": 279
    },
    "colab_type": "code",
    "executionInfo": {
     "elapsed": 1621,
     "status": "ok",
     "timestamp": 1589015873531,
     "user": {
      "displayName": "Desmond Sek",
      "photoUrl": "https://lh3.googleusercontent.com/a-/AOh14GjQj9ANFvLsRLkJAoNiRe9I6br32aYvAs1rqTwiF6M=s64",
      "userId": "15004601375355093954"
     },
     "user_tz": -480
    },
    "id": "mJexiBoyBwmC",
    "outputId": "482341d1-034f-4541-f822-0f6c140a4c0d"
   },
   "outputs": [],
   "source": []
  },
  {
   "cell_type": "code",
   "execution_count": null,
   "metadata": {
    "colab": {
     "base_uri": "https://localhost:8080/",
     "height": 295
    },
    "colab_type": "code",
    "executionInfo": {
     "elapsed": 1313,
     "status": "ok",
     "timestamp": 1589016260917,
     "user": {
      "displayName": "Desmond Sek",
      "photoUrl": "https://lh3.googleusercontent.com/a-/AOh14GjQj9ANFvLsRLkJAoNiRe9I6br32aYvAs1rqTwiF6M=s64",
      "userId": "15004601375355093954"
     },
     "user_tz": -480
    },
    "id": "UihtfTWTB9yE",
    "outputId": "51581b02-2efb-4618-f930-67dfb1afd5c2"
   },
   "outputs": [],
   "source": []
  },
  {
   "cell_type": "markdown",
   "metadata": {
    "colab_type": "text",
    "id": "jInHZ8GfDvj7"
   },
   "source": [
    "### Subplots using matplotlib - When multiple plots need to be shown"
   ]
  },
  {
   "cell_type": "code",
   "execution_count": null,
   "metadata": {
    "colab": {
     "base_uri": "https://localhost:8080/",
     "height": 516
    },
    "colab_type": "code",
    "executionInfo": {
     "elapsed": 2112,
     "status": "ok",
     "timestamp": 1583566795676,
     "user": {
      "displayName": "A M Aditya",
      "photoUrl": "https://lh3.googleusercontent.com/a-/AOh14Gi0QW8fL6S6cJ9NnUDYnuL7qjODdLex2Wro__xuGYA=s64",
      "userId": "15341571102300750919"
     },
     "user_tz": -480
    },
    "id": "qodW7xruDOo3",
    "outputId": "37bc0f53-79f1-4404-c474-60f64528c6ea"
   },
   "outputs": [],
   "source": []
  },
  {
   "cell_type": "markdown",
   "metadata": {
    "colab_type": "text",
    "id": "YkjQlQ2zEpow"
   },
   "source": [
    "### How do you save figures to a file?"
   ]
  },
  {
   "cell_type": "code",
   "execution_count": null,
   "metadata": {
    "colab": {
     "base_uri": "https://localhost:8080/",
     "height": 34
    },
    "colab_type": "code",
    "executionInfo": {
     "elapsed": 1109,
     "status": "ok",
     "timestamp": 1583566800684,
     "user": {
      "displayName": "A M Aditya",
      "photoUrl": "https://lh3.googleusercontent.com/a-/AOh14Gi0QW8fL6S6cJ9NnUDYnuL7qjODdLex2Wro__xuGYA=s64",
      "userId": "15341571102300750919"
     },
     "user_tz": -480
    },
    "id": "h7f8qpdFD0eK",
    "outputId": "765661eb-563b-4467-9863-fd75b26a3c6d"
   },
   "outputs": [],
   "source": []
  },
  {
   "cell_type": "markdown",
   "metadata": {
    "colab_type": "text",
    "id": "XXiWk3TBHMqG"
   },
   "source": [
    "**This is the end of this workshop.You have learnt how to plot basic plots using matplotlib.**\n",
    "\n",
    "`We will learn more advanced visualizations using some other libraries in the Data Analytics and Interactive Dashboards using Python course.`"
   ]
  }
 ],
 "metadata": {
  "colab": {
   "collapsed_sections": [],
   "name": "3_Data-Visualization.ipynb",
   "provenance": []
  },
  "kernelspec": {
   "display_name": "Python 3",
   "language": "python",
   "name": "python3"
  },
  "language_info": {
   "codemirror_mode": {
    "name": "ipython",
    "version": 3
   },
   "file_extension": ".py",
   "mimetype": "text/x-python",
   "name": "python",
   "nbconvert_exporter": "python",
   "pygments_lexer": "ipython3",
   "version": "3.7.3"
  }
 },
 "nbformat": 4,
 "nbformat_minor": 1
}
